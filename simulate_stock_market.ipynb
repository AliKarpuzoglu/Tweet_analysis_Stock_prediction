{
 "cells": [
  {
   "cell_type": "code",
   "execution_count": 7,
   "metadata": {},
   "outputs": [
    {
     "name": "stdout",
     "output_type": "stream",
     "text": [
      "Collecting yfinance\n",
      "Requirement already satisfied: requests>=2.20 in /Users/ali/anaconda3/lib/python3.7/site-packages (from yfinance) (2.22.0)\n",
      "Requirement already satisfied: pandas>=0.24 in /Users/ali/anaconda3/lib/python3.7/site-packages (from yfinance) (0.25.1)\n",
      "Collecting multitasking>=0.0.7 (from yfinance)\n",
      "Requirement already satisfied: numpy>=1.15 in /Users/ali/anaconda3/lib/python3.7/site-packages (from yfinance) (1.17.2)\n",
      "Requirement already satisfied: chardet<3.1.0,>=3.0.2 in /Users/ali/anaconda3/lib/python3.7/site-packages (from requests>=2.20->yfinance) (3.0.4)\n",
      "Requirement already satisfied: urllib3!=1.25.0,!=1.25.1,<1.26,>=1.21.1 in /Users/ali/anaconda3/lib/python3.7/site-packages (from requests>=2.20->yfinance) (1.24.2)\n",
      "Requirement already satisfied: idna<2.9,>=2.5 in /Users/ali/anaconda3/lib/python3.7/site-packages (from requests>=2.20->yfinance) (2.8)\n",
      "Requirement already satisfied: certifi>=2017.4.17 in /Users/ali/anaconda3/lib/python3.7/site-packages (from requests>=2.20->yfinance) (2019.9.11)\n",
      "Requirement already satisfied: python-dateutil>=2.6.1 in /Users/ali/anaconda3/lib/python3.7/site-packages (from pandas>=0.24->yfinance) (2.8.0)\n",
      "Requirement already satisfied: pytz>=2017.2 in /Users/ali/anaconda3/lib/python3.7/site-packages (from pandas>=0.24->yfinance) (2019.3)\n",
      "Requirement already satisfied: six>=1.5 in /Users/ali/anaconda3/lib/python3.7/site-packages (from python-dateutil>=2.6.1->pandas>=0.24->yfinance) (1.12.0)\n",
      "Installing collected packages: multitasking, yfinance\n",
      "Successfully installed multitasking-0.0.9 yfinance-0.1.54\n"
     ]
    }
   ],
   "source": [
    "import numpy as np\n",
    "#!pip install yfinance\n",
    "import yfinance as yf\n",
    "from random import randint\n",
    "import matplotlib.pyplot as plt\n"
   ]
  },
  {
   "cell_type": "code",
   "execution_count": 8,
   "metadata": {},
   "outputs": [
    {
     "name": "stdout",
     "output_type": "stream",
     "text": [
      "Open                311.60\n",
      "High                318.60\n",
      "Low                 310.50\n",
      "Close               312.84\n",
      "Volume          7129700.00\n",
      "Dividends             0.00\n",
      "Stock Splits          0.00\n",
      "Name: 2019-02-11 00:00:00, dtype: float64\n"
     ]
    }
   ],
   "source": [
    "# takes quite long\n",
    "tsla = yf.Ticker(\"TSLA\")\n",
    "dataset = tsla.history(period=\"1y\")\n",
    "print(dataset.iloc[0])\n"
   ]
  },
  {
   "cell_type": "code",
   "execution_count": 25,
   "metadata": {},
   "outputs": [],
   "source": [
    "class Person:\n",
    "    capital = 10000 # USD \n",
    "    amount_of_stock = 10\n",
    "    buying_rate = 1 # #/day\n",
    "    buy_or_sell = [] # 1 = buy, -1 = sell, 0= do nothing\n",
    "    history = []\n",
    "    '''\n",
    "        both buying and selling is defined at Market open,\n",
    "        the options are:\n",
    "        Open                 \n",
    "        High                 \n",
    "        Low                  \n",
    "        Close               \n",
    "\n",
    "    '''\n",
    "    timing = 'Open'\n",
    "    \n",
    "    def __init__(self,random_list=0,buy_or_sell=[]):\n",
    "        if random_list>0:\n",
    "            self.buy_or_sell = [randint(-2,2) for x in range(random_list)]\n",
    "        print(self.buy_or_sell)\n",
    "    \n",
    "    def stock_action(self):\n",
    "        print(self.buy_or_sell)\n",
    "\n",
    "        for counter,action in enumerate(self.buy_or_sell):\n",
    "            if action >= 1:\n",
    "                self.buy_if_money(action,counter)\n",
    "            if action<0:\n",
    "                self.sell_if_stock(abs(action),counter)\n",
    "            self.print_state(counter)\n",
    "        self.visualize_money()\n",
    "\n",
    "    def buy_if_money(self, amount, day):\n",
    "        stock_price = dataset.iloc[day][self.timing]\n",
    "        amount_to_buy = min(amount,int(self.capital/stock_price)) # if we can't buy as many as we like, \n",
    "        #we buy the most we can\n",
    "        self.capital = self.capital - amount_to_buy*stock_price\n",
    "        self.amount_of_stock = self.amount_of_stock + amount_to_buy\n",
    "        if amount > int(self.capital/stock_price):\n",
    "            print(\"couldn't buy all we wanted\")\n",
    "\n",
    "\n",
    "    def sell_if_stock(self,amount,day):\n",
    "        stock_price = dataset.iloc[day][self.timing]\n",
    "        amount_to_sell = min(amount,self.amount_of_stock) # if we can't sell as many as we like, \n",
    "        #we sell the most we can\n",
    "        self.capital = self.capital + amount_to_sell*stock_price\n",
    "        self.amount_of_stock = self.amount_of_stock - amount_to_sell\n",
    "        if amount > self.amount_of_stock:\n",
    "            print(\"couldn't sell all we wanted\")\n",
    "\n",
    "    def print_state(self,counter):\n",
    "        stock_price = dataset.iloc[counter][self.timing]\n",
    "        self.history.append(self.capital+self.amount_of_stock*stock_price)\n",
    "        print(f\"Day {counter}, Amount of Stock: {self.amount_of_stock}, Capital: {self.capital}, Net Worth= {self.capital+self.amount_of_stock*stock_price}\")\n",
    "    \n",
    "    def visualize_money(self):\n",
    "        plt.plot(self.history)\n",
    "        plt.ylabel('money')\n",
    "        plt.xlabel('day')\n",
    "        plt.show()\n"
   ]
  },
  {
   "cell_type": "code",
   "execution_count": 36,
   "metadata": {},
   "outputs": [
    {
     "ename": "NameError",
     "evalue": "name 'Perso' is not defined",
     "output_type": "error",
     "traceback": [
      "\u001b[0;31m---------------------------------------------------------------------------\u001b[0m",
      "\u001b[0;31mNameError\u001b[0m                                 Traceback (most recent call last)",
      "\u001b[0;32m<ipython-input-36-482b13e4ecd4>\u001b[0m in \u001b[0;36m<module>\u001b[0;34m\u001b[0m\n\u001b[1;32m     13\u001b[0m \u001b[0;34m\u001b[0m\u001b[0m\n\u001b[1;32m     14\u001b[0m \u001b[0;34m\u001b[0m\u001b[0m\n\u001b[0;32m---> 15\u001b[0;31m \u001b[0mtrial_1\u001b[0m \u001b[0;34m=\u001b[0m \u001b[0mPerso\u001b[0m\u001b[0;34m\u001b[0m\u001b[0;34m\u001b[0m\u001b[0m\n\u001b[0m\u001b[1;32m     16\u001b[0m \u001b[0mn\u001b[0m\u001b[0;34m(\u001b[0m\u001b[0mrandom_list\u001b[0m\u001b[0;34m=\u001b[0m\u001b[0;36m100\u001b[0m\u001b[0;34m)\u001b[0m\u001b[0;34m\u001b[0m\u001b[0;34m\u001b[0m\u001b[0m\n\u001b[1;32m     17\u001b[0m \u001b[0mtrial_1\u001b[0m\u001b[0;34m.\u001b[0m\u001b[0mstock_action\u001b[0m\u001b[0;34m(\u001b[0m\u001b[0;34m)\u001b[0m\u001b[0;34m\u001b[0m\u001b[0;34m\u001b[0m\u001b[0m\n",
      "\u001b[0;31mNameError\u001b[0m: name 'Perso' is not defined"
     ]
    }
   ],
   "source": [
    "'''\n",
    "How to use:\n",
    "set a buy_or_sell list as a parameter :\n",
    "\n",
    "trial_1 = Person(buy_or_sell=[1,2,3]) \n",
    "or set it later\n",
    "or generate a random list (default =0)\n",
    "trial_1 = Person(random_list=100)\n",
    "\n",
    "\n",
    "stock_action then runs the simulation\n",
    "'''\n",
    "\n",
    "\n",
    "trial_1 = Person(random_list=100)\n",
    "trial_1.stock_action()\n"
   ]
  },
  {
   "cell_type": "markdown",
   "metadata": {},
   "source": [
    "#"
   ]
  },
  {
   "cell_type": "code",
   "execution_count": null,
   "metadata": {},
   "outputs": [],
   "source": []
  }
 ],
 "metadata": {
  "kernelspec": {
   "display_name": "Python 3",
   "language": "python",
   "name": "python3"
  },
  "language_info": {
   "codemirror_mode": {
    "name": "ipython",
    "version": 3
   },
   "file_extension": ".py",
   "mimetype": "text/x-python",
   "name": "python",
   "nbconvert_exporter": "python",
   "pygments_lexer": "ipython3",
   "version": "3.7.4"
  }
 },
 "nbformat": 4,
 "nbformat_minor": 2
}
