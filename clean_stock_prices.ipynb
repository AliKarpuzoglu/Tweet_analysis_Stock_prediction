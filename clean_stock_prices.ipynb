{
 "cells": [
  {
   "cell_type": "markdown",
   "metadata": {},
   "source": [
    "#TSLA Stock market prediction\n"
   ]
  },
  {
   "cell_type": "code",
   "execution_count": 11,
   "metadata": {},
   "outputs": [
    {
     "name": "stdout",
     "output_type": "stream",
     "text": "Requirement already satisfied: yfinance in /home/jonas/Documents/NLP4Web/.venv/lib/python3.7/site-packages (0.1.54)\nRequirement already satisfied: pandas>=0.24 in /home/jonas/Documents/NLP4Web/.venv/lib/python3.7/site-packages (from yfinance) (1.0.1)\nRequirement already satisfied: numpy>=1.15 in /home/jonas/Documents/NLP4Web/.venv/lib/python3.7/site-packages (from yfinance) (1.18.1)\nRequirement already satisfied: requests>=2.20 in /home/jonas/Documents/NLP4Web/.venv/lib/python3.7/site-packages (from yfinance) (2.22.0)\nRequirement already satisfied: multitasking>=0.0.7 in /home/jonas/Documents/NLP4Web/.venv/lib/python3.7/site-packages (from yfinance) (0.0.9)\nRequirement already satisfied: pytz>=2017.2 in /home/jonas/Documents/NLP4Web/.venv/lib/python3.7/site-packages (from pandas>=0.24->yfinance) (2019.3)\nRequirement already satisfied: python-dateutil>=2.6.1 in /home/jonas/Documents/NLP4Web/.venv/lib/python3.7/site-packages (from pandas>=0.24->yfinance) (2.8.1)\nRequirement already satisfied: idna<2.9,>=2.5 in /home/jonas/Documents/NLP4Web/.venv/lib/python3.7/site-packages (from requests>=2.20->yfinance) (2.8)\nRequirement already satisfied: urllib3!=1.25.0,!=1.25.1,<1.26,>=1.21.1 in /home/jonas/Documents/NLP4Web/.venv/lib/python3.7/site-packages (from requests>=2.20->yfinance) (1.25.8)\nRequirement already satisfied: chardet<3.1.0,>=3.0.2 in /home/jonas/Documents/NLP4Web/.venv/lib/python3.7/site-packages (from requests>=2.20->yfinance) (3.0.4)\nRequirement already satisfied: certifi>=2017.4.17 in /home/jonas/Documents/NLP4Web/.venv/lib/python3.7/site-packages (from requests>=2.20->yfinance) (2019.11.28)\nRequirement already satisfied: six>=1.5 in /home/jonas/Documents/NLP4Web/.venv/lib/python3.7/site-packages (from python-dateutil>=2.6.1->pandas>=0.24->yfinance) (1.14.0)\n\u001b[33mYou are using pip version 19.0.3, however version 20.0.2 is available.\nYou should consider upgrading via the 'pip install --upgrade pip' command.\u001b[0m\n"
    }
   ],
   "source": [
    "# first install the yahoo finance library if you don't have it already\n",
    "!pip install yfinance"
   ]
  },
  {
   "cell_type": "code",
   "execution_count": 12,
   "metadata": {},
   "outputs": [],
   "source": [
    "import numpy as np\n",
    "import yfinance as yf"
   ]
  },
  {
   "cell_type": "code",
   "execution_count": 13,
   "metadata": {},
   "outputs": [
    {
     "name": "stdout",
     "output_type": "stream",
     "text": "yfinance.Ticker object <TSLA>\n"
    },
    {
     "data": {
      "text/html": "<div>\n<style scoped>\n    .dataframe tbody tr th:only-of-type {\n        vertical-align: middle;\n    }\n\n    .dataframe tbody tr th {\n        vertical-align: top;\n    }\n\n    .dataframe thead th {\n        text-align: right;\n    }\n</style>\n<table border=\"1\" class=\"dataframe\">\n  <thead>\n    <tr style=\"text-align: right;\">\n      <th></th>\n      <th>Open</th>\n      <th>High</th>\n      <th>Low</th>\n      <th>Close</th>\n      <th>Volume</th>\n      <th>Dividends</th>\n      <th>Stock Splits</th>\n    </tr>\n    <tr>\n      <th>Date</th>\n      <th></th>\n      <th></th>\n      <th></th>\n      <th></th>\n      <th></th>\n      <th></th>\n      <th></th>\n    </tr>\n  </thead>\n  <tbody>\n    <tr>\n      <th>2010-06-29</th>\n      <td>19.00</td>\n      <td>25.00</td>\n      <td>17.54</td>\n      <td>23.89</td>\n      <td>18766300</td>\n      <td>0</td>\n      <td>0</td>\n    </tr>\n    <tr>\n      <th>2010-06-30</th>\n      <td>25.79</td>\n      <td>30.42</td>\n      <td>23.30</td>\n      <td>23.83</td>\n      <td>17187100</td>\n      <td>0</td>\n      <td>0</td>\n    </tr>\n    <tr>\n      <th>2010-07-01</th>\n      <td>25.00</td>\n      <td>25.92</td>\n      <td>20.27</td>\n      <td>21.96</td>\n      <td>8218800</td>\n      <td>0</td>\n      <td>0</td>\n    </tr>\n    <tr>\n      <th>2010-07-02</th>\n      <td>23.00</td>\n      <td>23.10</td>\n      <td>18.71</td>\n      <td>19.20</td>\n      <td>5139800</td>\n      <td>0</td>\n      <td>0</td>\n    </tr>\n    <tr>\n      <th>2010-07-06</th>\n      <td>20.00</td>\n      <td>20.00</td>\n      <td>15.83</td>\n      <td>16.11</td>\n      <td>6866900</td>\n      <td>0</td>\n      <td>0</td>\n    </tr>\n    <tr>\n      <th>...</th>\n      <td>...</td>\n      <td>...</td>\n      <td>...</td>\n      <td>...</td>\n      <td>...</td>\n      <td>...</td>\n      <td>...</td>\n    </tr>\n    <tr>\n      <th>2020-02-04</th>\n      <td>882.96</td>\n      <td>968.99</td>\n      <td>833.88</td>\n      <td>887.06</td>\n      <td>60938800</td>\n      <td>0</td>\n      <td>0</td>\n    </tr>\n    <tr>\n      <th>2020-02-05</th>\n      <td>823.26</td>\n      <td>845.98</td>\n      <td>704.11</td>\n      <td>734.70</td>\n      <td>48423800</td>\n      <td>0</td>\n      <td>0</td>\n    </tr>\n    <tr>\n      <th>2020-02-06</th>\n      <td>699.92</td>\n      <td>795.83</td>\n      <td>687.00</td>\n      <td>748.96</td>\n      <td>39880800</td>\n      <td>0</td>\n      <td>0</td>\n    </tr>\n    <tr>\n      <th>2020-02-07</th>\n      <td>730.55</td>\n      <td>769.75</td>\n      <td>730.00</td>\n      <td>748.07</td>\n      <td>17063500</td>\n      <td>0</td>\n      <td>0</td>\n    </tr>\n    <tr>\n      <th>2020-02-10</th>\n      <td>800.00</td>\n      <td>819.99</td>\n      <td>752.40</td>\n      <td>771.28</td>\n      <td>24658700</td>\n      <td>0</td>\n      <td>0</td>\n    </tr>\n  </tbody>\n</table>\n<p>2421 rows × 7 columns</p>\n</div>",
      "text/plain": "              Open    High     Low   Close    Volume  Dividends  Stock Splits\nDate                                                                         \n2010-06-29   19.00   25.00   17.54   23.89  18766300          0             0\n2010-06-30   25.79   30.42   23.30   23.83  17187100          0             0\n2010-07-01   25.00   25.92   20.27   21.96   8218800          0             0\n2010-07-02   23.00   23.10   18.71   19.20   5139800          0             0\n2010-07-06   20.00   20.00   15.83   16.11   6866900          0             0\n...            ...     ...     ...     ...       ...        ...           ...\n2020-02-04  882.96  968.99  833.88  887.06  60938800          0             0\n2020-02-05  823.26  845.98  704.11  734.70  48423800          0             0\n2020-02-06  699.92  795.83  687.00  748.96  39880800          0             0\n2020-02-07  730.55  769.75  730.00  748.07  17063500          0             0\n2020-02-10  800.00  819.99  752.40  771.28  24658700          0             0\n\n[2421 rows x 7 columns]"
     },
     "execution_count": 13,
     "metadata": {},
     "output_type": "execute_result"
    }
   ],
   "source": [
    "tsla = yf.Ticker(\"TSLA\")\n",
    "print(tsla)\n",
    "# uncomment to get all data\n",
    "tsla.history(period=\"max\")\n"
   ]
  },
  {
   "cell_type": "markdown",
   "metadata": {},
   "source": [
    "### Prepare data for training"
   ]
  },
  {
   "cell_type": "code",
   "execution_count": 14,
   "metadata": {},
   "outputs": [
    {
     "data": {
      "text/html": "<div>\n<style scoped>\n    .dataframe tbody tr th:only-of-type {\n        vertical-align: middle;\n    }\n\n    .dataframe tbody tr th {\n        vertical-align: top;\n    }\n\n    .dataframe thead th {\n        text-align: right;\n    }\n</style>\n<table border=\"1\" class=\"dataframe\">\n  <thead>\n    <tr style=\"text-align: right;\">\n      <th></th>\n      <th>Open</th>\n      <th>High</th>\n      <th>Low</th>\n      <th>Close</th>\n      <th>Volume</th>\n      <th>Dividends</th>\n      <th>Stock Splits</th>\n    </tr>\n    <tr>\n      <th>Date</th>\n      <th></th>\n      <th></th>\n      <th></th>\n      <th></th>\n      <th></th>\n      <th></th>\n      <th></th>\n    </tr>\n  </thead>\n  <tbody>\n    <tr>\n      <th>2018-01-02</th>\n      <td>312.00</td>\n      <td>322.11</td>\n      <td>311.00</td>\n      <td>320.53</td>\n      <td>4352200</td>\n      <td>0</td>\n      <td>0</td>\n    </tr>\n    <tr>\n      <th>2018-01-03</th>\n      <td>321.00</td>\n      <td>325.25</td>\n      <td>315.55</td>\n      <td>317.25</td>\n      <td>4521500</td>\n      <td>0</td>\n      <td>0</td>\n    </tr>\n    <tr>\n      <th>2018-01-04</th>\n      <td>312.87</td>\n      <td>318.55</td>\n      <td>305.68</td>\n      <td>314.62</td>\n      <td>9946300</td>\n      <td>0</td>\n      <td>0</td>\n    </tr>\n    <tr>\n      <th>2018-01-05</th>\n      <td>316.62</td>\n      <td>317.24</td>\n      <td>312.00</td>\n      <td>316.58</td>\n      <td>4591200</td>\n      <td>0</td>\n      <td>0</td>\n    </tr>\n    <tr>\n      <th>2018-01-08</th>\n      <td>316.00</td>\n      <td>337.02</td>\n      <td>315.50</td>\n      <td>336.41</td>\n      <td>9859400</td>\n      <td>0</td>\n      <td>0</td>\n    </tr>\n    <tr>\n      <th>...</th>\n      <td>...</td>\n      <td>...</td>\n      <td>...</td>\n      <td>...</td>\n      <td>...</td>\n      <td>...</td>\n      <td>...</td>\n    </tr>\n    <tr>\n      <th>2018-05-29</th>\n      <td>278.51</td>\n      <td>286.50</td>\n      <td>276.15</td>\n      <td>283.76</td>\n      <td>5666600</td>\n      <td>0</td>\n      <td>0</td>\n    </tr>\n    <tr>\n      <th>2018-05-30</th>\n      <td>283.29</td>\n      <td>295.01</td>\n      <td>281.60</td>\n      <td>291.72</td>\n      <td>7489700</td>\n      <td>0</td>\n      <td>0</td>\n    </tr>\n    <tr>\n      <th>2018-05-31</th>\n      <td>287.21</td>\n      <td>290.37</td>\n      <td>282.93</td>\n      <td>284.73</td>\n      <td>5919700</td>\n      <td>0</td>\n      <td>0</td>\n    </tr>\n    <tr>\n      <th>2018-06-01</th>\n      <td>285.86</td>\n      <td>291.95</td>\n      <td>283.84</td>\n      <td>291.82</td>\n      <td>5424400</td>\n      <td>0</td>\n      <td>0</td>\n    </tr>\n    <tr>\n      <th>2018-06-04</th>\n      <td>294.34</td>\n      <td>299.00</td>\n      <td>293.55</td>\n      <td>296.74</td>\n      <td>4797800</td>\n      <td>0</td>\n      <td>0</td>\n    </tr>\n  </tbody>\n</table>\n<p>106 rows × 7 columns</p>\n</div>",
      "text/plain": "              Open    High     Low   Close   Volume  Dividends  Stock Splits\nDate                                                                        \n2018-01-02  312.00  322.11  311.00  320.53  4352200          0             0\n2018-01-03  321.00  325.25  315.55  317.25  4521500          0             0\n2018-01-04  312.87  318.55  305.68  314.62  9946300          0             0\n2018-01-05  316.62  317.24  312.00  316.58  4591200          0             0\n2018-01-08  316.00  337.02  315.50  336.41  9859400          0             0\n...            ...     ...     ...     ...      ...        ...           ...\n2018-05-29  278.51  286.50  276.15  283.76  5666600          0             0\n2018-05-30  283.29  295.01  281.60  291.72  7489700          0             0\n2018-05-31  287.21  290.37  282.93  284.73  5919700          0             0\n2018-06-01  285.86  291.95  283.84  291.82  5424400          0             0\n2018-06-04  294.34  299.00  293.55  296.74  4797800          0             0\n\n[106 rows x 7 columns]"
     },
     "execution_count": 14,
     "metadata": {},
     "output_type": "execute_result"
    }
   ],
   "source": [
    "stocks = tsla.history(start='2018-01-01', end='2018-06-05')\n",
    "stocks"
   ]
  },
  {
   "cell_type": "markdown",
   "metadata": {},
   "source": [
    "### Observation:\n",
    "There are 34 days of data missing"
   ]
  },
  {
   "cell_type": "code",
   "execution_count": 15,
   "metadata": {},
   "outputs": [
    {
     "name": "stdout",
     "output_type": "stream",
     "text": "Index(['Open', 'High', 'Low', 'Close', 'Volume', 'Dividends', 'Stock Splits'], dtype='object')\n"
    },
    {
     "data": {
      "text/html": "<div>\n<style scoped>\n    .dataframe tbody tr th:only-of-type {\n        vertical-align: middle;\n    }\n\n    .dataframe tbody tr th {\n        vertical-align: top;\n    }\n\n    .dataframe thead th {\n        text-align: right;\n    }\n</style>\n<table border=\"1\" class=\"dataframe\">\n  <thead>\n    <tr style=\"text-align: right;\">\n      <th></th>\n      <th>Open</th>\n      <th>Close</th>\n    </tr>\n    <tr>\n      <th>Date</th>\n      <th></th>\n      <th></th>\n    </tr>\n  </thead>\n  <tbody>\n    <tr>\n      <th>2018-01-02</th>\n      <td>312.00</td>\n      <td>320.53</td>\n    </tr>\n    <tr>\n      <th>2018-01-03</th>\n      <td>321.00</td>\n      <td>317.25</td>\n    </tr>\n    <tr>\n      <th>2018-01-04</th>\n      <td>312.87</td>\n      <td>314.62</td>\n    </tr>\n    <tr>\n      <th>2018-01-05</th>\n      <td>316.62</td>\n      <td>316.58</td>\n    </tr>\n    <tr>\n      <th>2018-01-08</th>\n      <td>316.00</td>\n      <td>336.41</td>\n    </tr>\n  </tbody>\n</table>\n</div>",
      "text/plain": "              Open   Close\nDate                      \n2018-01-02  312.00  320.53\n2018-01-03  321.00  317.25\n2018-01-04  312.87  314.62\n2018-01-05  316.62  316.58\n2018-01-08  316.00  336.41"
     },
     "execution_count": 15,
     "metadata": {},
     "output_type": "execute_result"
    }
   ],
   "source": [
    "# drop unneccessary columns\n",
    "print(stocks.columns)\n",
    "stocks.drop(columns='High Low Volume Dividends'.split()+[\"Stock Splits\"], inplace=True)\n",
    "stocks.head()"
   ]
  },
  {
   "cell_type": "code",
   "execution_count": 16,
   "metadata": {},
   "outputs": [
    {
     "data": {
      "text/html": "<div>\n<style scoped>\n    .dataframe tbody tr th:only-of-type {\n        vertical-align: middle;\n    }\n\n    .dataframe tbody tr th {\n        vertical-align: top;\n    }\n\n    .dataframe thead th {\n        text-align: right;\n    }\n</style>\n<table border=\"1\" class=\"dataframe\">\n  <thead>\n    <tr style=\"text-align: right;\">\n      <th></th>\n      <th>Open</th>\n      <th>Close</th>\n      <th>PriceUp</th>\n    </tr>\n    <tr>\n      <th>Date</th>\n      <th></th>\n      <th></th>\n      <th></th>\n    </tr>\n  </thead>\n  <tbody>\n    <tr>\n      <th>2018-01-02</th>\n      <td>312.00</td>\n      <td>320.53</td>\n      <td>True</td>\n    </tr>\n    <tr>\n      <th>2018-01-03</th>\n      <td>321.00</td>\n      <td>317.25</td>\n      <td>False</td>\n    </tr>\n    <tr>\n      <th>2018-01-04</th>\n      <td>312.87</td>\n      <td>314.62</td>\n      <td>True</td>\n    </tr>\n    <tr>\n      <th>2018-01-05</th>\n      <td>316.62</td>\n      <td>316.58</td>\n      <td>False</td>\n    </tr>\n    <tr>\n      <th>2018-01-08</th>\n      <td>316.00</td>\n      <td>336.41</td>\n      <td>True</td>\n    </tr>\n  </tbody>\n</table>\n</div>",
      "text/plain": "              Open   Close  PriceUp\nDate                               \n2018-01-02  312.00  320.53     True\n2018-01-03  321.00  317.25    False\n2018-01-04  312.87  314.62     True\n2018-01-05  316.62  316.58    False\n2018-01-08  316.00  336.41     True"
     },
     "execution_count": 16,
     "metadata": {},
     "output_type": "execute_result"
    }
   ],
   "source": [
    "# create label indicating if stock market has grown during the day (Close > Open)\n",
    "stocks['PriceUp'] = stocks['Open'] < stocks['Close']\n",
    "stocks.head()"
   ]
  },
  {
   "cell_type": "code",
   "execution_count": 17,
   "metadata": {},
   "outputs": [
    {
     "data": {
      "text/plain": "True     55\nFalse    51\nName: PriceUp, dtype: int64"
     },
     "execution_count": 17,
     "metadata": {},
     "output_type": "execute_result"
    }
   ],
   "source": [
    "# check if the new column has equally distributed values\n",
    "stocks.PriceUp.value_counts()"
   ]
  },
  {
   "cell_type": "markdown",
   "metadata": {},
   "source": [
    "### Discussion\n",
    "We have an even distribution between positive and negative examples, which is good for training."
   ]
  },
  {
   "cell_type": "code",
   "execution_count": 18,
   "metadata": {},
   "outputs": [
    {
     "data": {
      "text/html": "<div>\n<style scoped>\n    .dataframe tbody tr th:only-of-type {\n        vertical-align: middle;\n    }\n\n    .dataframe tbody tr th {\n        vertical-align: top;\n    }\n\n    .dataframe thead th {\n        text-align: right;\n    }\n</style>\n<table border=\"1\" class=\"dataframe\">\n  <thead>\n    <tr style=\"text-align: right;\">\n      <th></th>\n      <th>Open</th>\n      <th>Close</th>\n      <th>PriceUp</th>\n    </tr>\n    <tr>\n      <th>Date</th>\n      <th></th>\n      <th></th>\n      <th></th>\n    </tr>\n  </thead>\n  <tbody>\n    <tr>\n      <th>2018-01-02</th>\n      <td>312.00</td>\n      <td>320.53</td>\n      <td>True</td>\n    </tr>\n    <tr>\n      <th>2018-01-03</th>\n      <td>321.00</td>\n      <td>317.25</td>\n      <td>False</td>\n    </tr>\n    <tr>\n      <th>2018-01-04</th>\n      <td>312.87</td>\n      <td>314.62</td>\n      <td>True</td>\n    </tr>\n    <tr>\n      <th>2018-01-05</th>\n      <td>316.62</td>\n      <td>316.58</td>\n      <td>False</td>\n    </tr>\n    <tr>\n      <th>2018-01-08</th>\n      <td>316.00</td>\n      <td>336.41</td>\n      <td>True</td>\n    </tr>\n    <tr>\n      <th>...</th>\n      <td>...</td>\n      <td>...</td>\n      <td>...</td>\n    </tr>\n    <tr>\n      <th>2018-05-29</th>\n      <td>278.51</td>\n      <td>283.76</td>\n      <td>True</td>\n    </tr>\n    <tr>\n      <th>2018-05-30</th>\n      <td>283.29</td>\n      <td>291.72</td>\n      <td>True</td>\n    </tr>\n    <tr>\n      <th>2018-05-31</th>\n      <td>287.21</td>\n      <td>284.73</td>\n      <td>False</td>\n    </tr>\n    <tr>\n      <th>2018-06-01</th>\n      <td>285.86</td>\n      <td>291.82</td>\n      <td>True</td>\n    </tr>\n    <tr>\n      <th>2018-06-04</th>\n      <td>294.34</td>\n      <td>296.74</td>\n      <td>True</td>\n    </tr>\n  </tbody>\n</table>\n<p>106 rows × 3 columns</p>\n</div>",
      "text/plain": "              Open   Close  PriceUp\nDate                               \n2018-01-02  312.00  320.53     True\n2018-01-03  321.00  317.25    False\n2018-01-04  312.87  314.62     True\n2018-01-05  316.62  316.58    False\n2018-01-08  316.00  336.41     True\n...            ...     ...      ...\n2018-05-29  278.51  283.76     True\n2018-05-30  283.29  291.72     True\n2018-05-31  287.21  284.73    False\n2018-06-01  285.86  291.82     True\n2018-06-04  294.34  296.74     True\n\n[106 rows x 3 columns]"
     },
     "execution_count": 18,
     "metadata": {},
     "output_type": "execute_result"
    }
   ],
   "source": [
    "# check stocks again before saving\n",
    "stocks"
   ]
  },
  {
   "cell_type": "code",
   "execution_count": 19,
   "metadata": {},
   "outputs": [],
   "source": [
    "stocks.to_json('./processed_data/stock/stocks_cleaned.json')"
   ]
  },
  {
   "cell_type": "code",
   "execution_count": 20,
   "metadata": {},
   "outputs": [],
   "source": [
    "# uncomment to get the profile of the data\n",
    "# import pandas_profiling as profile\n",
    "# profile = profile.ProfileReport(stocks, title='Pandas Profiling Report', html={'style':{'full_width':True}})\n",
    "# profile.to_file(output_file=\"stocks_df_report.html\")\n",
    "# profile.to_notebook_iframe()"
   ]
  }
 ],
 "metadata": {
  "kernelspec": {
   "display_name": "Python 3",
   "language": "python",
   "name": "python3"
  },
  "language_info": {
   "codemirror_mode": {
    "name": "ipython",
    "version": 3
   },
   "file_extension": ".py",
   "mimetype": "text/x-python",
   "name": "python",
   "nbconvert_exporter": "python",
   "pygments_lexer": "ipython3",
   "version": "3.7.5"
  }
 },
 "nbformat": 4,
 "nbformat_minor": 4
}