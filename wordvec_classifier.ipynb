{
 "cells": [
  {
   "cell_type": "code",
   "execution_count": 35,
   "metadata": {},
   "outputs": [],
   "source": [
    "import spacy\n",
    "import numpy as np\n",
    "from sklearn.model_selection import train_test_split\n",
    "from sklearn.feature_extraction.text import CountVectorizer, TfidfVectorizer\n",
    "from sklearn import naive_bayes, svm, metrics\n",
    "import pandas as pd\n",
    "# reset colwitdth options when running all cells \n",
    "pd.reset_option('display.max_colwidth')"
   ]
  },
  {
   "cell_type": "markdown",
   "metadata": {},
   "source": [
    "#### Load dataset and group by day (all tweets and corresponding stock prices)"
   ]
  },
  {
   "cell_type": "code",
   "execution_count": 36,
   "metadata": {},
   "outputs": [
    {
     "data": {
      "text/html": "<div>\n<style scoped>\n    .dataframe tbody tr th:only-of-type {\n        vertical-align: middle;\n    }\n\n    .dataframe tbody tr th {\n        vertical-align: top;\n    }\n\n    .dataframe thead th {\n        text-align: right;\n    }\n</style>\n<table border=\"1\" class=\"dataframe\">\n  <thead>\n    <tr style=\"text-align: right;\">\n      <th></th>\n      <th>timestamp</th>\n      <th>hashtags</th>\n      <th>text</th>\n      <th>username</th>\n      <th>likes</th>\n      <th>replies</th>\n      <th>retweets</th>\n      <th>Open</th>\n      <th>Close</th>\n      <th>PriceUp</th>\n    </tr>\n  </thead>\n  <tbody>\n    <tr>\n      <th>4946</th>\n      <td>2018-06-04</td>\n      <td>[Tesla, Model3pic]</td>\n      <td>Report: Tesla Has Refunded 23% of Model 3 Depo...</td>\n      <td>Tesla Motors Club</td>\n      <td>91</td>\n      <td>13</td>\n      <td>13</td>\n      <td>294.34</td>\n      <td>296.74</td>\n      <td>True</td>\n    </tr>\n    <tr>\n      <th>4947</th>\n      <td>2018-06-04</td>\n      <td>[Tesla, NikolaTeslapic]</td>\n      <td>Make electricity free again! #Tesla #NikolaTes...</td>\n      <td>Mr A 🎶🎵 ♏</td>\n      <td>2</td>\n      <td>1</td>\n      <td>1</td>\n      <td>294.34</td>\n      <td>296.74</td>\n      <td>True</td>\n    </tr>\n    <tr>\n      <th>4948</th>\n      <td>2018-06-04</td>\n      <td>[Tesla, ElonMusk, CFD, forex, equitypic]</td>\n      <td>#Tesla #ElonMusk #CFD #forex #equitypic.twitte...</td>\n      <td>The Utkarsh</td>\n      <td>2</td>\n      <td>1</td>\n      <td>1</td>\n      <td>294.34</td>\n      <td>296.74</td>\n      <td>True</td>\n    </tr>\n  </tbody>\n</table>\n</div>",
      "text/plain": "      timestamp                                  hashtags  \\\n4946 2018-06-04                        [Tesla, Model3pic]   \n4947 2018-06-04                   [Tesla, NikolaTeslapic]   \n4948 2018-06-04  [Tesla, ElonMusk, CFD, forex, equitypic]   \n\n                                                   text           username  \\\n4946  Report: Tesla Has Refunded 23% of Model 3 Depo...  Tesla Motors Club   \n4947  Make electricity free again! #Tesla #NikolaTes...          Mr A 🎶🎵 ♏   \n4948  #Tesla #ElonMusk #CFD #forex #equitypic.twitte...        The Utkarsh   \n\n      likes  replies  retweets    Open   Close  PriceUp  \n4946     91       13        13  294.34  296.74     True  \n4947      2        1         1  294.34  296.74     True  \n4948      2        1         1  294.34  296.74     True  "
     },
     "execution_count": 36,
     "metadata": {},
     "output_type": "execute_result"
    }
   ],
   "source": [
    "data = pd.read_json('processed_data/data_merged.json')\n",
    "# remove columns that were unexpectedly generated during saving\n",
    "# data.drop(columns=['level_0', 'index'], inplace=True)\n",
    "data.tail(3)"
   ]
  },
  {
   "cell_type": "code",
   "execution_count": 37,
   "metadata": {},
   "outputs": [
    {
     "data": {
      "text/html": "<div>\n<style scoped>\n    .dataframe tbody tr th:only-of-type {\n        vertical-align: middle;\n    }\n\n    .dataframe tbody tr th {\n        vertical-align: top;\n    }\n\n    .dataframe thead th {\n        text-align: right;\n    }\n</style>\n<table border=\"1\" class=\"dataframe\">\n  <thead>\n    <tr style=\"text-align: right;\">\n      <th></th>\n      <th>timestamp</th>\n      <th>hashtags</th>\n      <th>text</th>\n      <th>username</th>\n      <th>likes</th>\n      <th>replies</th>\n      <th>retweets</th>\n      <th>Open</th>\n      <th>Close</th>\n      <th>PriceUp</th>\n    </tr>\n  </thead>\n  <tbody>\n    <tr>\n      <th>0</th>\n      <td>2018-01-02</td>\n      <td>[Tesla, ModelS]</td>\n      <td>In the past 2 years, I've driven 18,823 miles ...</td>\n      <td>Ben Sullins 💪</td>\n      <td>110</td>\n      <td>6</td>\n      <td>10</td>\n      <td>312.00</td>\n      <td>320.53</td>\n      <td>True</td>\n    </tr>\n    <tr>\n      <th>1</th>\n      <td>2018-01-03</td>\n      <td>[Tesla]</td>\n      <td>Día de piernas ... Estrenando mallas...#Tesla ...</td>\n      <td>El CaZador</td>\n      <td>107</td>\n      <td>3</td>\n      <td>4</td>\n      <td>321.00</td>\n      <td>317.25</td>\n      <td>False</td>\n    </tr>\n    <tr>\n      <th>2</th>\n      <td>2018-01-04</td>\n      <td>[Innovation, Tesla, electricvehicles, Cars, br...</td>\n      <td>This is awesome! New brand technology #Innovat...</td>\n      <td>Gabriela Mascaró</td>\n      <td>6</td>\n      <td>1</td>\n      <td>3</td>\n      <td>312.87</td>\n      <td>314.62</td>\n      <td>True</td>\n    </tr>\n    <tr>\n      <th>3</th>\n      <td>2018-01-05</td>\n      <td>[Tesla, TeslaModel3]</td>\n      <td>#Tesla #TeslaModel3 hahapic.twitter.com/DMlxOf...</td>\n      <td>WtaFiGO</td>\n      <td>19</td>\n      <td>1</td>\n      <td>7</td>\n      <td>316.62</td>\n      <td>316.58</td>\n      <td>False</td>\n    </tr>\n    <tr>\n      <th>4</th>\n      <td>2018-01-08</td>\n      <td>[Tesla]</td>\n      <td>Tesla Planning Supercharger Station With ‘Old ...</td>\n      <td>Tesla Motors Club</td>\n      <td>132</td>\n      <td>4</td>\n      <td>16</td>\n      <td>316.00</td>\n      <td>336.41</td>\n      <td>True</td>\n    </tr>\n    <tr>\n      <th>...</th>\n      <td>...</td>\n      <td>...</td>\n      <td>...</td>\n      <td>...</td>\n      <td>...</td>\n      <td>...</td>\n      <td>...</td>\n      <td>...</td>\n      <td>...</td>\n      <td>...</td>\n    </tr>\n    <tr>\n      <th>98</th>\n      <td>2018-05-29</td>\n      <td>[Tesla, Elektroautopic]</td>\n      <td>#Tesla Model 3: Europa-Start \"erste Jahreshälf...</td>\n      <td>ecomento.de</td>\n      <td>3</td>\n      <td>2</td>\n      <td>1</td>\n      <td>278.51</td>\n      <td>283.76</td>\n      <td>True</td>\n    </tr>\n    <tr>\n      <th>99</th>\n      <td>2018-05-30</td>\n      <td>[Tesla]</td>\n      <td>Oh well... in case you were wondering why @Tes...</td>\n      <td>Safer Vehicles Proved</td>\n      <td>27</td>\n      <td>4</td>\n      <td>9</td>\n      <td>283.29</td>\n      <td>291.72</td>\n      <td>True</td>\n    </tr>\n    <tr>\n      <th>100</th>\n      <td>2018-05-31</td>\n      <td>[Tesla]</td>\n      <td>Take comfort #Tesla friends.  All the alleged ...</td>\n      <td>Groggy T. Bear</td>\n      <td>22</td>\n      <td>4</td>\n      <td>3</td>\n      <td>287.21</td>\n      <td>284.73</td>\n      <td>False</td>\n    </tr>\n    <tr>\n      <th>101</th>\n      <td>2018-06-01</td>\n      <td>[FBI, Tesla]</td>\n      <td>Según documento desclasificado del #FBI Niko...</td>\n      <td>Misterio Desconocido</td>\n      <td>40</td>\n      <td>3</td>\n      <td>14</td>\n      <td>285.86</td>\n      <td>291.82</td>\n      <td>True</td>\n    </tr>\n    <tr>\n      <th>102</th>\n      <td>2018-06-04</td>\n      <td>[Tesla]</td>\n      <td>Voici le Modèle S familial que #Tesla ne veut ...</td>\n      <td>Les 🚘 🔌</td>\n      <td>2</td>\n      <td>3</td>\n      <td>1</td>\n      <td>294.34</td>\n      <td>296.74</td>\n      <td>True</td>\n    </tr>\n  </tbody>\n</table>\n<p>103 rows × 10 columns</p>\n</div>",
      "text/plain": "     timestamp                                           hashtags  \\\n0   2018-01-02                                    [Tesla, ModelS]   \n1   2018-01-03                                            [Tesla]   \n2   2018-01-04  [Innovation, Tesla, electricvehicles, Cars, br...   \n3   2018-01-05                               [Tesla, TeslaModel3]   \n4   2018-01-08                                            [Tesla]   \n..         ...                                                ...   \n98  2018-05-29                            [Tesla, Elektroautopic]   \n99  2018-05-30                                            [Tesla]   \n100 2018-05-31                                            [Tesla]   \n101 2018-06-01                                       [FBI, Tesla]   \n102 2018-06-04                                            [Tesla]   \n\n                                                  text               username  \\\n0    In the past 2 years, I've driven 18,823 miles ...          Ben Sullins 💪   \n1    Día de piernas ... Estrenando mallas...#Tesla ...             El CaZador   \n2    This is awesome! New brand technology #Innovat...       Gabriela Mascaró   \n3    #Tesla #TeslaModel3 hahapic.twitter.com/DMlxOf...                WtaFiGO   \n4    Tesla Planning Supercharger Station With ‘Old ...      Tesla Motors Club   \n..                                                 ...                    ...   \n98   #Tesla Model 3: Europa-Start \"erste Jahreshälf...            ecomento.de   \n99   Oh well... in case you were wondering why @Tes...  Safer Vehicles Proved   \n100  Take comfort #Tesla friends.  All the alleged ...         Groggy T. Bear   \n101    Según documento desclasificado del #FBI Niko...   Misterio Desconocido   \n102  Voici le Modèle S familial que #Tesla ne veut ...                Les 🚘 🔌   \n\n     likes  replies  retweets    Open   Close  PriceUp  \n0      110        6        10  312.00  320.53     True  \n1      107        3         4  321.00  317.25    False  \n2        6        1         3  312.87  314.62     True  \n3       19        1         7  316.62  316.58    False  \n4      132        4        16  316.00  336.41     True  \n..     ...      ...       ...     ...     ...      ...  \n98       3        2         1  278.51  283.76     True  \n99      27        4         9  283.29  291.72     True  \n100     22        4         3  287.21  284.73    False  \n101     40        3        14  285.86  291.82     True  \n102      2        3         1  294.34  296.74     True  \n\n[103 rows x 10 columns]"
     },
     "execution_count": 37,
     "metadata": {},
     "output_type": "execute_result"
    }
   ],
   "source": [
    "# group data by day\n",
    "daily_data = data.groupby(data['timestamp'], as_index=False)\n",
    "daily_data.first()"
   ]
  },
  {
   "cell_type": "code",
   "execution_count": 38,
   "metadata": {},
   "outputs": [
    {
     "data": {
      "text/html": "<div>\n<style scoped>\n    .dataframe tbody tr th:only-of-type {\n        vertical-align: middle;\n    }\n\n    .dataframe tbody tr th {\n        vertical-align: top;\n    }\n\n    .dataframe thead th {\n        text-align: right;\n    }\n</style>\n<table border=\"1\" class=\"dataframe\">\n  <thead>\n    <tr style=\"text-align: right;\">\n      <th></th>\n      <th>text</th>\n    </tr>\n  </thead>\n  <tbody>\n    <tr>\n      <th>count</th>\n      <td>103.000000</td>\n    </tr>\n    <tr>\n      <th>mean</th>\n      <td>48.048544</td>\n    </tr>\n    <tr>\n      <th>std</th>\n      <td>34.304970</td>\n    </tr>\n    <tr>\n      <th>min</th>\n      <td>6.000000</td>\n    </tr>\n    <tr>\n      <th>25%</th>\n      <td>34.500000</td>\n    </tr>\n    <tr>\n      <th>50%</th>\n      <td>40.000000</td>\n    </tr>\n    <tr>\n      <th>75%</th>\n      <td>51.000000</td>\n    </tr>\n    <tr>\n      <th>max</th>\n      <td>266.000000</td>\n    </tr>\n  </tbody>\n</table>\n</div>",
      "text/plain": "             text\ncount  103.000000\nmean    48.048544\nstd     34.304970\nmin      6.000000\n25%     34.500000\n50%     40.000000\n75%     51.000000\nmax    266.000000"
     },
     "execution_count": 38,
     "metadata": {},
     "output_type": "execute_result"
    }
   ],
   "source": [
    "# count tweets per day to see if they're ok'ish distributed\n",
    "tweets_per_day = daily_data['text'].count()\n",
    "tweets_per_day.describe()"
   ]
  },
  {
   "cell_type": "markdown",
   "metadata": {},
   "source": [
    "We have in average almost 50 tweets per day with a minimum of 6 tweets, which should be ok. The standard deviation is quite high too, but since we're so far only looking at individual tweets, this is absolutely ok. Even when we go for averaging the tweets of a single day, it should still be fine."
   ]
  },
  {
   "cell_type": "code",
   "execution_count": 39,
   "metadata": {},
   "outputs": [
    {
     "data": {
      "text/plain": "Timestamp('2018-01-02 00:00:00')"
     },
     "execution_count": 39,
     "metadata": {},
     "output_type": "execute_result"
    }
   ],
   "source": [
    "# get groups' names\n",
    "daily_data.groups.keys()\n",
    "groups = [name for name, _ in daily_data]\n",
    "groups[0]"
   ]
  },
  {
   "cell_type": "code",
   "execution_count": 40,
   "metadata": {},
   "outputs": [
    {
     "data": {
      "text/html": "<div>\n<style scoped>\n    .dataframe tbody tr th:only-of-type {\n        vertical-align: middle;\n    }\n\n    .dataframe tbody tr th {\n        vertical-align: top;\n    }\n\n    .dataframe thead th {\n        text-align: right;\n    }\n</style>\n<table border=\"1\" class=\"dataframe\">\n  <thead>\n    <tr style=\"text-align: right;\">\n      <th></th>\n      <th>timestamp</th>\n      <th>hashtags</th>\n      <th>text</th>\n      <th>username</th>\n      <th>likes</th>\n      <th>replies</th>\n      <th>retweets</th>\n      <th>Open</th>\n      <th>Close</th>\n      <th>PriceUp</th>\n    </tr>\n  </thead>\n  <tbody>\n    <tr>\n      <th>0</th>\n      <td>2018-01-02</td>\n      <td>[Tesla, ModelS]</td>\n      <td>In the past 2 years, I've driven 18,823 miles ...</td>\n      <td>Ben Sullins 💪</td>\n      <td>110</td>\n      <td>6</td>\n      <td>10</td>\n      <td>312.0</td>\n      <td>320.53</td>\n      <td>True</td>\n    </tr>\n    <tr>\n      <th>1</th>\n      <td>2018-01-02</td>\n      <td>[Tesla, P90D, Blog, Youtube]</td>\n      <td>Ya estamos en @louesfera probando un #Tesla #P...</td>\n      <td>Fco Javier</td>\n      <td>2</td>\n      <td>1</td>\n      <td>2</td>\n      <td>312.0</td>\n      <td>320.53</td>\n      <td>True</td>\n    </tr>\n    <tr>\n      <th>2</th>\n      <td>2018-01-02</td>\n      <td>[Snapchat, Uber, Twitter, Facebook, Tesla, Goo...</td>\n      <td>Here's how old these companies will be turning...</td>\n      <td>Imran</td>\n      <td>53</td>\n      <td>7</td>\n      <td>41</td>\n      <td>312.0</td>\n      <td>320.53</td>\n      <td>True</td>\n    </tr>\n    <tr>\n      <th>3</th>\n      <td>2018-01-02</td>\n      <td>[Muskwatchpic]</td>\n      <td>From SpaceX to Tesla, here are our biggest que...</td>\n      <td>Nerdist</td>\n      <td>37</td>\n      <td>5</td>\n      <td>10</td>\n      <td>312.0</td>\n      <td>320.53</td>\n      <td>True</td>\n    </tr>\n    <tr>\n      <th>4</th>\n      <td>2018-01-02</td>\n      <td>[Braunschweig, VW, Tesla]</td>\n      <td>In #Braunschweig produziert #VW seine Batterie...</td>\n      <td>HAZ</td>\n      <td>5</td>\n      <td>3</td>\n      <td>2</td>\n      <td>312.0</td>\n      <td>320.53</td>\n      <td>True</td>\n    </tr>\n  </tbody>\n</table>\n</div>",
      "text/plain": "   timestamp                                           hashtags  \\\n0 2018-01-02                                    [Tesla, ModelS]   \n1 2018-01-02                       [Tesla, P90D, Blog, Youtube]   \n2 2018-01-02  [Snapchat, Uber, Twitter, Facebook, Tesla, Goo...   \n3 2018-01-02                                     [Muskwatchpic]   \n4 2018-01-02                          [Braunschweig, VW, Tesla]   \n\n                                                text       username  likes  \\\n0  In the past 2 years, I've driven 18,823 miles ...  Ben Sullins 💪    110   \n1  Ya estamos en @louesfera probando un #Tesla #P...     Fco Javier      2   \n2  Here's how old these companies will be turning...          Imran     53   \n3  From SpaceX to Tesla, here are our biggest que...        Nerdist     37   \n4  In #Braunschweig produziert #VW seine Batterie...            HAZ      5   \n\n   replies  retweets   Open   Close  PriceUp  \n0        6        10  312.0  320.53     True  \n1        1         2  312.0  320.53     True  \n2        7        41  312.0  320.53     True  \n3        5        10  312.0  320.53     True  \n4        3         2  312.0  320.53     True  "
     },
     "execution_count": 40,
     "metadata": {},
     "output_type": "execute_result"
    }
   ],
   "source": [
    "# get all tweets from the first day\n",
    "first_day_data = daily_data.get_group(groups[0])\n",
    "first_day_data.head()"
   ]
  },
  {
   "cell_type": "markdown",
   "metadata": {},
   "source": [
    "## A first very simple classifier using Word Vectors from spacy\n",
    "Use each tweet and predict whether it was written on a day where stock price has grown (PriceUp == True) or not\n",
    "\n"
   ]
  },
  {
   "cell_type": "code",
   "execution_count": 41,
   "metadata": {},
   "outputs": [],
   "source": [
    "try:\n",
    "    nlp = spacy.load(\"en_core_web_md\")\n",
    "except:\n",
    "    import en_core_web_sm\n",
    "    nlp = en_core_web_sm.load()\n",
    "    \n",
    "tweet_vectors = []\n",
    "\n",
    "# Vectorize each tweet\n",
    "for tweet in data.text:\n",
    "    tokens = nlp(tweet)\n",
    "    average_token= tokens[0].vector\n",
    "    summed_token_count = 1\n",
    "    for token in tokens[1:]:\n",
    "        # Only add to our sentence average token is token is not a stop word or if it's a negation\n",
    "        if token.dep_ == 'neg' or not token.is_stop:\n",
    "            average_token = average_token + token.vector\n",
    "            summed_token_count += 1\n",
    "    average_token = average_token / summed_token_count\n",
    "    tweet_vectors.append(average_token)\n"
   ]
  },
  {
   "cell_type": "code",
   "execution_count": 42,
   "metadata": {},
   "outputs": [
    {
     "data": {
      "text/plain": "3959"
     },
     "execution_count": 42,
     "metadata": {},
     "output_type": "execute_result"
    }
   ],
   "source": [
    "# generate the train and test sets\n",
    "tweets_train, tweets_test, labels_train, labels_test = train_test_split(tweet_vectors, data['PriceUp'], \n",
    "                                                   test_size=0.2, random_state=333, shuffle=True)\n",
    "len(tweets_train)"
   ]
  },
  {
   "cell_type": "markdown",
   "metadata": {},
   "source": [
    "### Continue here...\n",
    "Vectorize the data... create a train and test matrix using word vectors from spacy... check if classifiers overfit to the training data... then evaluate on test data using the code below"
   ]
  },
  {
   "cell_type": "code",
   "execution_count": 43,
   "metadata": {},
   "outputs": [
    {
     "name": "stdout",
     "output_type": "stream",
     "text": "3959 3959\n990 990\n<class 'numpy.ndarray'>\n(300,)\nOne vector:  [-0.12318653  0.31284353  0.09677783 -0.02063794  0.0247953  -0.04264142\n  0.1881359  -0.08098528 -0.0778923   0.814553   -0.08372599 -0.001502\n -0.0430963   0.07591461 -0.09694488 -0.0519827  -0.0389587   0.91624004\n -0.01284453 -0.01406124  0.10105217  0.14758664 -0.05296901 -0.03626784\n  0.03632429  0.02446806  0.06302512 -0.09648801  0.0912114   0.13096687\n -0.09319735  0.08387847 -0.04377272 -0.0755683  -0.03314523 -0.026087\n  0.06871071  0.23640902 -0.03469265  0.11739431 -0.06870618  0.03907594\n  0.07549335  0.00370218  0.06463748  0.1767252  -0.14010529  0.10030553\n -0.10516535  0.00386688  0.12673846  0.1554393  -0.09629241 -0.13910389\n  0.06916359  0.12379146  0.17866823  0.09073476  0.09982307  0.02039159\n -0.19406684 -0.03612772 -0.08571248  0.08951347 -0.01695798 -0.09931818\n -0.03783483  0.16976954 -0.09517317  0.03395747  0.11366353 -0.07791886\n  0.08646     0.06813677  0.06057964  0.08525971  0.03355547 -0.14065164\n  0.01407947  0.19307412 -0.03988726 -0.00634264 -0.00650376  0.06024\n  0.12359936  0.10023553  0.37514833 -0.1773653   0.07170463  0.12210205\n -0.07668664  0.08239481  0.06913753 -0.11374971  0.09333812 -0.2374822\n -0.10650887 -0.03116253 -0.0012897  -0.06569006  0.02577623 -0.05864671\n -0.04571126  0.03021159  0.14124693  0.2814406   0.10431764  0.02880653\n -0.0493403   0.00569771  0.07244579 -0.18452704  0.2113284  -0.2025766\n -0.14182103  0.01665736 -0.00806035 -0.1745763  -0.11350343 -0.09986434\n  0.03435676  0.03236112 -0.01189147  0.02673696  0.00133212 -0.08892165\n  0.03179583  0.03011882 -0.02062059 -0.10814653  0.02253029  0.01105065\n -0.17304783 -0.15777029 -0.05915552 -0.00885042  0.02995006  0.04967323\n  0.03830117  0.00969859 -0.9655529   0.19096035  0.25707784  0.07795406\n -0.05638447 -0.06083371 -0.05636722  0.0266886   0.02274694 -0.17949355\n  0.04126883  0.0364227   0.01739329  0.07201276 -0.06073124 -0.15696803\n  0.00714118 -0.12763023  0.04085348  0.11160347 -0.04724083  0.0129154\n  0.01490475 -0.12591058 -0.02337935 -0.0846697  -0.03141412 -0.23034506\n  0.07043913  0.06940788  0.008474    0.02844925 -0.00176987  0.00739\n -0.07578014  0.00692917 -0.01633106 -0.22473453 -0.11561023 -0.06236723\n -0.04794495 -0.03048476 -0.01393471 -0.25410426 -0.06568652 -0.17051706\n -0.27726626  0.08655129 -0.11027388  0.0791727  -0.010458    0.01748482\n  0.12210506  0.12209365  0.08016159 -0.04937388 -0.07236235 -0.10719594\n  0.00256644  0.20774882 -0.07268723 -0.13119683 -0.0395063  -0.0177533\n  0.03264682  0.10822529  0.0331348   0.03893518  0.05863586  0.12263948\n -0.10049599 -0.12922181  0.09538453 -0.09929618 -0.02986076  0.20001058\n  0.19375688 -0.13723606 -0.1454734   0.11200377 -0.01713599 -0.06608\n  0.05804112  0.20005795  0.13156341 -0.047233    0.13949372  0.14968129\n  0.04965892 -0.00428088 -0.07720748  0.13231423  0.04868671 -0.00802371\n -0.12513395 -0.01271552 -0.01969518  0.048413    0.09865271 -0.07769436\n -0.01284847  0.16407268 -0.05496812  0.25255194  0.04684886 -0.18604413\n -0.1171238  -0.041497    0.02018753  0.06942383  0.06745035  0.07050636\n -0.03532454  0.09191371  0.01674653  0.16526407  0.00744224 -0.071414\n -0.01495093  0.07279515  0.07249247  0.18250687 -0.03092176  0.05412659\n  0.01743188 -0.01401212  0.02768694  0.02995036  0.20169234  0.16108717\n -0.11932902  0.11956978 -0.07216012 -0.21635984 -0.13821101 -0.04659712\n  0.00418246  0.04254469 -0.09910135  0.17252415 -0.05546822  0.00552841\n  0.03918949 -0.12543216  0.06951217  0.05704083  0.13369606 -0.10039759\n -0.03559036  0.01705803  0.02328476  0.09368222 -0.02443388  0.00341688\n  0.09000712 -0.13534634 -0.03190194 -0.08847171 -0.16620712  0.07093968]\n"
    }
   ],
   "source": [
    "print(len(tweets_train),len(labels_train))\n",
    "print(len(tweets_test),len(labels_test))\n",
    "print(type(tweets_train[0]))\n",
    "print(np.shape(tweets_train[0]))\n",
    "print(\"One vector: \", tweets_train[2])"
   ]
  },
  {
   "cell_type": "markdown",
   "metadata": {},
   "source": [
    "### Train and Test classifiers"
   ]
  },
  {
   "cell_type": "code",
   "execution_count": 44,
   "metadata": {},
   "outputs": [
    {
     "name": "stdout",
     "output_type": "stream",
     "text": "<class 'list'>\n<class 'pandas.core.series.Series'>\n"
    }
   ],
   "source": [
    "print(type(tweets_train))\n",
    "print(type(labels_train))"
   ]
  },
  {
   "cell_type": "code",
   "execution_count": 45,
   "metadata": {},
   "outputs": [],
   "source": [
    "# increase number of training examples (by repeating them n times)\n",
    "n = 2\n",
    "train_matrix_n_times = tweets_train*n\n",
    "labels_train_n_times = pd.concat([labels_train]*n, ignore_index=True)"
   ]
  },
  {
   "cell_type": "code",
   "execution_count": 46,
   "metadata": {},
   "outputs": [
    {
     "data": {
      "text/plain": "GaussianNB(priors=None, var_smoothing=1e-09)"
     },
     "execution_count": 46,
     "metadata": {},
     "output_type": "execute_result"
    }
   ],
   "source": [
    "svm_classifier = svm.LinearSVC(max_iter=int(1e6))\n",
    "svm_classifier.fit(train_matrix_n_times, labels_train_n_times)\n",
    "\n",
    "nb_classifier = naive_bayes.GaussianNB()\n",
    "nb_classifier.fit(train_matrix_n_times, labels_train_n_times)"
   ]
  },
  {
   "cell_type": "markdown",
   "metadata": {},
   "source": [
    "#### Test if training was successful\n",
    "As we have not enough data, a working classifier should overfit to the training data and hence perfectly predict the labels of the training set."
   ]
  },
  {
   "cell_type": "code",
   "execution_count": 47,
   "metadata": {},
   "outputs": [
    {
     "name": "stdout",
     "output_type": "stream",
     "text": "SVM \t\tNaive Bayes\nAcc \t\t 0.640 \t\t 0.551\nPrec \t\t 0.645 \t\t 0.587\nRec \t\t 0.703 \t\t 0.495\nFMeas \t\t 0.673 \t\t 0.537\n"
    }
   ],
   "source": [
    "# check if classifier has really overfitted to the data by testing it on the training data\n",
    "preds_svm = svm_classifier.predict(tweets_train)\n",
    "svm_acc = metrics.accuracy_score(labels_train, preds_svm)\n",
    "\n",
    "preds_nb = nb_classifier.predict(tweets_train)\n",
    "nb_acc = metrics.accuracy_score(labels_train, preds_nb)\n",
    "\n",
    "\n",
    "svm_prec, svm_rec, svm_fscore, svm_sup = \\\n",
    "metrics.precision_recall_fscore_support(labels_train, preds_svm, pos_label=True, average='binary')\n",
    "\n",
    "nb_prec, nb_rec, nb_fscore, nb_sup = \\\n",
    "metrics.precision_recall_fscore_support(labels_train, preds_nb, pos_label=True, average='binary')\n",
    "\n",
    "print('   \\t\\tSVM \\t\\tNaive Bayes')\n",
    "print('Acc \\t\\t {0:.3f} \\t\\t {1:.3f}'.format(svm_acc, nb_acc))\n",
    "print('Prec \\t\\t {0:.3f} \\t\\t {1:.3f}'.format(svm_prec, nb_prec))\n",
    "print('Rec \\t\\t {0:.3f} \\t\\t {1:.3f}'.format(svm_rec, nb_rec))\n",
    "print('FMeas \\t\\t {0:.3f} \\t\\t {1:.3f}'.format(svm_fscore, nb_fscore))"
   ]
  },
  {
   "cell_type": "markdown",
   "metadata": {},
   "source": [
    "# Observations:\n",
    "Both classifiers reached quite poor performance when evaluating on even the training set. This could mean, we have no overfitting and have a hope for getting a bit generalization, but we believe there are other problems that can explain this observation: \n",
    "* das Language Model wurde auf anderen Daten trainiert... Die Dimensionen der Vektoren haben alle eine für unsere Aufgabe irrelevante Bedeutung.\n",
    "* Durschnitt eines Tweets verliert seine Bedeutung komplett "
   ]
  },
  {
   "cell_type": "code",
   "execution_count": 48,
   "metadata": {},
   "outputs": [
    {
     "name": "stdout",
     "output_type": "stream",
     "text": "SVM \t\tNaive Bayes\nAcc \t\t 0.558 \t\t 0.503\nPrec \t\t 0.569 \t\t 0.529\nRec \t\t 0.627 \t\t 0.439\nFMeas \t\t 0.597 \t\t 0.480\n"
    }
   ],
   "source": [
    "# test the classifiers\n",
    "preds_svm = svm_classifier.predict(tweets_test)\n",
    "svm_acc = metrics.accuracy_score(labels_test, preds_svm)\n",
    "\n",
    "preds_nb = nb_classifier.predict(tweets_test)\n",
    "nb_acc = metrics.accuracy_score(labels_test, preds_nb)\n",
    "\n",
    "\n",
    "svm_prec, svm_rec, svm_fscore, svm_sup = \\\n",
    "metrics.precision_recall_fscore_support(labels_test, preds_svm, pos_label=True, average='binary')\n",
    "\n",
    "nb_prec, nb_rec, nb_fscore, nb_sup = \\\n",
    "metrics.precision_recall_fscore_support(labels_test, preds_nb, pos_label=True, average='binary')\n",
    "\n",
    "print('   \\t\\tSVM \\t\\tNaive Bayes')\n",
    "print('Acc \\t\\t {0:.3f} \\t\\t {1:.3f}'.format(svm_acc, nb_acc))\n",
    "print('Prec \\t\\t {0:.3f} \\t\\t {1:.3f}'.format(svm_prec, nb_prec))\n",
    "print('Rec \\t\\t {0:.3f} \\t\\t {1:.3f}'.format(svm_rec, nb_rec))\n",
    "print('FMeas \\t\\t {0:.3f} \\t\\t {1:.3f}'.format(svm_fscore, nb_fscore))"
   ]
  },
  {
   "cell_type": "markdown",
   "metadata": {},
   "source": [
    "To make a statement about the results, we first have to look at the distribution of labels in the test dataset.\n",
    "An even simpler baseline we can use is a classifier that constantly predicts the class that is most common in the test set. "
   ]
  },
  {
   "cell_type": "code",
   "execution_count": 49,
   "metadata": {},
   "outputs": [
    {
     "name": "stdout",
     "output_type": "stream",
     "text": "A classifier that always predicts 'True' would get an accuracy of: 0.522\n"
    }
   ],
   "source": [
    "num_trues, num_falses = labels_test.value_counts()\n",
    "print(\"A classifier that always predicts 'True' would get an accuracy of: %.3f\" % (num_trues/labels_test.count()))"
   ]
  },
  {
   "cell_type": "markdown",
   "execution_count": null,
   "metadata": {},
   "outputs": [],
   "source": [
    "## Stock Market Simulation:\n",
    "\n",
    "\n",
    "Use our classifier with the simulation tool"
   ]
  },
  {
   "cell_type": "code",
   "execution_count": 63,
   "metadata": {},
   "outputs": [
    {
     "name": "stdout",
     "output_type": "stream",
     "text": "[0, 0, 0, 0, 1, -1, 0, 1, 0, 0, -1, -1, 0, -1, 0, -1, -1, 1, 0, 0, 0, -1, 0, 0, 1, 1, 0, 1, 0, 1, 0, 1, 1, 0, -1, 0, 0, 0, 0, 0, -1, 0, 0, 0, 0, -1, 0, 0, 1, 0, 0, 0, -1, -1, 0, 1, -1, 0, -1, -1, -1, -1, 0, -1, 0, 1, 0, -1, -1, -1, -1, 0, -1, 0, 0, -1, -1, -1, 0, 1, 0, 1, -1, 0, 0, 1, 0, -1, 1, 0, -1, -1, 0, 0, -1, -1, -1, -1, 0, -1, -1, -1, 1, 1, 0, 0]\n106\n106\n[0, 0, 0, 0, 1, -1, 0, 1, 0, 0, -1, -1, 0, -1, 0, -1, -1, 1, 0, 0, 0, -1, 0, 0, 1, 1, 0, 1, 0, 1, 0, 1, 1, 0, -1, 0, 0, 0, 0, 0, -1, 0, 0, 0, 0, -1, 0, 0, 1, 0, 0, 0, -1, -1, 0, 1, -1, 0, -1, -1, -1, -1, 0, -1, 0, 1, 0, -1, -1, -1, -1, 0, -1, 0, 0, -1, -1, -1, 0, 1, 0, 1, -1, 0, 0, 1, 0, -1, 1, 0, -1, -1, 0, 0, -1, -1, -1, -1, 0, -1, -1, -1, 1, 1, 0, 0]\n[0, 0, 0, 0, 1, -1, 0, 1, 0, 0, -1, -1, 0, -1, 0, -1, -1, 1, 0, 0, 0, -1, 0, 0, 1, 1, 0, 1, 0, 1, 0, 1, 1, 0, -1, 0, 0, 0, 0, 0, -1, 0, 0, 0, 0, -1, 0, 0, 1, 0, 0, 0, -1, -1, 0, 1, -1, 0, -1, -1, -1, -1, 0, -1, 0, 1, 0, -1, -1, -1, -1, 0, -1, 0, 0, -1, -1, -1, 0, 1, 0, 1, -1, 0, 0, 1, 0, -1, 1, 0, -1, -1, 0, 0, -1, -1, -1, -1, 0, -1, -1, -1, 1, 1, 0, 0]\nDay 0, Amount of Stock: 10, Capital: 10000, Net Worth= 13120.0\nDay 1, Amount of Stock: 10, Capital: 10000, Net Worth= 13210.0\nDay 2, Amount of Stock: 10, Capital: 10000, Net Worth= 13128.7\nDay 3, Amount of Stock: 10, Capital: 10000, Net Worth= 13166.2\nDay 4, Amount of Stock: 11, Capital: 9684.0, Net Worth= 13160.0\nDay 5, Amount of Stock: 10, Capital: 10019.16, Net Worth= 13370.76\nDay 6, Amount of Stock: 10, Capital: 10019.16, Net Worth= 13341.16\nDay 7, Amount of Stock: 11, Capital: 9683.92, Net Worth= 13371.560000000001\nDay 8, Amount of Stock: 11, Capital: 9683.92, Net Worth= 13408.85\nDay 9, Amount of Stock: 11, Capital: 9683.92, Net Worth= 13396.86\nDay 10, Amount of Stock: 10, Capital: 10024.39, Net Worth= 13429.09\nDay 11, Amount of Stock: 9, Capital: 10370.06, Net Worth= 13481.09\nDay 12, Amount of Stock: 9, Capital: 10370.06, Net Worth= 13475.06\nDay 13, Amount of Stock: 8, Capital: 10719.46, Net Worth= 13514.66\nDay 14, Amount of Stock: 8, Capital: 10719.46, Net Worth= 13599.46\nDay 15, Amount of Stock: 7, Capital: 11074.039999999999, Net Worth= 13556.099999999999\nDay 16, Amount of Stock: 6, Capital: 11422.31, Net Worth= 13511.93\nDay 17, Amount of Stock: 7, Capital: 11080.81, Net Worth= 13471.31\nDay 18, Amount of Stock: 7, Capital: 11080.81, Net Worth= 13459.76\nDay 19, Amount of Stock: 7, Capital: 11080.81, Net Worth= 13496.789999999999\nDay 20, Amount of Stock: 7, Capital: 11080.81, Net Worth= 13513.38\nDay 21, Amount of Stock: 6, Capital: 11431.81, Net Worth= 13537.81\nDay 22, Amount of Stock: 6, Capital: 11431.81, Net Worth= 13522.449999999999\nDay 23, Amount of Stock: 6, Capital: 11431.81, Net Worth= 13459.63\nDay 24, Amount of Stock: 7, Capital: 11106.6, Net Worth= 13383.07\nDay 25, Amount of Stock: 8, Capital: 10767.61, Net Worth= 13479.53\nDay 26, Amount of Stock: 8, Capital: 10767.61, Net Worth= 13514.09\nDay 27, Amount of Stock: 9, Capital: 10447.68, Net Worth= 13327.05\nDay 28, Amount of Stock: 9, Capital: 10447.68, Net Worth= 13292.85\nDay 29, Amount of Stock: 10, Capital: 10132.66, Net Worth= 13282.86\nDay 30, Amount of Stock: 10, Capital: 10132.66, Net Worth= 13341.06\nDay 31, Amount of Stock: 11, Capital: 9808.16, Net Worth= 13377.66\nDay 32, Amount of Stock: 12, Capital: 9475.66, Net Worth= 13465.66\nDay 33, Amount of Stock: 12, Capital: 9475.66, Net Worth= 13489.3\nDay 34, Amount of Stock: 11, Capital: 9811.69, Net Worth= 13508.02\nDay 35, Amount of Stock: 11, Capital: 9811.69, Net Worth= 13502.52\nDay 36, Amount of Stock: 11, Capital: 9811.69, Net Worth= 13637.82\nDay 37, Amount of Stock: 11, Capital: 9811.69, Net Worth= 13700.19\nDay 38, Amount of Stock: 11, Capital: 9811.69, Net Worth= 13730.44\nDay 39, Amount of Stock: 11, Capital: 9811.69, Net Worth= 13689.960000000001\nDay 40, Amount of Stock: 10, Capital: 10156.7, Net Worth= 13606.800000000001\nDay 41, Amount of Stock: 10, Capital: 10156.7, Net Worth= 13426.5\nDay 42, Amount of Stock: 10, Capital: 10156.7, Net Worth= 13480.6\nDay 43, Amount of Stock: 10, Capital: 10156.7, Net Worth= 13494.2\nDay 44, Amount of Stock: 10, Capital: 10156.7, Net Worth= 13411.1\nDay 45, Amount of Stock: 9, Capital: 10489.560000000001, Net Worth= 13485.300000000001\nDay 46, Amount of Stock: 9, Capital: 10489.560000000001, Net Worth= 13406.460000000001\nDay 47, Amount of Stock: 9, Capital: 10489.560000000001, Net Worth= 13447.050000000001\nDay 48, Amount of Stock: 10, Capital: 10160.95, Net Worth= 13447.050000000001\nDay 49, Amount of Stock: 10, Capital: 10160.95, Net Worth= 13528.550000000001\nDay 50, Amount of Stock: 10, Capital: 10160.95, Net Worth= 13454.75\nDay 51, Amount of Stock: 10, Capital: 10160.95, Net Worth= 13390.25\nDay 52, Amount of Stock: 9, Capital: 10477.45, Net Worth= 13325.95\nDay 53, Amount of Stock: 8, Capital: 10792.320000000002, Net Worth= 13311.280000000002\nDay 54, Amount of Stock: 8, Capital: 10792.320000000002, Net Worth= 13274.320000000002\nDay 55, Amount of Stock: 9, Capital: 10478.430000000002, Net Worth= 13303.440000000002\nDay 56, Amount of Stock: 8, Capital: 10789.680000000002, Net Worth= 13279.680000000002\nDay 57, Amount of Stock: 8, Capital: 10789.680000000002, Net Worth= 13248.400000000001\nDay 58, Amount of Stock: 7, Capital: 11093.680000000002, Net Worth= 13221.680000000002\nDay 59, Amount of Stock: 6, Capital: 11358.260000000002, Net Worth= 12945.740000000002\nDay 60, Amount of Stock: 5, Capital: 11614.750000000002, Net Worth= 12897.200000000003\nDay 61, Amount of Stock: 4, Capital: 11871.010000000002, Net Worth= 12896.050000000003\nDay 62, Amount of Stock: 4, Capital: 11871.010000000002, Net Worth= 12950.290000000003\nDay 63, Amount of Stock: 3, Capital: 12123.790000000003, Net Worth= 12882.130000000003\nDay 64, Amount of Stock: 3, Capital: 12123.790000000003, Net Worth= 12991.810000000003\nDay 65, Amount of Stock: 4, Capital: 11822.790000000003, Net Worth= 13026.790000000003\nDay 66, Amount of Stock: 4, Capital: 11822.790000000003, Net Worth= 13024.270000000002\nDay 67, Amount of Stock: 3, Capital: 12121.760000000002, Net Worth= 13018.670000000002\nDay 68, Amount of Stock: 2, Capital: 12422.500000000002, Net Worth= 13023.980000000001\nDay 69, Amount of Stock: 1, Capital: 12724.820000000002, Net Worth= 13027.140000000001\ncouldn't sell all we wanted\nDay 70, Amount of Stock: 0, Capital: 13028.420000000002, Net Worth= 13028.420000000002\nDay 71, Amount of Stock: 0, Capital: 13028.420000000002, Net Worth= 13028.420000000002\ncouldn't sell all we wanted\nDay 72, Amount of Stock: 0, Capital: 13028.420000000002, Net Worth= 13028.420000000002\nDay 73, Amount of Stock: 0, Capital: 13028.420000000002, Net Worth= 13028.420000000002\nDay 74, Amount of Stock: 0, Capital: 13028.420000000002, Net Worth= 13028.420000000002\ncouldn't sell all we wanted\nDay 75, Amount of Stock: 0, Capital: 13028.420000000002, Net Worth= 13028.420000000002\ncouldn't sell all we wanted\nDay 76, Amount of Stock: 0, Capital: 13028.420000000002, Net Worth= 13028.420000000002\ncouldn't sell all we wanted\nDay 77, Amount of Stock: 0, Capital: 13028.420000000002, Net Worth= 13028.420000000002\nDay 78, Amount of Stock: 0, Capital: 13028.420000000002, Net Worth= 13028.420000000002\nDay 79, Amount of Stock: 1, Capital: 12749.670000000002, Net Worth= 13028.420000000002\nDay 80, Amount of Stock: 1, Capital: 12749.670000000002, Net Worth= 13035.040000000003\nDay 81, Amount of Stock: 2, Capital: 12456.060000000001, Net Worth= 13043.28\nDay 82, Amount of Stock: 1, Capital: 12749.570000000002, Net Worth= 13043.080000000002\nDay 83, Amount of Stock: 1, Capital: 12749.570000000002, Net Worth= 13048.140000000001\nDay 84, Amount of Stock: 1, Capital: 12749.570000000002, Net Worth= 13028.360000000002\nDay 85, Amount of Stock: 2, Capital: 12466.570000000002, Net Worth= 13032.570000000002\nDay 86, Amount of Stock: 2, Capital: 12466.570000000002, Net Worth= 13061.570000000002\nDay 87, Amount of Stock: 1, Capital: 12767.37, Net Worth= 13068.17\nDay 88, Amount of Stock: 2, Capital: 12466.960000000001, Net Worth= 13067.78\nDay 89, Amount of Stock: 2, Capital: 12466.960000000001, Net Worth= 13081.960000000001\nDay 90, Amount of Stock: 1, Capital: 12774.660000000002, Net Worth= 13082.360000000002\ncouldn't sell all we wanted\nDay 91, Amount of Stock: 0, Capital: 13077.980000000001, Net Worth= 13077.980000000001\nDay 92, Amount of Stock: 0, Capital: 13077.980000000001, Net Worth= 13077.980000000001\nDay 93, Amount of Stock: 0, Capital: 13077.980000000001, Net Worth= 13077.980000000001\ncouldn't sell all we wanted\nDay 94, Amount of Stock: 0, Capital: 13077.980000000001, Net Worth= 13077.980000000001\ncouldn't sell all we wanted\nDay 95, Amount of Stock: 0, Capital: 13077.980000000001, Net Worth= 13077.980000000001\ncouldn't sell all we wanted\nDay 96, Amount of Stock: 0, Capital: 13077.980000000001, Net Worth= 13077.980000000001\ncouldn't sell all we wanted\nDay 97, Amount of Stock: 0, Capital: 13077.980000000001, Net Worth= 13077.980000000001\nDay 98, Amount of Stock: 0, Capital: 13077.980000000001, Net Worth= 13077.980000000001\ncouldn't sell all we wanted\nDay 99, Amount of Stock: 0, Capital: 13077.980000000001, Net Worth= 13077.980000000001\ncouldn't sell all we wanted\nDay 100, Amount of Stock: 0, Capital: 13077.980000000001, Net Worth= 13077.980000000001\ncouldn't sell all we wanted\nDay 101, Amount of Stock: 0, Capital: 13077.980000000001, Net Worth= 13077.980000000001\nDay 102, Amount of Stock: 1, Capital: 12794.69, Net Worth= 13077.980000000001\nDay 103, Amount of Stock: 2, Capital: 12507.480000000001, Net Worth= 13081.900000000001\nDay 104, Amount of Stock: 2, Capital: 12507.480000000001, Net Worth= 13079.2\nDay 105, Amount of Stock: 2, Capital: 12507.480000000001, Net Worth= 13096.160000000002\n"
    },
    {
     "data": {
      "image/png": "[encoded data removed]",
      "image/svg+xml": "<?xml version=\"1.0\" encoding=\"utf-8\" standalone=\"no\"?>\n<!DOCTYPE svg PUBLIC \"-//W3C//DTD SVG 1.1//EN\"\n  \"http://www.w3.org/Graphics/SVG/1.1/DTD/svg11.dtd\">\n<!-- Created with matplotlib (https://matplotlib.org/) -->\n<svg height=\"262.19625pt\" version=\"1.1\" viewBox=\"0 0 401.690625 262.19625\" width=\"401.690625pt\" xmlns=\"http://www.w3.org/2000/svg\" xmlns:xlink=\"http://www.w3.org/1999/xlink\">\n <defs>\n  <style type=\"text/css\">\n*{stroke-linecap:butt;stroke-linejoin:round;}\n  </style>\n </defs>\n <g id=\"figure_1\">\n  <g id=\"patch_1\">\n   <path d=\"M 0 262.19625 \nL 401.690625 262.19625 \nL 401.690625 0 \nL 0 0 \nz\n\" style=\"fill:none;\"/>\n  </g>\n  <g id=\"axes_1\">\n   <g id=\"patch_2\">\n    <path d=\"M 59.690625 224.64 \nL 394.490625 224.64 \nL 394.490625 7.2 \nL 59.690625 7.2 \nz\n\" style=\"fill:#ffffff;\"/>\n   </g>\n   <g id=\"matplotlib.axis_1\">\n    <g id=\"xtick_1\">\n     <g id=\"line2d_1\">\n      <defs>\n       <path d=\"M 0 0 \nL 0 3.5 \n\" id=\"mb0e808dedb\" style=\"stroke:#000000;stroke-width:0.8;\"/>\n      </defs>\n      <g>\n       <use style=\"stroke:#000000;stroke-width:0.8;\" x=\"72.010106\" xlink:href=\"#mb0e808dedb\" y=\"224.64\"/>\n      </g>\n     </g>\n     <g id=\"text_1\">\n      <!-- 0 -->\n      <defs>\n       <path d=\"M 31.78125 66.40625 \nQ 24.171875 66.40625 20.328125 58.90625 \nQ 16.5 51.421875 16.5 36.375 \nQ 16.5 21.390625 20.328125 13.890625 \nQ 24.171875 6.390625 31.78125 6.390625 \nQ 39.453125 6.390625 43.28125 13.890625 \nQ 47.125 21.390625 47.125 36.375 \nQ 47.125 51.421875 43.28125 58.90625 \nQ 39.453125 66.40625 31.78125 66.40625 \nz\nM 31.78125 74.21875 \nQ 44.046875 74.21875 50.515625 64.515625 \nQ 56.984375 54.828125 56.984375 36.375 \nQ 56.984375 17.96875 50.515625 8.265625 \nQ 44.046875 -1.421875 31.78125 -1.421875 \nQ 19.53125 -1.421875 13.0625 8.265625 \nQ 6.59375 17.96875 6.59375 36.375 \nQ 6.59375 54.828125 13.0625 64.515625 \nQ 19.53125 74.21875 31.78125 74.21875 \nz\n\" id=\"DejaVuSans-48\"/>\n      </defs>\n      <g transform=\"translate(68.828856 239.238438)scale(0.1 -0.1)\">\n       <use xlink:href=\"#DejaVuSans-48\"/>\n      </g>\n     </g>\n    </g>\n    <g id=\"xtick_2\">\n     <g id=\"line2d_2\">\n      <g>\n       <use style=\"stroke:#000000;stroke-width:0.8;\" x=\"129.984131\" xlink:href=\"#mb0e808dedb\" y=\"224.64\"/>\n      </g>\n     </g>\n     <g id=\"text_2\">\n      <!-- 20 -->\n      <defs>\n       <path d=\"M 19.1875 8.296875 \nL 53.609375 8.296875 \nL 53.609375 0 \nL 7.328125 0 \nL 7.328125 8.296875 \nQ 12.9375 14.109375 22.625 23.890625 \nQ 32.328125 33.6875 34.8125 36.53125 \nQ 39.546875 41.84375 41.421875 45.53125 \nQ 43.3125 49.21875 43.3125 52.78125 \nQ 43.3125 58.59375 39.234375 62.25 \nQ 35.15625 65.921875 28.609375 65.921875 \nQ 23.96875 65.921875 18.8125 64.3125 \nQ 13.671875 62.703125 7.8125 59.421875 \nL 7.8125 69.390625 \nQ 13.765625 71.78125 18.9375 73 \nQ 24.125 74.21875 28.421875 74.21875 \nQ 39.75 74.21875 46.484375 68.546875 \nQ 53.21875 62.890625 53.21875 53.421875 \nQ 53.21875 48.921875 51.53125 44.890625 \nQ 49.859375 40.875 45.40625 35.40625 \nQ 44.1875 33.984375 37.640625 27.21875 \nQ 31.109375 20.453125 19.1875 8.296875 \nz\n\" id=\"DejaVuSans-50\"/>\n      </defs>\n      <g transform=\"translate(123.621631 239.238438)scale(0.1 -0.1)\">\n       <use xlink:href=\"#DejaVuSans-50\"/>\n       <use x=\"63.623047\" xlink:href=\"#DejaVuSans-48\"/>\n      </g>\n     </g>\n    </g>\n    <g id=\"xtick_3\">\n     <g id=\"line2d_3\">\n      <g>\n       <use style=\"stroke:#000000;stroke-width:0.8;\" x=\"187.958157\" xlink:href=\"#mb0e808dedb\" y=\"224.64\"/>\n      </g>\n     </g>\n     <g id=\"text_3\">\n      <!-- 40 -->\n      <defs>\n       <path d=\"M 37.796875 64.3125 \nL 12.890625 25.390625 \nL 37.796875 25.390625 \nz\nM 35.203125 72.90625 \nL 47.609375 72.90625 \nL 47.609375 25.390625 \nL 58.015625 25.390625 \nL 58.015625 17.1875 \nL 47.609375 17.1875 \nL 47.609375 0 \nL 37.796875 0 \nL 37.796875 17.1875 \nL 4.890625 17.1875 \nL 4.890625 26.703125 \nz\n\" id=\"DejaVuSans-52\"/>\n      </defs>\n      <g transform=\"translate(181.595657 239.238438)scale(0.1 -0.1)\">\n       <use xlink:href=\"#DejaVuSans-52\"/>\n       <use x=\"63.623047\" xlink:href=\"#DejaVuSans-48\"/>\n      </g>\n     </g>\n    </g>\n    <g id=\"xtick_4\">\n     <g id=\"line2d_4\">\n      <g>\n       <use style=\"stroke:#000000;stroke-width:0.8;\" x=\"245.932183\" xlink:href=\"#mb0e808dedb\" y=\"224.64\"/>\n      </g>\n     </g>\n     <g id=\"text_4\">\n      <!-- 60 -->\n      <defs>\n       <path d=\"M 33.015625 40.375 \nQ 26.375 40.375 22.484375 35.828125 \nQ 18.609375 31.296875 18.609375 23.390625 \nQ 18.609375 15.53125 22.484375 10.953125 \nQ 26.375 6.390625 33.015625 6.390625 \nQ 39.65625 6.390625 43.53125 10.953125 \nQ 47.40625 15.53125 47.40625 23.390625 \nQ 47.40625 31.296875 43.53125 35.828125 \nQ 39.65625 40.375 33.015625 40.375 \nz\nM 52.59375 71.296875 \nL 52.59375 62.3125 \nQ 48.875 64.0625 45.09375 64.984375 \nQ 41.3125 65.921875 37.59375 65.921875 \nQ 27.828125 65.921875 22.671875 59.328125 \nQ 17.53125 52.734375 16.796875 39.40625 \nQ 19.671875 43.65625 24.015625 45.921875 \nQ 28.375 48.1875 33.59375 48.1875 \nQ 44.578125 48.1875 50.953125 41.515625 \nQ 57.328125 34.859375 57.328125 23.390625 \nQ 57.328125 12.15625 50.6875 5.359375 \nQ 44.046875 -1.421875 33.015625 -1.421875 \nQ 20.359375 -1.421875 13.671875 8.265625 \nQ 6.984375 17.96875 6.984375 36.375 \nQ 6.984375 53.65625 15.1875 63.9375 \nQ 23.390625 74.21875 37.203125 74.21875 \nQ 40.921875 74.21875 44.703125 73.484375 \nQ 48.484375 72.75 52.59375 71.296875 \nz\n\" id=\"DejaVuSans-54\"/>\n      </defs>\n      <g transform=\"translate(239.569683 239.238438)scale(0.1 -0.1)\">\n       <use xlink:href=\"#DejaVuSans-54\"/>\n       <use x=\"63.623047\" xlink:href=\"#DejaVuSans-48\"/>\n      </g>\n     </g>\n    </g>\n    <g id=\"xtick_5\">\n     <g id=\"line2d_5\">\n      <g>\n       <use style=\"stroke:#000000;stroke-width:0.8;\" x=\"303.906209\" xlink:href=\"#mb0e808dedb\" y=\"224.64\"/>\n      </g>\n     </g>\n     <g id=\"text_5\">\n      <!-- 80 -->\n      <defs>\n       <path d=\"M 31.78125 34.625 \nQ 24.75 34.625 20.71875 30.859375 \nQ 16.703125 27.09375 16.703125 20.515625 \nQ 16.703125 13.921875 20.71875 10.15625 \nQ 24.75 6.390625 31.78125 6.390625 \nQ 38.8125 6.390625 42.859375 10.171875 \nQ 46.921875 13.96875 46.921875 20.515625 \nQ 46.921875 27.09375 42.890625 30.859375 \nQ 38.875 34.625 31.78125 34.625 \nz\nM 21.921875 38.8125 \nQ 15.578125 40.375 12.03125 44.71875 \nQ 8.5 49.078125 8.5 55.328125 \nQ 8.5 64.0625 14.71875 69.140625 \nQ 20.953125 74.21875 31.78125 74.21875 \nQ 42.671875 74.21875 48.875 69.140625 \nQ 55.078125 64.0625 55.078125 55.328125 \nQ 55.078125 49.078125 51.53125 44.71875 \nQ 48 40.375 41.703125 38.8125 \nQ 48.828125 37.15625 52.796875 32.3125 \nQ 56.78125 27.484375 56.78125 20.515625 \nQ 56.78125 9.90625 50.3125 4.234375 \nQ 43.84375 -1.421875 31.78125 -1.421875 \nQ 19.734375 -1.421875 13.25 4.234375 \nQ 6.78125 9.90625 6.78125 20.515625 \nQ 6.78125 27.484375 10.78125 32.3125 \nQ 14.796875 37.15625 21.921875 38.8125 \nz\nM 18.3125 54.390625 \nQ 18.3125 48.734375 21.84375 45.5625 \nQ 25.390625 42.390625 31.78125 42.390625 \nQ 38.140625 42.390625 41.71875 45.5625 \nQ 45.3125 48.734375 45.3125 54.390625 \nQ 45.3125 60.0625 41.71875 63.234375 \nQ 38.140625 66.40625 31.78125 66.40625 \nQ 25.390625 66.40625 21.84375 63.234375 \nQ 18.3125 60.0625 18.3125 54.390625 \nz\n\" id=\"DejaVuSans-56\"/>\n      </defs>\n      <g transform=\"translate(297.543709 239.238438)scale(0.1 -0.1)\">\n       <use xlink:href=\"#DejaVuSans-56\"/>\n       <use x=\"63.623047\" xlink:href=\"#DejaVuSans-48\"/>\n      </g>\n     </g>\n    </g>\n    <g id=\"xtick_6\">\n     <g id=\"line2d_6\">\n      <g>\n       <use style=\"stroke:#000000;stroke-width:0.8;\" x=\"361.880235\" xlink:href=\"#mb0e808dedb\" y=\"224.64\"/>\n      </g>\n     </g>\n     <g id=\"text_6\">\n      <!-- 100 -->\n      <defs>\n       <path d=\"M 12.40625 8.296875 \nL 28.515625 8.296875 \nL 28.515625 63.921875 \nL 10.984375 60.40625 \nL 10.984375 69.390625 \nL 28.421875 72.90625 \nL 38.28125 72.90625 \nL 38.28125 8.296875 \nL 54.390625 8.296875 \nL 54.390625 0 \nL 12.40625 0 \nz\n\" id=\"DejaVuSans-49\"/>\n      </defs>\n      <g transform=\"translate(352.336485 239.238438)scale(0.1 -0.1)\">\n       <use xlink:href=\"#DejaVuSans-49\"/>\n       <use x=\"63.623047\" xlink:href=\"#DejaVuSans-48\"/>\n       <use x=\"127.246094\" xlink:href=\"#DejaVuSans-48\"/>\n      </g>\n     </g>\n    </g>\n    <g id=\"text_7\">\n     <!-- day -->\n     <defs>\n      <path d=\"M 45.40625 46.390625 \nL 45.40625 75.984375 \nL 54.390625 75.984375 \nL 54.390625 0 \nL 45.40625 0 \nL 45.40625 8.203125 \nQ 42.578125 3.328125 38.25 0.953125 \nQ 33.9375 -1.421875 27.875 -1.421875 \nQ 17.96875 -1.421875 11.734375 6.484375 \nQ 5.515625 14.40625 5.515625 27.296875 \nQ 5.515625 40.1875 11.734375 48.09375 \nQ 17.96875 56 27.875 56 \nQ 33.9375 56 38.25 53.625 \nQ 42.578125 51.265625 45.40625 46.390625 \nz\nM 14.796875 27.296875 \nQ 14.796875 17.390625 18.875 11.75 \nQ 22.953125 6.109375 30.078125 6.109375 \nQ 37.203125 6.109375 41.296875 11.75 \nQ 45.40625 17.390625 45.40625 27.296875 \nQ 45.40625 37.203125 41.296875 42.84375 \nQ 37.203125 48.484375 30.078125 48.484375 \nQ 22.953125 48.484375 18.875 42.84375 \nQ 14.796875 37.203125 14.796875 27.296875 \nz\n\" id=\"DejaVuSans-100\"/>\n      <path d=\"M 34.28125 27.484375 \nQ 23.390625 27.484375 19.1875 25 \nQ 14.984375 22.515625 14.984375 16.5 \nQ 14.984375 11.71875 18.140625 8.90625 \nQ 21.296875 6.109375 26.703125 6.109375 \nQ 34.1875 6.109375 38.703125 11.40625 \nQ 43.21875 16.703125 43.21875 25.484375 \nL 43.21875 27.484375 \nz\nM 52.203125 31.203125 \nL 52.203125 0 \nL 43.21875 0 \nL 43.21875 8.296875 \nQ 40.140625 3.328125 35.546875 0.953125 \nQ 30.953125 -1.421875 24.3125 -1.421875 \nQ 15.921875 -1.421875 10.953125 3.296875 \nQ 6 8.015625 6 15.921875 \nQ 6 25.140625 12.171875 29.828125 \nQ 18.359375 34.515625 30.609375 34.515625 \nL 43.21875 34.515625 \nL 43.21875 35.40625 \nQ 43.21875 41.609375 39.140625 45 \nQ 35.0625 48.390625 27.6875 48.390625 \nQ 23 48.390625 18.546875 47.265625 \nQ 14.109375 46.140625 10.015625 43.890625 \nL 10.015625 52.203125 \nQ 14.9375 54.109375 19.578125 55.046875 \nQ 24.21875 56 28.609375 56 \nQ 40.484375 56 46.34375 49.84375 \nQ 52.203125 43.703125 52.203125 31.203125 \nz\n\" id=\"DejaVuSans-97\"/>\n      <path d=\"M 32.171875 -5.078125 \nQ 28.375 -14.84375 24.75 -17.8125 \nQ 21.140625 -20.796875 15.09375 -20.796875 \nL 7.90625 -20.796875 \nL 7.90625 -13.28125 \nL 13.1875 -13.28125 \nQ 16.890625 -13.28125 18.9375 -11.515625 \nQ 21 -9.765625 23.484375 -3.21875 \nL 25.09375 0.875 \nL 2.984375 54.6875 \nL 12.5 54.6875 \nL 29.59375 11.921875 \nL 46.6875 54.6875 \nL 56.203125 54.6875 \nz\n\" id=\"DejaVuSans-121\"/>\n     </defs>\n     <g transform=\"translate(217.892969 252.916563)scale(0.1 -0.1)\">\n      <use xlink:href=\"#DejaVuSans-100\"/>\n      <use x=\"63.476562\" xlink:href=\"#DejaVuSans-97\"/>\n      <use x=\"124.755859\" xlink:href=\"#DejaVuSans-121\"/>\n     </g>\n    </g>\n   </g>\n   <g id=\"matplotlib.axis_2\">\n    <g id=\"ytick_1\">\n     <g id=\"line2d_7\">\n      <defs>\n       <path d=\"M 0 0 \nL -3.5 0 \n\" id=\"mbe493995fe\" style=\"stroke:#000000;stroke-width:0.8;\"/>\n      </defs>\n      <g>\n       <use style=\"stroke:#000000;stroke-width:0.8;\" x=\"59.690625\" xlink:href=\"#mbe493995fe\" y=\"187.290361\"/>\n      </g>\n     </g>\n     <g id=\"text_8\">\n      <!-- 13000 -->\n      <defs>\n       <path d=\"M 40.578125 39.3125 \nQ 47.65625 37.796875 51.625 33 \nQ 55.609375 28.21875 55.609375 21.1875 \nQ 55.609375 10.40625 48.1875 4.484375 \nQ 40.765625 -1.421875 27.09375 -1.421875 \nQ 22.515625 -1.421875 17.65625 -0.515625 \nQ 12.796875 0.390625 7.625 2.203125 \nL 7.625 11.71875 \nQ 11.71875 9.328125 16.59375 8.109375 \nQ 21.484375 6.890625 26.8125 6.890625 \nQ 36.078125 6.890625 40.9375 10.546875 \nQ 45.796875 14.203125 45.796875 21.1875 \nQ 45.796875 27.640625 41.28125 31.265625 \nQ 36.765625 34.90625 28.71875 34.90625 \nL 20.21875 34.90625 \nL 20.21875 43.015625 \nL 29.109375 43.015625 \nQ 36.375 43.015625 40.234375 45.921875 \nQ 44.09375 48.828125 44.09375 54.296875 \nQ 44.09375 59.90625 40.109375 62.90625 \nQ 36.140625 65.921875 28.71875 65.921875 \nQ 24.65625 65.921875 20.015625 65.03125 \nQ 15.375 64.15625 9.8125 62.3125 \nL 9.8125 71.09375 \nQ 15.4375 72.65625 20.34375 73.4375 \nQ 25.25 74.21875 29.59375 74.21875 \nQ 40.828125 74.21875 47.359375 69.109375 \nQ 53.90625 64.015625 53.90625 55.328125 \nQ 53.90625 49.265625 50.4375 45.09375 \nQ 46.96875 40.921875 40.578125 39.3125 \nz\n\" id=\"DejaVuSans-51\"/>\n      </defs>\n      <g transform=\"translate(20.878125 191.08958)scale(0.1 -0.1)\">\n       <use xlink:href=\"#DejaVuSans-49\"/>\n       <use x=\"63.623047\" xlink:href=\"#DejaVuSans-51\"/>\n       <use x=\"127.246094\" xlink:href=\"#DejaVuSans-48\"/>\n       <use x=\"190.869141\" xlink:href=\"#DejaVuSans-48\"/>\n       <use x=\"254.492188\" xlink:href=\"#DejaVuSans-48\"/>\n      </g>\n     </g>\n    </g>\n    <g id=\"ytick_2\">\n     <g id=\"line2d_8\">\n      <g>\n       <use style=\"stroke:#000000;stroke-width:0.8;\" x=\"59.690625\" xlink:href=\"#mbe493995fe\" y=\"140.686472\"/>\n      </g>\n     </g>\n     <g id=\"text_9\">\n      <!-- 13200 -->\n      <g transform=\"translate(20.878125 144.485691)scale(0.1 -0.1)\">\n       <use xlink:href=\"#DejaVuSans-49\"/>\n       <use x=\"63.623047\" xlink:href=\"#DejaVuSans-51\"/>\n       <use x=\"127.246094\" xlink:href=\"#DejaVuSans-50\"/>\n       <use x=\"190.869141\" xlink:href=\"#DejaVuSans-48\"/>\n       <use x=\"254.492188\" xlink:href=\"#DejaVuSans-48\"/>\n      </g>\n     </g>\n    </g>\n    <g id=\"ytick_3\">\n     <g id=\"line2d_9\">\n      <g>\n       <use style=\"stroke:#000000;stroke-width:0.8;\" x=\"59.690625\" xlink:href=\"#mbe493995fe\" y=\"94.082583\"/>\n      </g>\n     </g>\n     <g id=\"text_10\">\n      <!-- 13400 -->\n      <g transform=\"translate(20.878125 97.881801)scale(0.1 -0.1)\">\n       <use xlink:href=\"#DejaVuSans-49\"/>\n       <use x=\"63.623047\" xlink:href=\"#DejaVuSans-51\"/>\n       <use x=\"127.246094\" xlink:href=\"#DejaVuSans-52\"/>\n       <use x=\"190.869141\" xlink:href=\"#DejaVuSans-48\"/>\n       <use x=\"254.492188\" xlink:href=\"#DejaVuSans-48\"/>\n      </g>\n     </g>\n    </g>\n    <g id=\"ytick_4\">\n     <g id=\"line2d_10\">\n      <g>\n       <use style=\"stroke:#000000;stroke-width:0.8;\" x=\"59.690625\" xlink:href=\"#mbe493995fe\" y=\"47.478693\"/>\n      </g>\n     </g>\n     <g id=\"text_11\">\n      <!-- 13600 -->\n      <g transform=\"translate(20.878125 51.277912)scale(0.1 -0.1)\">\n       <use xlink:href=\"#DejaVuSans-49\"/>\n       <use x=\"63.623047\" xlink:href=\"#DejaVuSans-51\"/>\n       <use x=\"127.246094\" xlink:href=\"#DejaVuSans-54\"/>\n       <use x=\"190.869141\" xlink:href=\"#DejaVuSans-48\"/>\n       <use x=\"254.492188\" xlink:href=\"#DejaVuSans-48\"/>\n      </g>\n     </g>\n    </g>\n    <g id=\"text_12\">\n     <!-- money -->\n     <defs>\n      <path d=\"M 52 44.1875 \nQ 55.375 50.25 60.0625 53.125 \nQ 64.75 56 71.09375 56 \nQ 79.640625 56 84.28125 50.015625 \nQ 88.921875 44.046875 88.921875 33.015625 \nL 88.921875 0 \nL 79.890625 0 \nL 79.890625 32.71875 \nQ 79.890625 40.578125 77.09375 44.375 \nQ 74.3125 48.1875 68.609375 48.1875 \nQ 61.625 48.1875 57.5625 43.546875 \nQ 53.515625 38.921875 53.515625 30.90625 \nL 53.515625 0 \nL 44.484375 0 \nL 44.484375 32.71875 \nQ 44.484375 40.625 41.703125 44.40625 \nQ 38.921875 48.1875 33.109375 48.1875 \nQ 26.21875 48.1875 22.15625 43.53125 \nQ 18.109375 38.875 18.109375 30.90625 \nL 18.109375 0 \nL 9.078125 0 \nL 9.078125 54.6875 \nL 18.109375 54.6875 \nL 18.109375 46.1875 \nQ 21.1875 51.21875 25.484375 53.609375 \nQ 29.78125 56 35.6875 56 \nQ 41.65625 56 45.828125 52.96875 \nQ 50 49.953125 52 44.1875 \nz\n\" id=\"DejaVuSans-109\"/>\n      <path d=\"M 30.609375 48.390625 \nQ 23.390625 48.390625 19.1875 42.75 \nQ 14.984375 37.109375 14.984375 27.296875 \nQ 14.984375 17.484375 19.15625 11.84375 \nQ 23.34375 6.203125 30.609375 6.203125 \nQ 37.796875 6.203125 41.984375 11.859375 \nQ 46.1875 17.53125 46.1875 27.296875 \nQ 46.1875 37.015625 41.984375 42.703125 \nQ 37.796875 48.390625 30.609375 48.390625 \nz\nM 30.609375 56 \nQ 42.328125 56 49.015625 48.375 \nQ 55.71875 40.765625 55.71875 27.296875 \nQ 55.71875 13.875 49.015625 6.21875 \nQ 42.328125 -1.421875 30.609375 -1.421875 \nQ 18.84375 -1.421875 12.171875 6.21875 \nQ 5.515625 13.875 5.515625 27.296875 \nQ 5.515625 40.765625 12.171875 48.375 \nQ 18.84375 56 30.609375 56 \nz\n\" id=\"DejaVuSans-111\"/>\n      <path d=\"M 54.890625 33.015625 \nL 54.890625 0 \nL 45.90625 0 \nL 45.90625 32.71875 \nQ 45.90625 40.484375 42.875 44.328125 \nQ 39.84375 48.1875 33.796875 48.1875 \nQ 26.515625 48.1875 22.3125 43.546875 \nQ 18.109375 38.921875 18.109375 30.90625 \nL 18.109375 0 \nL 9.078125 0 \nL 9.078125 54.6875 \nL 18.109375 54.6875 \nL 18.109375 46.1875 \nQ 21.34375 51.125 25.703125 53.5625 \nQ 30.078125 56 35.796875 56 \nQ 45.21875 56 50.046875 50.171875 \nQ 54.890625 44.34375 54.890625 33.015625 \nz\n\" id=\"DejaVuSans-110\"/>\n      <path d=\"M 56.203125 29.59375 \nL 56.203125 25.203125 \nL 14.890625 25.203125 \nQ 15.484375 15.921875 20.484375 11.0625 \nQ 25.484375 6.203125 34.421875 6.203125 \nQ 39.59375 6.203125 44.453125 7.46875 \nQ 49.3125 8.734375 54.109375 11.28125 \nL 54.109375 2.78125 \nQ 49.265625 0.734375 44.1875 -0.34375 \nQ 39.109375 -1.421875 33.890625 -1.421875 \nQ 20.796875 -1.421875 13.15625 6.1875 \nQ 5.515625 13.8125 5.515625 26.8125 \nQ 5.515625 40.234375 12.765625 48.109375 \nQ 20.015625 56 32.328125 56 \nQ 43.359375 56 49.78125 48.890625 \nQ 56.203125 41.796875 56.203125 29.59375 \nz\nM 47.21875 32.234375 \nQ 47.125 39.59375 43.09375 43.984375 \nQ 39.0625 48.390625 32.421875 48.390625 \nQ 24.90625 48.390625 20.390625 44.140625 \nQ 15.875 39.890625 15.1875 32.171875 \nz\n\" id=\"DejaVuSans-101\"/>\n     </defs>\n     <g transform=\"translate(14.798438 133.054375)rotate(-90)scale(0.1 -0.1)\">\n      <use xlink:href=\"#DejaVuSans-109\"/>\n      <use x=\"97.412109\" xlink:href=\"#DejaVuSans-111\"/>\n      <use x=\"158.59375\" xlink:href=\"#DejaVuSans-110\"/>\n      <use x=\"221.972656\" xlink:href=\"#DejaVuSans-101\"/>\n      <use x=\"283.496094\" xlink:href=\"#DejaVuSans-121\"/>\n     </g>\n    </g>\n   </g>\n   <g id=\"line2d_11\">\n    <path clip-path=\"url(#pca669a009e)\" d=\"M 74.908807 159.328028 \nL 77.807508 138.356277 \nL 80.706209 157.300759 \nL 83.604911 148.562529 \nL 86.503612 150.00725 \nL 89.402313 100.896071 \nL 92.301015 107.793447 \nL 95.199716 100.709656 \nL 98.098417 92.02036 \nL 100.997119 94.814264 \nL 103.89582 87.304047 \nL 106.794521 75.187036 \nL 109.693222 76.592143 \nL 112.591924 67.364573 \nL 115.490625 47.604524 \nL 118.389326 57.708247 \nL 121.288028 68.000716 \nL 124.186729 77.465966 \nL 127.08543 80.15734 \nL 129.984131 71.52863 \nL 132.882833 67.662838 \nL 135.781534 61.970172 \nL 138.680235 65.549351 \nL 141.578937 80.187633 \nL 144.477638 98.027602 \nL 147.376339 75.550546 \nL 150.275041 67.497394 \nL 153.173742 111.081351 \nL 156.072443 119.050616 \nL 158.971144 121.378481 \nL 161.869846 107.816749 \nL 164.768547 99.288237 \nL 167.667248 78.782526 \nL 170.56595 73.273946 \nL 173.464651 68.911822 \nL 176.363352 70.193429 \nL 179.262054 38.665898 \nL 182.160755 24.132475 \nL 185.059456 17.083636 \nL 187.958157 26.516264 \nL 190.856859 45.894161 \nL 193.75556 87.907567 \nL 196.654261 75.301215 \nL 199.552963 72.132151 \nL 202.451664 91.496067 \nL 205.350365 74.206024 \nL 208.249067 92.577277 \nL 211.147768 83.119018 \nL 214.046469 83.119018 \nL 216.94517 64.127933 \nL 219.843872 81.324768 \nL 222.742573 96.354522 \nL 225.641274 111.337673 \nL 228.539976 114.756068 \nL 231.438677 123.368467 \nL 234.337378 116.58294 \nL 237.23608 122.119482 \nL 240.134781 129.408331 \nL 243.033482 135.63461 \nL 245.932183 199.933997 \nL 248.830885 211.244761 \nL 251.729586 211.512733 \nL 254.628287 198.873758 \nL 257.526989 214.756364 \nL 260.42569 189.198791 \nL 263.324391 181.04777 \nL 266.223093 181.634979 \nL 269.121794 182.939888 \nL 272.020495 181.702555 \nL 274.919196 180.966214 \nL 277.817898 180.667949 \nL 280.716599 180.667949 \nL 283.6153 180.667949 \nL 286.514002 180.667949 \nL 289.412703 180.667949 \nL 292.311404 180.667949 \nL 295.210106 180.667949 \nL 298.108807 180.667949 \nL 301.007508 180.667949 \nL 303.906209 180.667949 \nL 306.804911 179.12536 \nL 309.703612 177.20528 \nL 312.602313 177.251884 \nL 315.501015 176.072805 \nL 318.399716 180.68193 \nL 321.298417 179.700918 \nL 324.197119 172.943354 \nL 327.09582 171.405426 \nL 329.994521 171.496303 \nL 332.893222 168.192087 \nL 335.791924 168.09888 \nL 338.690625 169.119505 \nL 341.589326 169.119505 \nL 344.488028 169.119505 \nL 347.386729 169.119505 \nL 350.28543 169.119505 \nL 353.184131 169.119505 \nL 356.082833 169.119505 \nL 358.981534 169.119505 \nL 361.880235 169.119505 \nL 364.778937 169.119505 \nL 367.677638 169.119505 \nL 370.576339 169.119505 \nL 373.475041 168.206069 \nL 376.373742 168.835221 \nL 379.272443 164.883211 \n\" style=\"fill:none;stroke:#1f77b4;stroke-linecap:square;stroke-width:1.5;\"/>\n   </g>\n   <g id=\"patch_3\">\n    <path d=\"M 59.690625 224.64 \nL 59.690625 7.2 \n\" style=\"fill:none;stroke:#000000;stroke-linecap:square;stroke-linejoin:miter;stroke-width:0.8;\"/>\n   </g>\n   <g id=\"patch_4\">\n    <path d=\"M 394.490625 224.64 \nL 394.490625 7.2 \n\" style=\"fill:none;stroke:#000000;stroke-linecap:square;stroke-linejoin:miter;stroke-width:0.8;\"/>\n   </g>\n   <g id=\"patch_5\">\n    <path d=\"M 59.690625 224.64 \nL 394.490625 224.64 \n\" style=\"fill:none;stroke:#000000;stroke-linecap:square;stroke-linejoin:miter;stroke-width:0.8;\"/>\n   </g>\n   <g id=\"patch_6\">\n    <path d=\"M 59.690625 7.2 \nL 394.490625 7.2 \n\" style=\"fill:none;stroke:#000000;stroke-linecap:square;stroke-linejoin:miter;stroke-width:0.8;\"/>\n   </g>\n  </g>\n </g>\n <defs>\n  <clipPath id=\"pca669a009e\">\n   <rect height=\"217.44\" width=\"334.8\" x=\"59.690625\" y=\"7.2\"/>\n  </clipPath>\n </defs>\n</svg>\n",
      "text/plain": "<Figure size 432x288 with 1 Axes>"
     },
     "metadata": {
      "needs_background": "light"
     },
     "output_type": "display_data"
    }
   ],
   "source": [
    "from stock_market_simulation import load_stock_prices_from_json, Trader\n",
    "\n",
    "stock_prices = load_stock_prices_from_json()\n",
    "\n",
    "\n",
    "# Impact of the tweet of the classification of each tweet result\n",
    "data['impact'] = data.likes + data.replies + data.retweets\n",
    "# Recommendation obtained by the classifier\n",
    "data['recommendation'] = svm_classifier.predict(tweet_vectors)\n",
    "\n",
    "# Decide on the action of the day, based on the recommendations per tweet weighted by their impact.\n",
    "actions = []\n",
    "for day, group in data.groupby(data['timestamp'], as_index=False):\n",
    "     \n",
    "    weighted_recommendation = 0\n",
    "    for impact, recommendation in zip(group.impact, group.recommendation):\n",
    "        if recommendation:\n",
    "            weighted_recommendation += impact\n",
    "        else:\n",
    "            weighted_recommendation -= impact\n",
    "    weighted_recommendation /= sum(group.impact)\n",
    "    # Experiment with thresholds for the actions on the stock market\n",
    "    actions.append([day, 1 if weighted_recommendation > 0.5 else -1 if weighted_recommendation < 0 else 0])\n",
    "\n",
    "actions = pd.DataFrame(actions, columns=['day', 'action'])\n",
    "actions = actions.set_index('day').resample('D').asfreq(fill_value=0)\n",
    "actions = actions.loc[stock_prices.index]['action'].to_list()\n",
    "\n",
    "print(actions)\n",
    "print(len(stock_prices))\n",
    "print(len(actions))\n",
    "\n",
    "simulation = Trader(stock_prices, actions)\n",
    "simulation.stock_action()\n"
   ]
  },
  {
   "cell_type": "code",
   "execution_count": 54,
   "metadata": {},
   "outputs": [
    {
     "data": {
      "text/html": "<div>\n<style scoped>\n    .dataframe tbody tr th:only-of-type {\n        vertical-align: middle;\n    }\n\n    .dataframe tbody tr th {\n        vertical-align: top;\n    }\n\n    .dataframe thead th {\n        text-align: right;\n    }\n</style>\n<table border=\"1\" class=\"dataframe\">\n  <thead>\n    <tr style=\"text-align: right;\">\n      <th></th>\n      <th>timestamp</th>\n      <th>hashtags</th>\n      <th>text</th>\n      <th>username</th>\n      <th>likes</th>\n      <th>replies</th>\n      <th>retweets</th>\n      <th>Open</th>\n      <th>Close</th>\n      <th>PriceUp</th>\n      <th>impact</th>\n      <th>recomendations</th>\n      <th>recomendation</th>\n    </tr>\n  </thead>\n  <tbody>\n    <tr>\n      <th>0</th>\n      <td>2018-01-02</td>\n      <td>[Tesla, ModelS]</td>\n      <td>In the past 2 years, I've driven 18,823 miles ...</td>\n      <td>Ben Sullins 💪</td>\n      <td>110</td>\n      <td>6</td>\n      <td>10</td>\n      <td>312.00</td>\n      <td>320.53</td>\n      <td>True</td>\n      <td>126</td>\n      <td>False</td>\n      <td>False</td>\n    </tr>\n    <tr>\n      <th>1</th>\n      <td>2018-01-02</td>\n      <td>[Tesla, P90D, Blog, Youtube]</td>\n      <td>Ya estamos en @louesfera probando un #Tesla #P...</td>\n      <td>Fco Javier</td>\n      <td>2</td>\n      <td>1</td>\n      <td>2</td>\n      <td>312.00</td>\n      <td>320.53</td>\n      <td>True</td>\n      <td>5</td>\n      <td>True</td>\n      <td>True</td>\n    </tr>\n    <tr>\n      <th>2</th>\n      <td>2018-01-02</td>\n      <td>[Snapchat, Uber, Twitter, Facebook, Tesla, Goo...</td>\n      <td>Here's how old these companies will be turning...</td>\n      <td>Imran</td>\n      <td>53</td>\n      <td>7</td>\n      <td>41</td>\n      <td>312.00</td>\n      <td>320.53</td>\n      <td>True</td>\n      <td>101</td>\n      <td>False</td>\n      <td>False</td>\n    </tr>\n    <tr>\n      <th>3</th>\n      <td>2018-01-02</td>\n      <td>[Muskwatchpic]</td>\n      <td>From SpaceX to Tesla, here are our biggest que...</td>\n      <td>Nerdist</td>\n      <td>37</td>\n      <td>5</td>\n      <td>10</td>\n      <td>312.00</td>\n      <td>320.53</td>\n      <td>True</td>\n      <td>52</td>\n      <td>False</td>\n      <td>False</td>\n    </tr>\n    <tr>\n      <th>4</th>\n      <td>2018-01-02</td>\n      <td>[Braunschweig, VW, Tesla]</td>\n      <td>In #Braunschweig produziert #VW seine Batterie...</td>\n      <td>HAZ</td>\n      <td>5</td>\n      <td>3</td>\n      <td>2</td>\n      <td>312.00</td>\n      <td>320.53</td>\n      <td>True</td>\n      <td>10</td>\n      <td>True</td>\n      <td>True</td>\n    </tr>\n    <tr>\n      <th>...</th>\n      <td>...</td>\n      <td>...</td>\n      <td>...</td>\n      <td>...</td>\n      <td>...</td>\n      <td>...</td>\n      <td>...</td>\n      <td>...</td>\n      <td>...</td>\n      <td>...</td>\n      <td>...</td>\n      <td>...</td>\n      <td>...</td>\n    </tr>\n    <tr>\n      <th>4944</th>\n      <td>2018-06-04</td>\n      <td>[Tesla_Insurance, Tesla_Model_S]</td>\n      <td>Best Rate On Tesla Auto Insurance? Prepare For...</td>\n      <td>InsideEVs</td>\n      <td>3</td>\n      <td>2</td>\n      <td>2</td>\n      <td>294.34</td>\n      <td>296.74</td>\n      <td>True</td>\n      <td>7</td>\n      <td>True</td>\n      <td>True</td>\n    </tr>\n    <tr>\n      <th>4945</th>\n      <td>2018-06-04</td>\n      <td>[teslavoda, tesla, fiba3x3, limanteslavoda, ba...</td>\n      <td>Strong deffence   @instazvonko .\\n Chengdu Ch...</td>\n      <td>Liman 3x3</td>\n      <td>4</td>\n      <td>2</td>\n      <td>1</td>\n      <td>294.34</td>\n      <td>296.74</td>\n      <td>True</td>\n      <td>7</td>\n      <td>False</td>\n      <td>False</td>\n    </tr>\n    <tr>\n      <th>4946</th>\n      <td>2018-06-04</td>\n      <td>[Tesla, Model3pic]</td>\n      <td>Report: Tesla Has Refunded 23% of Model 3 Depo...</td>\n      <td>Tesla Motors Club</td>\n      <td>91</td>\n      <td>13</td>\n      <td>13</td>\n      <td>294.34</td>\n      <td>296.74</td>\n      <td>True</td>\n      <td>117</td>\n      <td>True</td>\n      <td>True</td>\n    </tr>\n    <tr>\n      <th>4947</th>\n      <td>2018-06-04</td>\n      <td>[Tesla, NikolaTeslapic]</td>\n      <td>Make electricity free again! #Tesla #NikolaTes...</td>\n      <td>Mr A 🎶🎵 ♏</td>\n      <td>2</td>\n      <td>1</td>\n      <td>1</td>\n      <td>294.34</td>\n      <td>296.74</td>\n      <td>True</td>\n      <td>4</td>\n      <td>True</td>\n      <td>True</td>\n    </tr>\n    <tr>\n      <th>4948</th>\n      <td>2018-06-04</td>\n      <td>[Tesla, ElonMusk, CFD, forex, equitypic]</td>\n      <td>#Tesla #ElonMusk #CFD #forex #equitypic.twitte...</td>\n      <td>The Utkarsh</td>\n      <td>2</td>\n      <td>1</td>\n      <td>1</td>\n      <td>294.34</td>\n      <td>296.74</td>\n      <td>True</td>\n      <td>4</td>\n      <td>True</td>\n      <td>True</td>\n    </tr>\n  </tbody>\n</table>\n<p>4949 rows × 13 columns</p>\n</div>",
      "text/plain": "      timestamp                                           hashtags  \\\n0    2018-01-02                                    [Tesla, ModelS]   \n1    2018-01-02                       [Tesla, P90D, Blog, Youtube]   \n2    2018-01-02  [Snapchat, Uber, Twitter, Facebook, Tesla, Goo...   \n3    2018-01-02                                     [Muskwatchpic]   \n4    2018-01-02                          [Braunschweig, VW, Tesla]   \n...         ...                                                ...   \n4944 2018-06-04                   [Tesla_Insurance, Tesla_Model_S]   \n4945 2018-06-04  [teslavoda, tesla, fiba3x3, limanteslavoda, ba...   \n4946 2018-06-04                                 [Tesla, Model3pic]   \n4947 2018-06-04                            [Tesla, NikolaTeslapic]   \n4948 2018-06-04           [Tesla, ElonMusk, CFD, forex, equitypic]   \n\n                                                   text           username  \\\n0     In the past 2 years, I've driven 18,823 miles ...      Ben Sullins 💪   \n1     Ya estamos en @louesfera probando un #Tesla #P...         Fco Javier   \n2     Here's how old these companies will be turning...              Imran   \n3     From SpaceX to Tesla, here are our biggest que...            Nerdist   \n4     In #Braunschweig produziert #VW seine Batterie...                HAZ   \n...                                                 ...                ...   \n4944  Best Rate On Tesla Auto Insurance? Prepare For...          InsideEVs   \n4945   Strong deffence   @instazvonko .\\n Chengdu Ch...          Liman 3x3   \n4946  Report: Tesla Has Refunded 23% of Model 3 Depo...  Tesla Motors Club   \n4947  Make electricity free again! #Tesla #NikolaTes...          Mr A 🎶🎵 ♏   \n4948  #Tesla #ElonMusk #CFD #forex #equitypic.twitte...        The Utkarsh   \n\n      likes  replies  retweets    Open   Close  PriceUp  impact  \\\n0       110        6        10  312.00  320.53     True     126   \n1         2        1         2  312.00  320.53     True       5   \n2        53        7        41  312.00  320.53     True     101   \n3        37        5        10  312.00  320.53     True      52   \n4         5        3         2  312.00  320.53     True      10   \n...     ...      ...       ...     ...     ...      ...     ...   \n4944      3        2         2  294.34  296.74     True       7   \n4945      4        2         1  294.34  296.74     True       7   \n4946     91       13        13  294.34  296.74     True     117   \n4947      2        1         1  294.34  296.74     True       4   \n4948      2        1         1  294.34  296.74     True       4   \n\n      recomendations  recomendation  \n0              False          False  \n1               True           True  \n2              False          False  \n3              False          False  \n4               True           True  \n...              ...            ...  \n4944            True           True  \n4945           False          False  \n4946            True           True  \n4947            True           True  \n4948            True           True  \n\n[4949 rows x 13 columns]"
     },
     "execution_count": 54,
     "metadata": {},
     "output_type": "execute_result"
    }
   ],
   "source": [
    "data"
   ]
  },
  {
   "cell_type": "code",
   "execution_count": null,
   "metadata": {},
   "outputs": [],
   "source": []
  }
 ],
 "metadata": {
  "kernelspec": {
   "display_name": "Python 3",
   "language": "python",
   "name": "python3"
  },
  "language_info": {
   "codemirror_mode": {
    "name": "ipython",
    "version": 3
   },
   "file_extension": ".py",
   "mimetype": "text/x-python",
   "name": "python",
   "nbconvert_exporter": "python",
   "pygments_lexer": "ipython3",
   "version": "3.7.6-final"
  }
 },
 "nbformat": 4,
 "nbformat_minor": 4
}