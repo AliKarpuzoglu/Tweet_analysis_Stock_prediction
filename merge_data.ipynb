{
 "cells": [
  {
   "cell_type": "markdown",
   "metadata": {},
   "source": [
    "### Merge tweets and stock price dataframes\n",
    "Load all cleaned tweets, which are saved in separate files, load all stock prices and combine them in single dataframe grouped by date."
   ]
  },
  {
   "cell_type": "code",
   "execution_count": 142,
   "metadata": {},
   "outputs": [
    {
     "data": {
      "text/plain": [
       "'0.25.3'"
      ]
     },
     "execution_count": 142,
     "metadata": {},
     "output_type": "execute_result"
    }
   ],
   "source": [
    "import os\n",
    "import pandas as pd\n",
    "# reset colwitdth options when running all cells \n",
    "pd.reset_option('display.max_colwidth')\n",
    "pd.__version__"
   ]
  },
  {
   "cell_type": "code",
   "execution_count": 143,
   "metadata": {},
   "outputs": [],
   "source": [
    "# read in all the tweets\n",
    "tweets_dfs = []\n",
    "directory = '../data/processed/strict/'\n",
    "for subdir, dirs, files in os.walk(directory):\n",
    "    for file in files:\n",
    "        tweets_dfs.append(pd.read_json(directory+file))\n",
    "        \n",
    "tweets = pd.concat(tweets_dfs)"
   ]
  },
  {
   "cell_type": "code",
   "execution_count": 144,
   "metadata": {},
   "outputs": [
    {
     "data": {
      "text/html": [
       "<div>\n",
       "<style scoped>\n",
       "    .dataframe tbody tr th:only-of-type {\n",
       "        vertical-align: middle;\n",
       "    }\n",
       "\n",
       "    .dataframe tbody tr th {\n",
       "        vertical-align: top;\n",
       "    }\n",
       "\n",
       "    .dataframe thead th {\n",
       "        text-align: right;\n",
       "    }\n",
       "</style>\n",
       "<table border=\"1\" class=\"dataframe\">\n",
       "  <thead>\n",
       "    <tr style=\"text-align: right;\">\n",
       "      <th></th>\n",
       "      <th>timestamp</th>\n",
       "      <th>hashtags</th>\n",
       "      <th>text</th>\n",
       "      <th>username</th>\n",
       "      <th>likes</th>\n",
       "      <th>replies</th>\n",
       "      <th>retweets</th>\n",
       "    </tr>\n",
       "  </thead>\n",
       "  <tbody>\n",
       "    <tr>\n",
       "      <th>165</th>\n",
       "      <td>2018-01-01 23:15:29</td>\n",
       "      <td>[Tesla]</td>\n",
       "      <td>“Precisely one of the most gratifying results ...</td>\n",
       "      <td>Á̵̢̙͉̫ 𝐫 𝐝 𝐢 𝐧 ≤≥ 🌐</td>\n",
       "      <td>16</td>\n",
       "      <td>1</td>\n",
       "      <td>1</td>\n",
       "    </tr>\n",
       "    <tr>\n",
       "      <th>489</th>\n",
       "      <td>2018-01-01 21:52:27</td>\n",
       "      <td>[NewYearsDay, NewYearsEve2017, HappyNewYear, T...</td>\n",
       "      <td>It’s 2018.  We have self driving cars but stil...</td>\n",
       "      <td>Nicholas E. Calhoun</td>\n",
       "      <td>2</td>\n",
       "      <td>1</td>\n",
       "      <td>1</td>\n",
       "    </tr>\n",
       "    <tr>\n",
       "      <th>527</th>\n",
       "      <td>2018-01-01 21:42:16</td>\n",
       "      <td>[Tesla, TeslaMotors, ElectricVehicle, ElonMusk...</td>\n",
       "      <td>#Tesla Powerwall initiative in Vermont is grow...</td>\n",
       "      <td>EVANNEX for Tesla</td>\n",
       "      <td>33</td>\n",
       "      <td>1</td>\n",
       "      <td>8</td>\n",
       "    </tr>\n",
       "    <tr>\n",
       "      <th>802</th>\n",
       "      <td>2018-01-01 20:54:24</td>\n",
       "      <td>[Ganador, Gemelos, Tesla, enhorabuena]</td>\n",
       "      <td>#Ganador #Gemelos #Tesla @Isilopez_101 #enhora...</td>\n",
       "      <td>MQE Más Que Eléctricos</td>\n",
       "      <td>5</td>\n",
       "      <td>1</td>\n",
       "      <td>2</td>\n",
       "    </tr>\n",
       "    <tr>\n",
       "      <th>1087</th>\n",
       "      <td>2018-01-01 20:00:00</td>\n",
       "      <td>[Tesla]</td>\n",
       "      <td>#Tesla hat bislang nur Verluste angehäuft. Ist...</td>\n",
       "      <td>Frankfurter Allgemeine</td>\n",
       "      <td>6</td>\n",
       "      <td>3</td>\n",
       "      <td>2</td>\n",
       "    </tr>\n",
       "    <tr>\n",
       "      <th>...</th>\n",
       "      <td>...</td>\n",
       "      <td>...</td>\n",
       "      <td>...</td>\n",
       "      <td>...</td>\n",
       "      <td>...</td>\n",
       "      <td>...</td>\n",
       "      <td>...</td>\n",
       "    </tr>\n",
       "    <tr>\n",
       "      <th>697922</th>\n",
       "      <td>2018-04-02 02:27:33</td>\n",
       "      <td>[Lithium, ASX, dow, finance, Cobalt, Tesla, tr...</td>\n",
       "      <td>$GPP  CRTuresi #Lithium project rig expected t...</td>\n",
       "      <td>SeeThru👁</td>\n",
       "      <td>3</td>\n",
       "      <td>1</td>\n",
       "      <td>1</td>\n",
       "    </tr>\n",
       "    <tr>\n",
       "      <th>698520</th>\n",
       "      <td>2018-04-02 01:11:52</td>\n",
       "      <td>[Spaceman, Tiangong, Tiangong1, stazionespazia...</td>\n",
       "      <td>Hey #Spaceman, did you see the #Tiangong? \\n#T...</td>\n",
       "      <td>Massimo Guerrera</td>\n",
       "      <td>19</td>\n",
       "      <td>2</td>\n",
       "      <td>4</td>\n",
       "    </tr>\n",
       "    <tr>\n",
       "      <th>698544</th>\n",
       "      <td>2018-04-02 01:08:28</td>\n",
       "      <td>[ElonMusk, Tesla]</td>\n",
       "      <td>#ElonMusk sends April Fool's Day tweets joking...</td>\n",
       "      <td>The Straits Times</td>\n",
       "      <td>20</td>\n",
       "      <td>1</td>\n",
       "      <td>8</td>\n",
       "    </tr>\n",
       "    <tr>\n",
       "      <th>698814</th>\n",
       "      <td>2018-04-02 00:36:37</td>\n",
       "      <td>[electric, car, electriccar, ev, tesla, autono...</td>\n",
       "      <td>electric car via NodeXL  \\n@sufiy\\n@amazingche...</td>\n",
       "      <td>NodeXL Pro</td>\n",
       "      <td>4</td>\n",
       "      <td>1</td>\n",
       "      <td>2</td>\n",
       "    </tr>\n",
       "    <tr>\n",
       "      <th>699232</th>\n",
       "      <td>2018-04-02 00:00:16</td>\n",
       "      <td>[glendale, losangeles, asthma, cleanair, glend...</td>\n",
       "      <td>#glendale #losangeles #asthma #cleanair #glend...</td>\n",
       "      <td>Jackie ECO🐋🌲☮️🌎🐾♻️🐱✡️🐶🦋🕷🐝🦅🦇🦉💚</td>\n",
       "      <td>3</td>\n",
       "      <td>1</td>\n",
       "      <td>1</td>\n",
       "    </tr>\n",
       "  </tbody>\n",
       "</table>\n",
       "<p>6303 rows × 7 columns</p>\n",
       "</div>"
      ],
      "text/plain": [
       "                 timestamp                                           hashtags  \\\n",
       "165    2018-01-01 23:15:29                                            [Tesla]   \n",
       "489    2018-01-01 21:52:27  [NewYearsDay, NewYearsEve2017, HappyNewYear, T...   \n",
       "527    2018-01-01 21:42:16  [Tesla, TeslaMotors, ElectricVehicle, ElonMusk...   \n",
       "802    2018-01-01 20:54:24             [Ganador, Gemelos, Tesla, enhorabuena]   \n",
       "1087   2018-01-01 20:00:00                                            [Tesla]   \n",
       "...                    ...                                                ...   \n",
       "697922 2018-04-02 02:27:33  [Lithium, ASX, dow, finance, Cobalt, Tesla, tr...   \n",
       "698520 2018-04-02 01:11:52  [Spaceman, Tiangong, Tiangong1, stazionespazia...   \n",
       "698544 2018-04-02 01:08:28                                  [ElonMusk, Tesla]   \n",
       "698814 2018-04-02 00:36:37  [electric, car, electriccar, ev, tesla, autono...   \n",
       "699232 2018-04-02 00:00:16  [glendale, losangeles, asthma, cleanair, glend...   \n",
       "\n",
       "                                                     text  \\\n",
       "165     “Precisely one of the most gratifying results ...   \n",
       "489     It’s 2018.  We have self driving cars but stil...   \n",
       "527     #Tesla Powerwall initiative in Vermont is grow...   \n",
       "802     #Ganador #Gemelos #Tesla @Isilopez_101 #enhora...   \n",
       "1087    #Tesla hat bislang nur Verluste angehäuft. Ist...   \n",
       "...                                                   ...   \n",
       "697922  $GPP  CRTuresi #Lithium project rig expected t...   \n",
       "698520  Hey #Spaceman, did you see the #Tiangong? \\n#T...   \n",
       "698544  #ElonMusk sends April Fool's Day tweets joking...   \n",
       "698814  electric car via NodeXL  \\n@sufiy\\n@amazingche...   \n",
       "699232  #glendale #losangeles #asthma #cleanair #glend...   \n",
       "\n",
       "                             username  likes  replies  retweets  \n",
       "165              Á̵̢̙͉̫ 𝐫 𝐝 𝐢 𝐧 ≤≥ 🌐     16        1         1  \n",
       "489               Nicholas E. Calhoun      2        1         1  \n",
       "527                 EVANNEX for Tesla     33        1         8  \n",
       "802            MQE Más Que Eléctricos      5        1         2  \n",
       "1087           Frankfurter Allgemeine      6        3         2  \n",
       "...                               ...    ...      ...       ...  \n",
       "697922                       SeeThru👁      3        1         1  \n",
       "698520               Massimo Guerrera     19        2         4  \n",
       "698544              The Straits Times     20        1         8  \n",
       "698814                     NodeXL Pro      4        1         2  \n",
       "699232  Jackie ECO🐋🌲☮️🌎🐾♻️🐱✡️🐶🦋🕷🐝🦅🦇🦉💚      3        1         1  \n",
       "\n",
       "[6303 rows x 7 columns]"
      ]
     },
     "execution_count": 144,
     "metadata": {},
     "output_type": "execute_result"
    }
   ],
   "source": [
    "tweets"
   ]
  },
  {
   "cell_type": "code",
   "execution_count": 145,
   "metadata": {},
   "outputs": [],
   "source": [
    "# uncomment lines below to generate a dataframe report\n",
    "# import pandas_profiling as profile\n",
    "# profile = profile.ProfileReport(tweets, title='Daily Tweets Profiling Report', html={'style':{'full_width':True}})\n",
    "# profile.to_file(output_file=\"tweets_df_report.html\")"
   ]
  },
  {
   "cell_type": "code",
   "execution_count": 146,
   "metadata": {},
   "outputs": [
    {
     "data": {
      "text/plain": [
       "(6266, 7)"
      ]
     },
     "execution_count": 146,
     "metadata": {},
     "output_type": "execute_result"
    }
   ],
   "source": [
    "# the dataframe report has shown that there are some rows with duplicate tweet texts... remove these\n",
    "tweets.drop_duplicates(subset='text', keep='first', inplace=True)\n",
    "tweets.shape"
   ]
  },
  {
   "cell_type": "code",
   "execution_count": 147,
   "metadata": {},
   "outputs": [
    {
     "data": {
      "text/html": [
       "<div>\n",
       "<style scoped>\n",
       "    .dataframe tbody tr th:only-of-type {\n",
       "        vertical-align: middle;\n",
       "    }\n",
       "\n",
       "    .dataframe tbody tr th {\n",
       "        vertical-align: top;\n",
       "    }\n",
       "\n",
       "    .dataframe thead th {\n",
       "        text-align: right;\n",
       "    }\n",
       "</style>\n",
       "<table border=\"1\" class=\"dataframe\">\n",
       "  <thead>\n",
       "    <tr style=\"text-align: right;\">\n",
       "      <th></th>\n",
       "      <th>timestamp</th>\n",
       "      <th>hashtags</th>\n",
       "      <th>text</th>\n",
       "      <th>username</th>\n",
       "      <th>likes</th>\n",
       "      <th>replies</th>\n",
       "      <th>retweets</th>\n",
       "    </tr>\n",
       "  </thead>\n",
       "  <tbody>\n",
       "    <tr>\n",
       "      <th>165</th>\n",
       "      <td>2018-01-01</td>\n",
       "      <td>[Tesla]</td>\n",
       "      <td>“Precisely one of the most gratifying results ...</td>\n",
       "      <td>Á̵̢̙͉̫ 𝐫 𝐝 𝐢 𝐧 ≤≥ 🌐</td>\n",
       "      <td>16</td>\n",
       "      <td>1</td>\n",
       "      <td>1</td>\n",
       "    </tr>\n",
       "    <tr>\n",
       "      <th>489</th>\n",
       "      <td>2018-01-01</td>\n",
       "      <td>[NewYearsDay, NewYearsEve2017, HappyNewYear, T...</td>\n",
       "      <td>It’s 2018.  We have self driving cars but stil...</td>\n",
       "      <td>Nicholas E. Calhoun</td>\n",
       "      <td>2</td>\n",
       "      <td>1</td>\n",
       "      <td>1</td>\n",
       "    </tr>\n",
       "  </tbody>\n",
       "</table>\n",
       "</div>"
      ],
      "text/plain": [
       "      timestamp                                           hashtags  \\\n",
       "165  2018-01-01                                            [Tesla]   \n",
       "489  2018-01-01  [NewYearsDay, NewYearsEve2017, HappyNewYear, T...   \n",
       "\n",
       "                                                  text              username  \\\n",
       "165  “Precisely one of the most gratifying results ...  Á̵̢̙͉̫ 𝐫 𝐝 𝐢 𝐧 ≤≥ 🌐   \n",
       "489  It’s 2018.  We have self driving cars but stil...   Nicholas E. Calhoun   \n",
       "\n",
       "     likes  replies  retweets  \n",
       "165     16        1         1  \n",
       "489      2        1         1  "
      ]
     },
     "execution_count": 147,
     "metadata": {},
     "output_type": "execute_result"
    }
   ],
   "source": [
    "# remove the time information as we only have stock price data per day\n",
    "# tweets['timestamp'] = pd.DatetimeIndex(tweets['timestamp']).normalize()\n",
    "tweets['timestamp'] = tweets['timestamp'].dt.date\n",
    "tweets.head(2)"
   ]
  },
  {
   "cell_type": "markdown",
   "metadata": {},
   "source": [
    "### Load the stock market data and merge both dataframes"
   ]
  },
  {
   "cell_type": "code",
   "execution_count": 148,
   "metadata": {},
   "outputs": [
    {
     "name": "stdout",
     "output_type": "stream",
     "text": [
      "<class 'pandas.core.frame.DataFrame'>\n",
      "DatetimeIndex: 106 entries, 2018-01-02 to 2018-06-04\n",
      "Data columns (total 3 columns):\n",
      "Open       106 non-null float64\n",
      "Close      106 non-null float64\n",
      "PriceUp    106 non-null bool\n",
      "dtypes: bool(1), float64(2)\n",
      "memory usage: 2.6 KB\n"
     ]
    }
   ],
   "source": [
    "# load stock data\n",
    "stocks = pd.read_json('../data/processed/stock/stocks_cleaned.json')\n",
    "stocks.info()"
   ]
  },
  {
   "cell_type": "code",
   "execution_count": 149,
   "metadata": {},
   "outputs": [
    {
     "name": "stdout",
     "output_type": "stream",
     "text": [
      "<class 'pandas.core.frame.DataFrame'>\n",
      "Int64Index: 6266 entries, 165 to 699232\n",
      "Data columns (total 7 columns):\n",
      "timestamp    6266 non-null object\n",
      "hashtags     6266 non-null object\n",
      "text         6266 non-null object\n",
      "username     6266 non-null object\n",
      "likes        6266 non-null int64\n",
      "replies      6266 non-null int64\n",
      "retweets     6266 non-null int64\n",
      "dtypes: int64(3), object(4)\n",
      "memory usage: 391.6+ KB\n"
     ]
    }
   ],
   "source": [
    "# compare with tweets df\n",
    "tweets.info()"
   ]
  },
  {
   "cell_type": "code",
   "execution_count": 150,
   "metadata": {},
   "outputs": [
    {
     "name": "stdout",
     "output_type": "stream",
     "text": [
      "<class 'pandas.core.frame.DataFrame'>\n",
      "DatetimeIndex: 6266 entries, 2018-01-01 to 2018-06-04\n",
      "Data columns (total 7 columns):\n",
      "timestamp    6266 non-null datetime64[ns]\n",
      "hashtags     6266 non-null object\n",
      "text         6266 non-null object\n",
      "username     6266 non-null object\n",
      "likes        6266 non-null int64\n",
      "replies      6266 non-null int64\n",
      "retweets     6266 non-null int64\n",
      "dtypes: datetime64[ns](1), int64(3), object(3)\n",
      "memory usage: 391.6+ KB\n"
     ]
    }
   ],
   "source": [
    "# change tweets index to be the timestamp to be able to merge it with the stock market df\n",
    "tweets['timestamp'] = pd.to_datetime(tweets['timestamp'])\n",
    "tweets.set_index('timestamp', inplace=True)\n",
    "tweets.sort_index(inplace=True)\n",
    "tweets.info()"
   ]
  },
  {
   "cell_type": "code",
   "execution_count": 151,
   "metadata": {},
   "outputs": [
    {
     "name": "stdout",
     "output_type": "stream",
     "text": [
      "<class 'pandas.core.frame.DataFrame'>\n",
      "DatetimeIndex: 4949 entries, 2018-01-02 to 2018-06-04\n",
      "Data columns (total 10 columns):\n",
      "timestamp    4949 non-null datetime64[ns]\n",
      "hashtags     4949 non-null object\n",
      "text         4949 non-null object\n",
      "username     4949 non-null object\n",
      "likes        4949 non-null int64\n",
      "replies      4949 non-null int64\n",
      "retweets     4949 non-null int64\n",
      "Open         4949 non-null float64\n",
      "Close        4949 non-null float64\n",
      "PriceUp      4949 non-null bool\n",
      "dtypes: bool(1), datetime64[ns](1), float64(2), int64(3), object(3)\n",
      "memory usage: 391.5+ KB\n"
     ]
    }
   ],
   "source": [
    "# combine both datasets with an inner merge, which will remove days with missing stock prices\n",
    "data = pd.merge(tweets, stocks, left_index=True, right_index=True)\n",
    "data.info()"
   ]
  },
  {
   "cell_type": "code",
   "execution_count": 152,
   "metadata": {},
   "outputs": [
    {
     "data": {
      "text/html": [
       "<div>\n",
       "<style scoped>\n",
       "    .dataframe tbody tr th:only-of-type {\n",
       "        vertical-align: middle;\n",
       "    }\n",
       "\n",
       "    .dataframe tbody tr th {\n",
       "        vertical-align: top;\n",
       "    }\n",
       "\n",
       "    .dataframe thead th {\n",
       "        text-align: right;\n",
       "    }\n",
       "</style>\n",
       "<table border=\"1\" class=\"dataframe\">\n",
       "  <thead>\n",
       "    <tr style=\"text-align: right;\">\n",
       "      <th></th>\n",
       "      <th>timestamp</th>\n",
       "      <th>hashtags</th>\n",
       "      <th>text</th>\n",
       "      <th>username</th>\n",
       "      <th>likes</th>\n",
       "      <th>replies</th>\n",
       "      <th>retweets</th>\n",
       "      <th>Open</th>\n",
       "      <th>Close</th>\n",
       "      <th>PriceUp</th>\n",
       "    </tr>\n",
       "  </thead>\n",
       "  <tbody>\n",
       "    <tr>\n",
       "      <th>2018-01-02</th>\n",
       "      <td>2018-01-02</td>\n",
       "      <td>[Tesla, ModelS]</td>\n",
       "      <td>In the past 2 years, I've driven 18,823 miles ...</td>\n",
       "      <td>Ben Sullins 💪</td>\n",
       "      <td>110</td>\n",
       "      <td>6</td>\n",
       "      <td>10</td>\n",
       "      <td>312.0</td>\n",
       "      <td>320.53</td>\n",
       "      <td>True</td>\n",
       "    </tr>\n",
       "    <tr>\n",
       "      <th>2018-01-02</th>\n",
       "      <td>2018-01-02</td>\n",
       "      <td>[Tesla, P90D, Blog, Youtube]</td>\n",
       "      <td>Ya estamos en @louesfera probando un #Tesla #P...</td>\n",
       "      <td>Fco Javier</td>\n",
       "      <td>2</td>\n",
       "      <td>1</td>\n",
       "      <td>2</td>\n",
       "      <td>312.0</td>\n",
       "      <td>320.53</td>\n",
       "      <td>True</td>\n",
       "    </tr>\n",
       "  </tbody>\n",
       "</table>\n",
       "</div>"
      ],
      "text/plain": [
       "            timestamp                      hashtags  \\\n",
       "2018-01-02 2018-01-02               [Tesla, ModelS]   \n",
       "2018-01-02 2018-01-02  [Tesla, P90D, Blog, Youtube]   \n",
       "\n",
       "                                                         text       username  \\\n",
       "2018-01-02  In the past 2 years, I've driven 18,823 miles ...  Ben Sullins 💪   \n",
       "2018-01-02  Ya estamos en @louesfera probando un #Tesla #P...     Fco Javier   \n",
       "\n",
       "            likes  replies  retweets   Open   Close  PriceUp  \n",
       "2018-01-02    110        6        10  312.0  320.53     True  \n",
       "2018-01-02      2        1         2  312.0  320.53     True  "
      ]
     },
     "execution_count": 152,
     "metadata": {},
     "output_type": "execute_result"
    }
   ],
   "source": [
    "data.head(2)"
   ]
  },
  {
   "cell_type": "markdown",
   "metadata": {},
   "source": [
    "### Save the merged data"
   ]
  },
  {
   "cell_type": "code",
   "execution_count": 157,
   "metadata": {},
   "outputs": [
    {
     "data": {
      "text/html": [
       "<div>\n",
       "<style scoped>\n",
       "    .dataframe tbody tr th:only-of-type {\n",
       "        vertical-align: middle;\n",
       "    }\n",
       "\n",
       "    .dataframe tbody tr th {\n",
       "        vertical-align: top;\n",
       "    }\n",
       "\n",
       "    .dataframe thead th {\n",
       "        text-align: right;\n",
       "    }\n",
       "</style>\n",
       "<table border=\"1\" class=\"dataframe\">\n",
       "  <thead>\n",
       "    <tr style=\"text-align: right;\">\n",
       "      <th></th>\n",
       "      <th>level_0</th>\n",
       "      <th>index</th>\n",
       "      <th>timestamp</th>\n",
       "      <th>hashtags</th>\n",
       "      <th>text</th>\n",
       "      <th>username</th>\n",
       "      <th>likes</th>\n",
       "      <th>replies</th>\n",
       "      <th>retweets</th>\n",
       "      <th>Open</th>\n",
       "      <th>Close</th>\n",
       "      <th>PriceUp</th>\n",
       "    </tr>\n",
       "  </thead>\n",
       "  <tbody>\n",
       "    <tr>\n",
       "      <th>0</th>\n",
       "      <td>0</td>\n",
       "      <td>2018-01-02</td>\n",
       "      <td>2018-01-02</td>\n",
       "      <td>[Tesla, ModelS]</td>\n",
       "      <td>In the past 2 years, I've driven 18,823 miles ...</td>\n",
       "      <td>Ben Sullins 💪</td>\n",
       "      <td>110</td>\n",
       "      <td>6</td>\n",
       "      <td>10</td>\n",
       "      <td>312.0</td>\n",
       "      <td>320.53</td>\n",
       "      <td>True</td>\n",
       "    </tr>\n",
       "    <tr>\n",
       "      <th>1</th>\n",
       "      <td>1</td>\n",
       "      <td>2018-01-02</td>\n",
       "      <td>2018-01-02</td>\n",
       "      <td>[Tesla, P90D, Blog, Youtube]</td>\n",
       "      <td>Ya estamos en @louesfera probando un #Tesla #P...</td>\n",
       "      <td>Fco Javier</td>\n",
       "      <td>2</td>\n",
       "      <td>1</td>\n",
       "      <td>2</td>\n",
       "      <td>312.0</td>\n",
       "      <td>320.53</td>\n",
       "      <td>True</td>\n",
       "    </tr>\n",
       "  </tbody>\n",
       "</table>\n",
       "</div>"
      ],
      "text/plain": [
       "   level_0      index  timestamp                      hashtags  \\\n",
       "0        0 2018-01-02 2018-01-02               [Tesla, ModelS]   \n",
       "1        1 2018-01-02 2018-01-02  [Tesla, P90D, Blog, Youtube]   \n",
       "\n",
       "                                                text       username  likes  \\\n",
       "0  In the past 2 years, I've driven 18,823 miles ...  Ben Sullins 💪    110   \n",
       "1  Ya estamos en @louesfera probando un #Tesla #P...     Fco Javier      2   \n",
       "\n",
       "   replies  retweets   Open   Close  PriceUp  \n",
       "0        6        10  312.0  320.53     True  \n",
       "1        1         2  312.0  320.53     True  "
      ]
     },
     "execution_count": 157,
     "metadata": {},
     "output_type": "execute_result"
    }
   ],
   "source": [
    "# save the full merged dataset\n",
    "data.reset_index(inplace=True)\n",
    "data.to_json('../data/processed/data_merged.json')\n",
    "data.head(2)"
   ]
  },
  {
   "cell_type": "markdown",
   "metadata": {},
   "source": [
    "### "
   ]
  }
 ],
 "metadata": {
  "kernelspec": {
   "display_name": "Python 3",
   "language": "python",
   "name": "python3"
  },
  "language_info": {
   "codemirror_mode": {
    "name": "ipython",
    "version": 3
   },
   "file_extension": ".py",
   "mimetype": "text/x-python",
   "name": "python",
   "nbconvert_exporter": "python",
   "pygments_lexer": "ipython3",
   "version": "3.7.5"
  }
 },
 "nbformat": 4,
 "nbformat_minor": 4
}
