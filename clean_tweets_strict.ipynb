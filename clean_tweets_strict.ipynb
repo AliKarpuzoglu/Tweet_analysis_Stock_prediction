{
 "cells": [
  {
   "cell_type": "code",
   "execution_count": 1,
   "metadata": {},
   "outputs": [],
   "source": [
    "import functools\n",
    "import pandas as pd\n",
    "# reset colwitdth options when running all cells \n",
    "pd.reset_option('display.max_colwidth')"
   ]
  },
  {
   "cell_type": "code",
   "execution_count": 2,
   "metadata": {},
   "outputs": [
    {
     "name": "stdout",
     "output_type": "stream",
     "text": "Tweets DF shape:  (699237, 21)\n"
    },
    {
     "data": {
      "text/html": "<div>\n<style scoped>\n    .dataframe tbody tr th:only-of-type {\n        vertical-align: middle;\n    }\n\n    .dataframe tbody tr th {\n        vertical-align: top;\n    }\n\n    .dataframe thead th {\n        text-align: right;\n    }\n</style>\n<table border=\"1\" class=\"dataframe\">\n  <thead>\n    <tr style=\"text-align: right;\">\n      <th></th>\n      <th>has_media</th>\n      <th>hashtags</th>\n      <th>img_urls</th>\n      <th>is_replied</th>\n      <th>is_reply_to</th>\n      <th>likes</th>\n      <th>links</th>\n      <th>parent_tweet_id</th>\n      <th>replies</th>\n      <th>reply_to_users</th>\n      <th>...</th>\n      <th>screen_name</th>\n      <th>text</th>\n      <th>text_html</th>\n      <th>timestamp</th>\n      <th>timestamp_epochs</th>\n      <th>tweet_id</th>\n      <th>tweet_url</th>\n      <th>user_id</th>\n      <th>username</th>\n      <th>video_url</th>\n    </tr>\n  </thead>\n  <tbody>\n    <tr>\n      <th>0</th>\n      <td>False</td>\n      <td>[]</td>\n      <td>[]</td>\n      <td>False</td>\n      <td>False</td>\n      <td>0</td>\n      <td>[]</td>\n      <td></td>\n      <td>0</td>\n      <td>[]</td>\n      <td>...</td>\n      <td>21Deepakchauhan</td>\n      <td>“Our senses enable us to perceive only a minut...</td>\n      <td>&lt;p class=\"TweetTextSize js-tweet-text tweet-te...</td>\n      <td>2018-05-07 23:59:54</td>\n      <td>2018-05-07 23:59:54</td>\n      <td>993641605260238848</td>\n      <td>/21Deepakchauhan/status/993641605260238848</td>\n      <td>4211216135</td>\n      <td>Deepak Chauhan</td>\n      <td></td>\n    </tr>\n    <tr>\n      <th>1</th>\n      <td>True</td>\n      <td>[Grimes, ElonMusk, Tesla]</td>\n      <td>[https://pbs.twimg.com/media/Dcofwl6XUAAXo45.jpg]</td>\n      <td>True</td>\n      <td>False</td>\n      <td>3</td>\n      <td>[]</td>\n      <td></td>\n      <td>3</td>\n      <td>[]</td>\n      <td>...</td>\n      <td>SpartanWire</td>\n      <td>19 years ago the guy on the left had no chance...</td>\n      <td>&lt;p class=\"TweetTextSize js-tweet-text tweet-te...</td>\n      <td>2018-05-07 23:59:51</td>\n      <td>2018-05-07 23:59:51</td>\n      <td>993641592488628224</td>\n      <td>/SpartanWire/status/993641592488628224</td>\n      <td>3704044761</td>\n      <td>SpartanWire</td>\n      <td></td>\n    </tr>\n    <tr>\n      <th>2</th>\n      <td>False</td>\n      <td>[]</td>\n      <td>[]</td>\n      <td>False</td>\n      <td>False</td>\n      <td>0</td>\n      <td>[]</td>\n      <td></td>\n      <td>0</td>\n      <td>[]</td>\n      <td>...</td>\n      <td>everymoshling</td>\n      <td>Who are these Zoshling creatures? I'm afraid I...</td>\n      <td>&lt;p class=\"TweetTextSize js-tweet-text tweet-te...</td>\n      <td>2018-05-07 23:59:18</td>\n      <td>2018-05-07 23:59:18</td>\n      <td>993641453556387840</td>\n      <td>/everymoshling/status/993641453556387840</td>\n      <td>3719699973</td>\n      <td>Buster Bumblechops</td>\n      <td></td>\n    </tr>\n    <tr>\n      <th>3</th>\n      <td>False</td>\n      <td>[]</td>\n      <td>[]</td>\n      <td>False</td>\n      <td>False</td>\n      <td>0</td>\n      <td>[https://www.zerohedge.com/news/2018-05-07/aft...</td>\n      <td></td>\n      <td>0</td>\n      <td>[]</td>\n      <td>...</td>\n      <td>NosbigsTrader</td>\n      <td>After Taunting Shorts With Threats Of \"Unreal ...</td>\n      <td>&lt;p class=\"TweetTextSize js-tweet-text tweet-te...</td>\n      <td>2018-05-07 23:59:15</td>\n      <td>2018-05-07 23:59:15</td>\n      <td>993641444190638080</td>\n      <td>/NosbigsTrader/status/993641444190638082</td>\n      <td>747614854073171968</td>\n      <td>SzeriNosBiggsTrading2.0</td>\n      <td></td>\n    </tr>\n    <tr>\n      <th>4</th>\n      <td>False</td>\n      <td>[]</td>\n      <td>[]</td>\n      <td>False</td>\n      <td>False</td>\n      <td>0</td>\n      <td>[http://dlvr.it/QS5YD0]</td>\n      <td></td>\n      <td>0</td>\n      <td>[]</td>\n      <td>...</td>\n      <td>Forextrade3</td>\n      <td>Intraday Update: Dow Jumps 150 Points as Tesla...</td>\n      <td>&lt;p class=\"TweetTextSize js-tweet-text tweet-te...</td>\n      <td>2018-05-07 23:59:15</td>\n      <td>2018-05-07 23:59:15</td>\n      <td>993641443737550848</td>\n      <td>/Forextrade3/status/993641443737550848</td>\n      <td>619674970</td>\n      <td>Forex trade</td>\n      <td></td>\n    </tr>\n  </tbody>\n</table>\n<p>5 rows × 21 columns</p>\n</div>",
      "text/plain": "   has_media                   hashtags  \\\n0      False                         []   \n1       True  [Grimes, ElonMusk, Tesla]   \n2      False                         []   \n3      False                         []   \n4      False                         []   \n\n                                            img_urls  is_replied  is_reply_to  \\\n0                                                 []       False        False   \n1  [https://pbs.twimg.com/media/Dcofwl6XUAAXo45.jpg]        True        False   \n2                                                 []       False        False   \n3                                                 []       False        False   \n4                                                 []       False        False   \n\n   likes                                              links parent_tweet_id  \\\n0      0                                                 []                   \n1      3                                                 []                   \n2      0                                                 []                   \n3      0  [https://www.zerohedge.com/news/2018-05-07/aft...                   \n4      0                            [http://dlvr.it/QS5YD0]                   \n\n   replies reply_to_users  ...      screen_name  \\\n0        0             []  ...  21Deepakchauhan   \n1        3             []  ...      SpartanWire   \n2        0             []  ...    everymoshling   \n3        0             []  ...    NosbigsTrader   \n4        0             []  ...      Forextrade3   \n\n                                                text  \\\n0  “Our senses enable us to perceive only a minut...   \n1  19 years ago the guy on the left had no chance...   \n2  Who are these Zoshling creatures? I'm afraid I...   \n3  After Taunting Shorts With Threats Of \"Unreal ...   \n4  Intraday Update: Dow Jumps 150 Points as Tesla...   \n\n                                           text_html           timestamp  \\\n0  <p class=\"TweetTextSize js-tweet-text tweet-te... 2018-05-07 23:59:54   \n1  <p class=\"TweetTextSize js-tweet-text tweet-te... 2018-05-07 23:59:51   \n2  <p class=\"TweetTextSize js-tweet-text tweet-te... 2018-05-07 23:59:18   \n3  <p class=\"TweetTextSize js-tweet-text tweet-te... 2018-05-07 23:59:15   \n4  <p class=\"TweetTextSize js-tweet-text tweet-te... 2018-05-07 23:59:15   \n\n     timestamp_epochs            tweet_id  \\\n0 2018-05-07 23:59:54  993641605260238848   \n1 2018-05-07 23:59:51  993641592488628224   \n2 2018-05-07 23:59:18  993641453556387840   \n3 2018-05-07 23:59:15  993641444190638080   \n4 2018-05-07 23:59:15  993641443737550848   \n\n                                    tweet_url             user_id  \\\n0  /21Deepakchauhan/status/993641605260238848          4211216135   \n1      /SpartanWire/status/993641592488628224          3704044761   \n2    /everymoshling/status/993641453556387840          3719699973   \n3    /NosbigsTrader/status/993641444190638082  747614854073171968   \n4      /Forextrade3/status/993641443737550848           619674970   \n\n                  username video_url  \n0           Deepak Chauhan            \n1              SpartanWire            \n2       Buster Bumblechops            \n3  SzeriNosBiggsTrading2.0            \n4              Forex trade            \n\n[5 rows x 21 columns]"
     },
     "execution_count": 2,
     "metadata": {},
     "output_type": "execute_result"
    }
   ],
   "source": [
    "filename = \"tweets_2018_10.json\"\n",
    "tweets = pd.read_json(\"../data/\"+filename)\n",
    "print(\"Tweets DF shape: \", tweets.shape)\n",
    "num_tweets_loaded = tweets.shape[0]\n",
    "tweets.head()\n"
   ]
  },
  {
   "cell_type": "code",
   "execution_count": 3,
   "metadata": {},
   "outputs": [],
   "source": [
    "# uncomment lines below to generate a dataframe report\n",
    "# import pandas_profiling as profile\n",
    "# profile = profile.ProfileReport(tweets, title='Daily Tweets Profiling Report', html={'style':{'full_width':True}})\n",
    "# profile.to_file(output_file=\"tweets02_df_report.html\")"
   ]
  },
  {
   "cell_type": "code",
   "execution_count": 4,
   "metadata": {},
   "outputs": [
    {
     "name": "stdout",
     "output_type": "stream",
     "text": "Tweets DF shape:  (699237, 9)\n"
    },
    {
     "data": {
      "text/html": "<div>\n<style scoped>\n    .dataframe tbody tr th:only-of-type {\n        vertical-align: middle;\n    }\n\n    .dataframe tbody tr th {\n        vertical-align: top;\n    }\n\n    .dataframe thead th {\n        text-align: right;\n    }\n</style>\n<table border=\"1\" class=\"dataframe\">\n  <thead>\n    <tr style=\"text-align: right;\">\n      <th></th>\n      <th>timestamp</th>\n      <th>hashtags</th>\n      <th>text</th>\n      <th>username</th>\n      <th>likes</th>\n      <th>replies</th>\n      <th>retweets</th>\n      <th>links</th>\n      <th>img_urls</th>\n    </tr>\n  </thead>\n  <tbody>\n    <tr>\n      <th>0</th>\n      <td>2018-05-07 23:59:54</td>\n      <td>[]</td>\n      <td>“Our senses enable us to perceive only a minut...</td>\n      <td>Deepak Chauhan</td>\n      <td>0</td>\n      <td>0</td>\n      <td>0</td>\n      <td>[]</td>\n      <td>[]</td>\n    </tr>\n    <tr>\n      <th>1</th>\n      <td>2018-05-07 23:59:51</td>\n      <td>[Grimes, ElonMusk, Tesla]</td>\n      <td>19 years ago the guy on the left had no chance...</td>\n      <td>SpartanWire</td>\n      <td>3</td>\n      <td>3</td>\n      <td>0</td>\n      <td>[]</td>\n      <td>[https://pbs.twimg.com/media/Dcofwl6XUAAXo45.jpg]</td>\n    </tr>\n    <tr>\n      <th>2</th>\n      <td>2018-05-07 23:59:18</td>\n      <td>[]</td>\n      <td>Who are these Zoshling creatures? I'm afraid I...</td>\n      <td>Buster Bumblechops</td>\n      <td>0</td>\n      <td>0</td>\n      <td>0</td>\n      <td>[]</td>\n      <td>[]</td>\n    </tr>\n    <tr>\n      <th>3</th>\n      <td>2018-05-07 23:59:15</td>\n      <td>[]</td>\n      <td>After Taunting Shorts With Threats Of \"Unreal ...</td>\n      <td>SzeriNosBiggsTrading2.0</td>\n      <td>0</td>\n      <td>0</td>\n      <td>0</td>\n      <td>[https://www.zerohedge.com/news/2018-05-07/aft...</td>\n      <td>[]</td>\n    </tr>\n    <tr>\n      <th>4</th>\n      <td>2018-05-07 23:59:15</td>\n      <td>[]</td>\n      <td>Intraday Update: Dow Jumps 150 Points as Tesla...</td>\n      <td>Forex trade</td>\n      <td>0</td>\n      <td>0</td>\n      <td>0</td>\n      <td>[http://dlvr.it/QS5YD0]</td>\n      <td>[]</td>\n    </tr>\n  </tbody>\n</table>\n</div>",
      "text/plain": "            timestamp                   hashtags  \\\n0 2018-05-07 23:59:54                         []   \n1 2018-05-07 23:59:51  [Grimes, ElonMusk, Tesla]   \n2 2018-05-07 23:59:18                         []   \n3 2018-05-07 23:59:15                         []   \n4 2018-05-07 23:59:15                         []   \n\n                                                text                 username  \\\n0  “Our senses enable us to perceive only a minut...           Deepak Chauhan   \n1  19 years ago the guy on the left had no chance...              SpartanWire   \n2  Who are these Zoshling creatures? I'm afraid I...       Buster Bumblechops   \n3  After Taunting Shorts With Threats Of \"Unreal ...  SzeriNosBiggsTrading2.0   \n4  Intraday Update: Dow Jumps 150 Points as Tesla...              Forex trade   \n\n   likes  replies  retweets  \\\n0      0        0         0   \n1      3        3         0   \n2      0        0         0   \n3      0        0         0   \n4      0        0         0   \n\n                                               links  \\\n0                                                 []   \n1                                                 []   \n2                                                 []   \n3  [https://www.zerohedge.com/news/2018-05-07/aft...   \n4                            [http://dlvr.it/QS5YD0]   \n\n                                            img_urls  \n0                                                 []  \n1  [https://pbs.twimg.com/media/Dcofwl6XUAAXo45.jpg]  \n2                                                 []  \n3                                                 []  \n4                                                 []  "
     },
     "execution_count": 4,
     "metadata": {},
     "output_type": "execute_result"
    }
   ],
   "source": [
    "# drop columns we will not use\n",
    "tweets.drop(columns='has_media parent_tweet_id video_url user_id tweet_url tweet_id is_reply_to reply_to_users '\n",
    "            'timestamp_epochs text_html screen_name is_replied'.split(), inplace=True)\n",
    "\n",
    "# rearrange columns\n",
    "cols = 'timestamp hashtags text username likes replies retweets links img_urls'.split() \n",
    "tweets = tweets[cols]\n",
    "\n",
    "print(\"Tweets DF shape: \", tweets.shape)\n",
    "tweets.head()"
   ]
  },
  {
   "cell_type": "code",
   "execution_count": 5,
   "metadata": {},
   "outputs": [],
   "source": [
    "## remove all tweets that do not have a tesla or elonmusk hashtag\n",
    "# check hashtags column types first\n",
    "# print(tweets['hashtags'].dtypes)\n",
    "\n",
    "# UPDATE: After discussion, we decided to remain popular tweets \n",
    "# even when they do not have a tag, expecting lots of people not always tagging their texts"
   ]
  },
  {
   "cell_type": "code",
   "execution_count": 6,
   "metadata": {},
   "outputs": [
    {
     "name": "stdout",
     "output_type": "stream",
     "text": "<class 'list'>\nGrimes ElonMusk Tesla\nFalse\n"
    }
   ],
   "source": [
    "# getting more familiar with the data types\n",
    "print(type(tweets.iloc[0]['hashtags']))\n",
    "print(' '.join(tweets.iloc[1]['hashtags']))\n",
    "print('tesla' in ' '.join(tweets.iloc[1]['hashtags']))\n",
    "# type(tweets.iloc[1]['hashtags'][0])\n",
    "\n",
    "#INSIGHT: Even the dtype of the hashtags column is 'object', \n",
    "# when we access it, we get a list"
   ]
  },
  {
   "cell_type": "markdown",
   "metadata": {},
   "source": [
    "#### Observation:\n",
    "We have tweets in different languages: Already saw one in German. Would suggest to first ignore this fact. "
   ]
  },
  {
   "cell_type": "code",
   "execution_count": 7,
   "metadata": {},
   "outputs": [
    {
     "name": "stdout",
     "output_type": "stream",
     "text": "“Our senses enable us to perceive only a minute portion of the outside world.”\n~Nikola Tesla\n\nTesla patent reveals secret behind its solar roof tile’s camouflage capacity - Tesla developed a new glass with louvers that reflect that light in a way that makes it look opaque at a lower angle when combined with a backsheet layer while still remaining… http://bit.ly/2jFifev \n\nLouis V Tesla\n\nLive on the outdoor concert stage @OOBBC Folsom Kraft Kitchen and Biergarten 5/19 from 7-11pm.  @FrankHannon FREE fan appreciation concert and CD release of his new album “From One Place to Another” Vol 2.  Come check out the legendary Tesla guitar player in action! pic.twitter.com/GmtJ2Yw5uG\n"
    }
   ],
   "source": [
    "# print some tweets to see how we could further clean them up\n",
    "print('\\n\\n'.join(list(tweets.iloc[0:20:5,2])))\n"
   ]
  },
  {
   "cell_type": "markdown",
   "metadata": {},
   "source": [
    "#### Observations:\n",
    "- remove Links (can also later be removed by spacy!)\n",
    "- some tweets do not contain Tesla related information at all "
   ]
  },
  {
   "cell_type": "code",
   "execution_count": 8,
   "metadata": {},
   "outputs": [
    {
     "name": "stdout",
     "output_type": "stream",
     "text": "“Our senses enable us to perceive only a minute portion of the outside world.”\n~Nikola Tesla\n\nTesla patent reveals secret behind its solar roof tile’s camouflage capacity - Tesla developed a new glass with louvers that reflect that light in a way that makes it look opaque at a lower angle when combined with a backsheet layer while still remaining…  \n\nLouis V Tesla\n\nLive on the outdoor concert stage @OOBBC Folsom Kraft Kitchen and Biergarten 5/19 from 7-11pm.  @FrankHannon FREE fan appreciation concert and CD release of his new album “From One Place to Another” Vol 2.  Come check out the legendary Tesla guitar player in action! pic.twitter.com/GmtJ2Yw5uG\n"
    }
   ],
   "source": [
    "# remove links from all the tweet texts\n",
    "tweets['text'] = [functools.reduce(lambda text, link: text.replace(link, ''), links, text) \n",
    "                  for (text,links) in zip(tweets['text'],tweets['links']) ]\n",
    "tweets['text'] = [functools.reduce(lambda text, link: text.replace(link, ''), links, text)\n",
    "                  for (text,links) in zip(tweets['text'],tweets['img_urls']) ]\n",
    "\n",
    "print('\\n\\n'.join(list(tweets.iloc[0:20:5,2])))"
   ]
  },
  {
   "cell_type": "code",
   "execution_count": 9,
   "metadata": {},
   "outputs": [
    {
     "name": "stdout",
     "output_type": "stream",
     "text": "(699237, 7)\n"
    },
    {
     "data": {
      "text/html": "<div>\n<style scoped>\n    .dataframe tbody tr th:only-of-type {\n        vertical-align: middle;\n    }\n\n    .dataframe tbody tr th {\n        vertical-align: top;\n    }\n\n    .dataframe thead th {\n        text-align: right;\n    }\n</style>\n<table border=\"1\" class=\"dataframe\">\n  <thead>\n    <tr style=\"text-align: right;\">\n      <th></th>\n      <th>timestamp</th>\n      <th>hashtags</th>\n      <th>text</th>\n      <th>username</th>\n      <th>likes</th>\n      <th>replies</th>\n      <th>retweets</th>\n    </tr>\n  </thead>\n  <tbody>\n    <tr>\n      <th>0</th>\n      <td>2018-05-07 23:59:54</td>\n      <td>[]</td>\n      <td>“Our senses enable us to perceive only a minut...</td>\n      <td>Deepak Chauhan</td>\n      <td>0</td>\n      <td>0</td>\n      <td>0</td>\n    </tr>\n    <tr>\n      <th>1</th>\n      <td>2018-05-07 23:59:51</td>\n      <td>[Grimes, ElonMusk, Tesla]</td>\n      <td>19 years ago the guy on the left had no chance...</td>\n      <td>SpartanWire</td>\n      <td>3</td>\n      <td>3</td>\n      <td>0</td>\n    </tr>\n    <tr>\n      <th>2</th>\n      <td>2018-05-07 23:59:18</td>\n      <td>[]</td>\n      <td>Who are these Zoshling creatures? I'm afraid I...</td>\n      <td>Buster Bumblechops</td>\n      <td>0</td>\n      <td>0</td>\n      <td>0</td>\n    </tr>\n    <tr>\n      <th>3</th>\n      <td>2018-05-07 23:59:15</td>\n      <td>[]</td>\n      <td>After Taunting Shorts With Threats Of \"Unreal ...</td>\n      <td>SzeriNosBiggsTrading2.0</td>\n      <td>0</td>\n      <td>0</td>\n      <td>0</td>\n    </tr>\n    <tr>\n      <th>4</th>\n      <td>2018-05-07 23:59:15</td>\n      <td>[]</td>\n      <td>Intraday Update: Dow Jumps 150 Points as Tesla...</td>\n      <td>Forex trade</td>\n      <td>0</td>\n      <td>0</td>\n      <td>0</td>\n    </tr>\n  </tbody>\n</table>\n</div>",
      "text/plain": "            timestamp                   hashtags  \\\n0 2018-05-07 23:59:54                         []   \n1 2018-05-07 23:59:51  [Grimes, ElonMusk, Tesla]   \n2 2018-05-07 23:59:18                         []   \n3 2018-05-07 23:59:15                         []   \n4 2018-05-07 23:59:15                         []   \n\n                                                text                 username  \\\n0  “Our senses enable us to perceive only a minut...           Deepak Chauhan   \n1  19 years ago the guy on the left had no chance...              SpartanWire   \n2  Who are these Zoshling creatures? I'm afraid I...       Buster Bumblechops   \n3  After Taunting Shorts With Threats Of \"Unreal ...  SzeriNosBiggsTrading2.0   \n4  Intraday Update: Dow Jumps 150 Points as Tesla...              Forex trade   \n\n   likes  replies  retweets  \n0      0        0         0  \n1      3        3         0  \n2      0        0         0  \n3      0        0         0  \n4      0        0         0  "
     },
     "execution_count": 9,
     "metadata": {},
     "output_type": "execute_result"
    }
   ],
   "source": [
    "# Some Links could still not be removed as they are not saved as an image url or link. We'll remove them later with spacy.\n",
    "# remove columns \"links\" and \"img_urls\"\n",
    "tweets.drop(columns=['links', 'img_urls'], inplace=True)\n",
    "print(tweets.shape)\n",
    "tweets.head()"
   ]
  },
  {
   "cell_type": "markdown",
   "metadata": {},
   "source": [
    "### Discussion:\n",
    "Actually we don't think that tweets that were not liked and retweeted could possibly influence the stock market. So we will remove them. On the other hand, a tweet could be a reaction to a change in the stock price, don't get any attention (no likes and retweets) but still relevant!"
   ]
  },
  {
   "cell_type": "code",
   "execution_count": 10,
   "metadata": {},
   "outputs": [
    {
     "name": "stdout",
     "output_type": "stream",
     "text": "(136478, 7)\n/home/jonas/Documents/NLP4Web/.venv/lib64/python3.7/site-packages/ipykernel_launcher.py:7: FutureWarning: Passing a negative integer is deprecated in version 1.0 and will not be supported in future version. Instead, use None to not limit the column width.\n  import sys\n"
    },
    {
     "data": {
      "text/html": "<div>\n<style scoped>\n    .dataframe tbody tr th:only-of-type {\n        vertical-align: middle;\n    }\n\n    .dataframe tbody tr th {\n        vertical-align: top;\n    }\n\n    .dataframe thead th {\n        text-align: right;\n    }\n</style>\n<table border=\"1\" class=\"dataframe\">\n  <thead>\n    <tr style=\"text-align: right;\">\n      <th></th>\n      <th>timestamp</th>\n      <th>hashtags</th>\n      <th>text</th>\n      <th>username</th>\n      <th>likes</th>\n      <th>replies</th>\n      <th>retweets</th>\n    </tr>\n  </thead>\n  <tbody>\n    <tr>\n      <th>1</th>\n      <td>2018-05-07 23:59:51</td>\n      <td>[Grimes, ElonMusk, Tesla]</td>\n      <td>19 years ago the guy on the left had no chance at #Grimes.\\n#ElonMusk #Tesla pic.twitter.com/Y4uW6c9gyc</td>\n      <td>SpartanWire</td>\n      <td>3</td>\n      <td>3</td>\n      <td>0</td>\n    </tr>\n    <tr>\n      <th>12</th>\n      <td>2018-05-07 23:57:37</td>\n      <td>[]</td>\n      <td>2 for 1 hotbox the Tesla be grand</td>\n      <td>roB leixLip</td>\n      <td>1</td>\n      <td>2</td>\n      <td>0</td>\n    </tr>\n    <tr>\n      <th>15</th>\n      <td>2018-05-07 23:57:17</td>\n      <td>[]</td>\n      <td>Live on the outdoor concert stage @OOBBC Folsom Kraft Kitchen and Biergarten 5/19 from 7-11pm.  @FrankHannon FREE fan appreciation concert and CD release of his new album “From One Place to Another” Vol 2.  Come check out the legendary Tesla guitar player in action! pic.twitter.com/GmtJ2Yw5uG</td>\n      <td>OutOfBoundsBrewing</td>\n      <td>3</td>\n      <td>0</td>\n      <td>0</td>\n    </tr>\n    <tr>\n      <th>18</th>\n      <td>2018-05-07 23:55:33</td>\n      <td>[]</td>\n      <td>He's going to insert a single Tesla matchbox car into the pussy and make motor noises. Revolutionary.</td>\n      <td>Rev. Dr. Jacuzzi Toblerone</td>\n      <td>4</td>\n      <td>1</td>\n      <td>0</td>\n    </tr>\n    <tr>\n      <th>21</th>\n      <td>2018-05-07 23:59:51</td>\n      <td>[Grimes, ElonMusk, Tesla]</td>\n      <td>19 years ago the guy on the left had no chance at #Grimes.\\n#ElonMusk #Tesla pic.twitter.com/Y4uW6c9gyc</td>\n      <td>SpartanWire</td>\n      <td>3</td>\n      <td>3</td>\n      <td>0</td>\n    </tr>\n  </tbody>\n</table>\n</div>",
      "text/plain": "             timestamp                   hashtags  \\\n1  2018-05-07 23:59:51  [Grimes, ElonMusk, Tesla]   \n12 2018-05-07 23:57:37  []                          \n15 2018-05-07 23:57:17  []                          \n18 2018-05-07 23:55:33  []                          \n21 2018-05-07 23:59:51  [Grimes, ElonMusk, Tesla]   \n\n                                                                                                                                                                                                                                                                                                     text  \\\n1   19 years ago the guy on the left had no chance at #Grimes.\\n#ElonMusk #Tesla pic.twitter.com/Y4uW6c9gyc                                                                                                                                                                                                 \n12  2 for 1 hotbox the Tesla be grand                                                                                                                                                                                                                                                                       \n15  Live on the outdoor concert stage @OOBBC Folsom Kraft Kitchen and Biergarten 5/19 from 7-11pm.  @FrankHannon FREE fan appreciation concert and CD release of his new album “From One Place to Another” Vol 2.  Come check out the legendary Tesla guitar player in action! pic.twitter.com/GmtJ2Yw5uG   \n18  He's going to insert a single Tesla matchbox car into the pussy and make motor noises. Revolutionary.                                                                                                                                                                                                   \n21  19 years ago the guy on the left had no chance at #Grimes.\\n#ElonMusk #Tesla pic.twitter.com/Y4uW6c9gyc                                                                                                                                                                                                 \n\n                      username  likes  replies  retweets  \n1   SpartanWire                 3      3        0         \n12  roB leixLip                 1      2        0         \n15  OutOfBoundsBrewing          3      0        0         \n18  Rev. Dr. Jacuzzi Toblerone  4      1        0         \n21  SpartanWire                 3      3        0         "
     },
     "execution_count": 10,
     "metadata": {},
     "output_type": "execute_result"
    }
   ],
   "source": [
    "# an important tweet will have at least one retweet (info spreading)\n",
    "# and several likes (attention, sentiment) or replies (discussion)\n",
    "best_tweets = tweets[(tweets['retweets']>0) | (tweets['likes']>1) | (tweets['replies']>1)]\n",
    "print(best_tweets.shape)\n",
    "\n",
    "# display whole tweet texts\n",
    "pd.set_option('display.max_colwidth', -1)\n",
    "best_tweets.head()"
   ]
  },
  {
   "cell_type": "code",
   "execution_count": 11,
   "metadata": {},
   "outputs": [
    {
     "name": "stdout",
     "output_type": "stream",
     "text": "(2023, 7)\n"
    },
    {
     "data": {
      "text/html": "<div>\n<style scoped>\n    .dataframe tbody tr th:only-of-type {\n        vertical-align: middle;\n    }\n\n    .dataframe tbody tr th {\n        vertical-align: top;\n    }\n\n    .dataframe thead th {\n        text-align: right;\n    }\n</style>\n<table border=\"1\" class=\"dataframe\">\n  <thead>\n    <tr style=\"text-align: right;\">\n      <th></th>\n      <th>timestamp</th>\n      <th>hashtags</th>\n      <th>text</th>\n      <th>username</th>\n      <th>likes</th>\n      <th>replies</th>\n      <th>retweets</th>\n    </tr>\n  </thead>\n  <tbody>\n    <tr>\n      <th>996</th>\n      <td>2018-03-18 23:49:05</td>\n      <td>[NikolaTesla, Inventor, MiningEngineer, ArmillarySphere, map, mine, globe, DeathRay, generators, turbines, drilling, towers, watertable, boreholes, world, earthcrust, mineraldeposits, Tesla, GoldWar, Conspiracypic]</td>\n      <td>#NikolaTesla #Inventor/#MiningEngineer used #ArmillarySphere to #map &amp; #mine #globe;#DeathRay #generators #turbines #drilling #towers &amp; covert specs note #watertable &amp; #boreholes depth of 300'-traveled #world punctured #earthcrust for #mineraldeposits?\\n#Tesla #GoldWar #Conspiracypic.twitter.com/olpjNzfafR</td>\n      <td>Ancient Investigations</td>\n      <td>2</td>\n      <td>0</td>\n      <td>2</td>\n    </tr>\n    <tr>\n      <th>1014</th>\n      <td>2018-03-18 23:44:45</td>\n      <td>[tesla, siemens, astronauts, medical, hospital, nasa, medicaldevice, tech, SiliconValleyHBO, Healthcare, space, astrophysics, doctor, nurses]</td>\n      <td>In the future #tesla will buy #siemens to use its medical devices for #astronauts on long trips to and from mars...(tgj) #medical #hospital #nasa #medicaldevice #tech #SiliconValleyHBO #Healthcare #space #astrophysics #doctor #nurses</td>\n      <td>the ghetto joker</td>\n      <td>1</td>\n      <td>0</td>\n      <td>1</td>\n    </tr>\n    <tr>\n      <th>1036</th>\n      <td>2018-03-18 23:36:51</td>\n      <td>[Nokia, Ericsson, IBM, Motorola, Samsung, HP, Sony, Comcast, Intel, Microsoft, Apple, Dell, Amazon, Netflix, Google, Salesforce, Tesla, Facebook, Twitter, Airbnb, Uber]</td>\n      <td>1865 #Nokia\\n1876 #Ericsson \\n1911 #IBM\\n1928 #Motorola\\n1938 #Samsung\\n1939 #HP\\n1946 #Sony\\n1963 #Comcast\\n1968 #Intel\\n1975 #Microsoft\\n1976 #Apple\\n1984 #Dell\\n1994 #Amazon\\n1997 #Netflix\\n1998 #Google\\n1999 #Salesforce\\n2003 #Tesla\\n2004 #Facebook\\n2006 #Twitter\\n2008 #Airbnb\\n2009 #Uber</td>\n      <td>Vanessa ₿</td>\n      <td>33</td>\n      <td>4</td>\n      <td>6</td>\n    </tr>\n    <tr>\n      <th>1079</th>\n      <td>2018-03-18 23:25:20</td>\n      <td>[ASX, dow, finance, Cobalt, Tesla, trump, NYSE, Steel, ElectricCar, rt, ausbiz]</td>\n      <td>$GPP  2M CR will be used to advance the Turesi Ridge drilling campaign at the Morabisi # Lithium project \\n14 x 2.2Li samples \\n#ASX #dow #finance $FMG #Cobalt $SQM #Tesla #trump #NYSE $CBA $ANZ $NAB $KDR $GXY $PLS $TLS #Steel #ElectricCar #rt #ausbiz\\n pic.twitter.com/JPXykbQ0Ur</td>\n      <td>The Sower🌾</td>\n      <td>0</td>\n      <td>1</td>\n      <td>1</td>\n    </tr>\n    <tr>\n      <th>1080</th>\n      <td>2018-03-18 23:25:14</td>\n      <td>[ASX, dow, finance, Cobalt, Tesla, trump, NYSE, Steel, ElectricCar, rt, ausbiz]</td>\n      <td>$GPP  2M CR will be used to advance the Turesi Ridge drilling campaign at the Morabisi # Lithium project \\n14 x 2.2Li samples \\n#ASX #dow #finance $FMG #Cobalt $SQM #Tesla #trump #NYSE $CBA $ANZ $NAB $KDR $GXY $PLS $TLS #Steel #ElectricCar #rt #ausbiz\\n pic.twitter.com/bOdsN03viZ</td>\n      <td>SeeThru👁</td>\n      <td>0</td>\n      <td>0</td>\n      <td>1</td>\n    </tr>\n  </tbody>\n</table>\n</div>",
      "text/plain": "               timestamp  \\\n996  2018-03-18 23:49:05   \n1014 2018-03-18 23:44:45   \n1036 2018-03-18 23:36:51   \n1079 2018-03-18 23:25:20   \n1080 2018-03-18 23:25:14   \n\n                                                                                                                                                                                                                    hashtags  \\\n996   [NikolaTesla, Inventor, MiningEngineer, ArmillarySphere, map, mine, globe, DeathRay, generators, turbines, drilling, towers, watertable, boreholes, world, earthcrust, mineraldeposits, Tesla, GoldWar, Conspiracypic]   \n1014  [tesla, siemens, astronauts, medical, hospital, nasa, medicaldevice, tech, SiliconValleyHBO, Healthcare, space, astrophysics, doctor, nurses]                                                                            \n1036  [Nokia, Ericsson, IBM, Motorola, Samsung, HP, Sony, Comcast, Intel, Microsoft, Apple, Dell, Amazon, Netflix, Google, Salesforce, Tesla, Facebook, Twitter, Airbnb, Uber]                                                 \n1079  [ASX, dow, finance, Cobalt, Tesla, trump, NYSE, Steel, ElectricCar, rt, ausbiz]                                                                                                                                          \n1080  [ASX, dow, finance, Cobalt, Tesla, trump, NYSE, Steel, ElectricCar, rt, ausbiz]                                                                                                                                          \n\n                                                                                                                                                                                                                                                                                                                     text  \\\n996   #NikolaTesla #Inventor/#MiningEngineer used #ArmillarySphere to #map & #mine #globe;#DeathRay #generators #turbines #drilling #towers & covert specs note #watertable & #boreholes depth of 300'-traveled #world punctured #earthcrust for #mineraldeposits?\\n#Tesla #GoldWar #Conspiracypic.twitter.com/olpjNzfafR   \n1014  In the future #tesla will buy #siemens to use its medical devices for #astronauts on long trips to and from mars...(tgj) #medical #hospital #nasa #medicaldevice #tech #SiliconValleyHBO #Healthcare #space #astrophysics #doctor #nurses                                                                             \n1036  1865 #Nokia\\n1876 #Ericsson \\n1911 #IBM\\n1928 #Motorola\\n1938 #Samsung\\n1939 #HP\\n1946 #Sony\\n1963 #Comcast\\n1968 #Intel\\n1975 #Microsoft\\n1976 #Apple\\n1984 #Dell\\n1994 #Amazon\\n1997 #Netflix\\n1998 #Google\\n1999 #Salesforce\\n2003 #Tesla\\n2004 #Facebook\\n2006 #Twitter\\n2008 #Airbnb\\n2009 #Uber                 \n1079  $GPP  2M CR will be used to advance the Turesi Ridge drilling campaign at the Morabisi # Lithium project \\n14 x 2.2Li samples \\n#ASX #dow #finance $FMG #Cobalt $SQM #Tesla #trump #NYSE $CBA $ANZ $NAB $KDR $GXY $PLS $TLS #Steel #ElectricCar #rt #ausbiz\\n pic.twitter.com/JPXykbQ0Ur                              \n1080  $GPP  2M CR will be used to advance the Turesi Ridge drilling campaign at the Morabisi # Lithium project \\n14 x 2.2Li samples \\n#ASX #dow #finance $FMG #Cobalt $SQM #Tesla #trump #NYSE $CBA $ANZ $NAB $KDR $GXY $PLS $TLS #Steel #ElectricCar #rt #ausbiz\\n pic.twitter.com/bOdsN03viZ                              \n\n                    username  likes  replies  retweets  \n996   Ancient Investigations  2      0        2         \n1014  the ghetto joker        1      0        1         \n1036  Vanessa ₿               33     4        6         \n1079  The Sower🌾              0      1        1         \n1080  SeeThru👁                0      0        1         "
     },
     "execution_count": 11,
     "metadata": {},
     "output_type": "execute_result"
    }
   ],
   "source": [
    "# remove tweets with too many hashtags, where 'tesla' is just a single one of \n",
    "# and looses its relevance this way\n",
    "\n",
    "# check such kind of tweets first, if they're really irrelevant\n",
    "too_many_tags = best_tweets[best_tweets['hashtags'].apply(lambda tags: len(tags)>10)==True]\n",
    "\n",
    "print(too_many_tags.shape)\n",
    "too_many_tags.head()"
   ]
  },
  {
   "cell_type": "code",
   "execution_count": 12,
   "metadata": {},
   "outputs": [
    {
     "name": "stdout",
     "output_type": "stream",
     "text": "(136478, 7)\n(134452, 7)\n"
    },
    {
     "data": {
      "text/html": "<div>\n<style scoped>\n    .dataframe tbody tr th:only-of-type {\n        vertical-align: middle;\n    }\n\n    .dataframe tbody tr th {\n        vertical-align: top;\n    }\n\n    .dataframe thead th {\n        text-align: right;\n    }\n</style>\n<table border=\"1\" class=\"dataframe\">\n  <thead>\n    <tr style=\"text-align: right;\">\n      <th></th>\n      <th>timestamp</th>\n      <th>hashtags</th>\n      <th>text</th>\n      <th>username</th>\n      <th>likes</th>\n      <th>replies</th>\n      <th>retweets</th>\n    </tr>\n  </thead>\n  <tbody>\n    <tr>\n      <th>1</th>\n      <td>2018-05-07 23:59:51</td>\n      <td>[Grimes, ElonMusk, Tesla]</td>\n      <td>19 years ago the guy on the left had no chance at #Grimes.\\n#ElonMusk #Tesla pic.twitter.com/Y4uW6c9gyc</td>\n      <td>SpartanWire</td>\n      <td>3</td>\n      <td>3</td>\n      <td>0</td>\n    </tr>\n    <tr>\n      <th>12</th>\n      <td>2018-05-07 23:57:37</td>\n      <td>[]</td>\n      <td>2 for 1 hotbox the Tesla be grand</td>\n      <td>roB leixLip</td>\n      <td>1</td>\n      <td>2</td>\n      <td>0</td>\n    </tr>\n    <tr>\n      <th>15</th>\n      <td>2018-05-07 23:57:17</td>\n      <td>[]</td>\n      <td>Live on the outdoor concert stage @OOBBC Folsom Kraft Kitchen and Biergarten 5/19 from 7-11pm.  @FrankHannon FREE fan appreciation concert and CD release of his new album “From One Place to Another” Vol 2.  Come check out the legendary Tesla guitar player in action! pic.twitter.com/GmtJ2Yw5uG</td>\n      <td>OutOfBoundsBrewing</td>\n      <td>3</td>\n      <td>0</td>\n      <td>0</td>\n    </tr>\n    <tr>\n      <th>18</th>\n      <td>2018-05-07 23:55:33</td>\n      <td>[]</td>\n      <td>He's going to insert a single Tesla matchbox car into the pussy and make motor noises. Revolutionary.</td>\n      <td>Rev. Dr. Jacuzzi Toblerone</td>\n      <td>4</td>\n      <td>1</td>\n      <td>0</td>\n    </tr>\n    <tr>\n      <th>21</th>\n      <td>2018-05-07 23:59:51</td>\n      <td>[Grimes, ElonMusk, Tesla]</td>\n      <td>19 years ago the guy on the left had no chance at #Grimes.\\n#ElonMusk #Tesla pic.twitter.com/Y4uW6c9gyc</td>\n      <td>SpartanWire</td>\n      <td>3</td>\n      <td>3</td>\n      <td>0</td>\n    </tr>\n  </tbody>\n</table>\n</div>",
      "text/plain": "             timestamp                   hashtags  \\\n1  2018-05-07 23:59:51  [Grimes, ElonMusk, Tesla]   \n12 2018-05-07 23:57:37  []                          \n15 2018-05-07 23:57:17  []                          \n18 2018-05-07 23:55:33  []                          \n21 2018-05-07 23:59:51  [Grimes, ElonMusk, Tesla]   \n\n                                                                                                                                                                                                                                                                                                     text  \\\n1   19 years ago the guy on the left had no chance at #Grimes.\\n#ElonMusk #Tesla pic.twitter.com/Y4uW6c9gyc                                                                                                                                                                                                 \n12  2 for 1 hotbox the Tesla be grand                                                                                                                                                                                                                                                                       \n15  Live on the outdoor concert stage @OOBBC Folsom Kraft Kitchen and Biergarten 5/19 from 7-11pm.  @FrankHannon FREE fan appreciation concert and CD release of his new album “From One Place to Another” Vol 2.  Come check out the legendary Tesla guitar player in action! pic.twitter.com/GmtJ2Yw5uG   \n18  He's going to insert a single Tesla matchbox car into the pussy and make motor noises. Revolutionary.                                                                                                                                                                                                   \n21  19 years ago the guy on the left had no chance at #Grimes.\\n#ElonMusk #Tesla pic.twitter.com/Y4uW6c9gyc                                                                                                                                                                                                 \n\n                      username  likes  replies  retweets  \n1   SpartanWire                 3      3        0         \n12  roB leixLip                 1      2        0         \n15  OutOfBoundsBrewing          3      0        0         \n18  Rev. Dr. Jacuzzi Toblerone  4      1        0         \n21  SpartanWire                 3      3        0         "
     },
     "execution_count": 12,
     "metadata": {},
     "output_type": "execute_result"
    }
   ],
   "source": [
    "# some tweets with many tags seem to be quite relevant, \n",
    "# so just remove those coming from specific users\n",
    "remove_users = ['ADRIAN AGUILAR', 'Our Creator', 'BlindFace', 'Bringitorc']\n",
    "\n",
    "print(best_tweets.shape)\n",
    "best_tweets = best_tweets[best_tweets['username'].apply(lambda user: user in remove_users)==False]\n",
    "\n",
    "# do remove tweets with too many tags\n",
    "best_tweets = best_tweets[best_tweets['hashtags'].apply(lambda tags: len(tags)>10)==False]\n",
    "print(best_tweets.shape)\n",
    "best_tweets.head()\n"
   ]
  },
  {
   "cell_type": "markdown",
   "metadata": {},
   "source": [
    "### Observation:\n",
    "Even after doing quite a lot of preprocessing, we still see some tweets that don't for sure contain relevant information. In the scope of this project, we stop the data cleaning at this moment, but would definitely do much more in a real world scenario, including collecting much more tweets.\n"
   ]
  },
  {
   "cell_type": "code",
   "execution_count": 13,
   "metadata": {},
   "outputs": [
    {
     "ename": "FileNotFoundError",
     "evalue": "[Errno 2] No such file or directory: '../data/processed/less_strict/tweets_2018_10.json'",
     "output_type": "error",
     "traceback": [
      "\u001b[0;31m---------------------------------------------------------------------------\u001b[0m",
      "\u001b[0;31mFileNotFoundError\u001b[0m                         Traceback (most recent call last)",
      "\u001b[0;32m<ipython-input-13-79fe9106a681>\u001b[0m in \u001b[0;36m<module>\u001b[0;34m\u001b[0m\n\u001b[1;32m      2\u001b[0m \u001b[0;32mif\u001b[0m \u001b[0mSAVE_DF\u001b[0m\u001b[0;34m:\u001b[0m\u001b[0;34m\u001b[0m\u001b[0;34m\u001b[0m\u001b[0m\n\u001b[1;32m      3\u001b[0m     \u001b[0mnum_tweets_cleaned\u001b[0m \u001b[0;34m=\u001b[0m \u001b[0mbest_tweets\u001b[0m\u001b[0;34m.\u001b[0m\u001b[0mshape\u001b[0m\u001b[0;34m[\u001b[0m\u001b[0;36m0\u001b[0m\u001b[0;34m]\u001b[0m\u001b[0;34m\u001b[0m\u001b[0;34m\u001b[0m\u001b[0m\n\u001b[0;32m----> 4\u001b[0;31m     \u001b[0mbest_tweets\u001b[0m\u001b[0;34m.\u001b[0m\u001b[0mto_json\u001b[0m\u001b[0;34m(\u001b[0m\u001b[0;34m'../data/processed/less_strict/'\u001b[0m\u001b[0;34m+\u001b[0m\u001b[0mfilename\u001b[0m\u001b[0;34m)\u001b[0m\u001b[0;34m\u001b[0m\u001b[0;34m\u001b[0m\u001b[0m\n\u001b[0m\u001b[1;32m      5\u001b[0m     \u001b[0mprint\u001b[0m\u001b[0;34m(\u001b[0m\u001b[0;34m'FINISHED SAVING {0} ({1:.0f}%) tweets!'\u001b[0m\u001b[0;34m.\u001b[0m\u001b[0mformat\u001b[0m\u001b[0;34m(\u001b[0m\u001b[0mnum_tweets_cleaned\u001b[0m\u001b[0;34m,\u001b[0m \u001b[0;36m100\u001b[0m\u001b[0;34m*\u001b[0m\u001b[0mnum_tweets_cleaned\u001b[0m\u001b[0;34m/\u001b[0m\u001b[0mnum_tweets_loaded\u001b[0m\u001b[0;34m)\u001b[0m\u001b[0;34m)\u001b[0m\u001b[0;34m\u001b[0m\u001b[0;34m\u001b[0m\u001b[0m\n",
      "\u001b[0;32m~/Documents/NLP4Web/.venv/lib64/python3.7/site-packages/pandas/core/generic.py\u001b[0m in \u001b[0;36mto_json\u001b[0;34m(self, path_or_buf, orient, date_format, double_precision, force_ascii, date_unit, default_handler, lines, compression, index, indent)\u001b[0m\n\u001b[1;32m   2362\u001b[0m             \u001b[0mcompression\u001b[0m\u001b[0;34m=\u001b[0m\u001b[0mcompression\u001b[0m\u001b[0;34m,\u001b[0m\u001b[0;34m\u001b[0m\u001b[0;34m\u001b[0m\u001b[0m\n\u001b[1;32m   2363\u001b[0m             \u001b[0mindex\u001b[0m\u001b[0;34m=\u001b[0m\u001b[0mindex\u001b[0m\u001b[0;34m,\u001b[0m\u001b[0;34m\u001b[0m\u001b[0;34m\u001b[0m\u001b[0m\n\u001b[0;32m-> 2364\u001b[0;31m             \u001b[0mindent\u001b[0m\u001b[0;34m=\u001b[0m\u001b[0mindent\u001b[0m\u001b[0;34m,\u001b[0m\u001b[0;34m\u001b[0m\u001b[0;34m\u001b[0m\u001b[0m\n\u001b[0m\u001b[1;32m   2365\u001b[0m         )\n\u001b[1;32m   2366\u001b[0m \u001b[0;34m\u001b[0m\u001b[0m\n",
      "\u001b[0;32m~/Documents/NLP4Web/.venv/lib64/python3.7/site-packages/pandas/io/json/_json.py\u001b[0m in \u001b[0;36mto_json\u001b[0;34m(path_or_buf, obj, orient, date_format, double_precision, force_ascii, date_unit, default_handler, lines, compression, index, indent)\u001b[0m\n\u001b[1;32m     90\u001b[0m \u001b[0;34m\u001b[0m\u001b[0m\n\u001b[1;32m     91\u001b[0m     \u001b[0;32mif\u001b[0m \u001b[0misinstance\u001b[0m\u001b[0;34m(\u001b[0m\u001b[0mpath_or_buf\u001b[0m\u001b[0;34m,\u001b[0m \u001b[0mstr\u001b[0m\u001b[0;34m)\u001b[0m\u001b[0;34m:\u001b[0m\u001b[0;34m\u001b[0m\u001b[0;34m\u001b[0m\u001b[0m\n\u001b[0;32m---> 92\u001b[0;31m         \u001b[0mfh\u001b[0m\u001b[0;34m,\u001b[0m \u001b[0mhandles\u001b[0m \u001b[0;34m=\u001b[0m \u001b[0mget_handle\u001b[0m\u001b[0;34m(\u001b[0m\u001b[0mpath_or_buf\u001b[0m\u001b[0;34m,\u001b[0m \u001b[0;34m\"w\"\u001b[0m\u001b[0;34m,\u001b[0m \u001b[0mcompression\u001b[0m\u001b[0;34m=\u001b[0m\u001b[0mcompression\u001b[0m\u001b[0;34m)\u001b[0m\u001b[0;34m\u001b[0m\u001b[0;34m\u001b[0m\u001b[0m\n\u001b[0m\u001b[1;32m     93\u001b[0m         \u001b[0;32mtry\u001b[0m\u001b[0;34m:\u001b[0m\u001b[0;34m\u001b[0m\u001b[0;34m\u001b[0m\u001b[0m\n\u001b[1;32m     94\u001b[0m             \u001b[0mfh\u001b[0m\u001b[0;34m.\u001b[0m\u001b[0mwrite\u001b[0m\u001b[0;34m(\u001b[0m\u001b[0ms\u001b[0m\u001b[0;34m)\u001b[0m\u001b[0;34m\u001b[0m\u001b[0;34m\u001b[0m\u001b[0m\n",
      "\u001b[0;32m~/Documents/NLP4Web/.venv/lib64/python3.7/site-packages/pandas/io/common.py\u001b[0m in \u001b[0;36mget_handle\u001b[0;34m(path_or_buf, mode, encoding, compression, memory_map, is_text)\u001b[0m\n\u001b[1;32m    429\u001b[0m         \u001b[0;32melif\u001b[0m \u001b[0mis_text\u001b[0m\u001b[0;34m:\u001b[0m\u001b[0;34m\u001b[0m\u001b[0;34m\u001b[0m\u001b[0m\n\u001b[1;32m    430\u001b[0m             \u001b[0;31m# No explicit encoding\u001b[0m\u001b[0;34m\u001b[0m\u001b[0;34m\u001b[0m\u001b[0;34m\u001b[0m\u001b[0m\n\u001b[0;32m--> 431\u001b[0;31m             \u001b[0mf\u001b[0m \u001b[0;34m=\u001b[0m \u001b[0mopen\u001b[0m\u001b[0;34m(\u001b[0m\u001b[0mpath_or_buf\u001b[0m\u001b[0;34m,\u001b[0m \u001b[0mmode\u001b[0m\u001b[0;34m,\u001b[0m \u001b[0merrors\u001b[0m\u001b[0;34m=\u001b[0m\u001b[0;34m\"replace\"\u001b[0m\u001b[0;34m,\u001b[0m \u001b[0mnewline\u001b[0m\u001b[0;34m=\u001b[0m\u001b[0;34m\"\"\u001b[0m\u001b[0;34m)\u001b[0m\u001b[0;34m\u001b[0m\u001b[0;34m\u001b[0m\u001b[0m\n\u001b[0m\u001b[1;32m    432\u001b[0m         \u001b[0;32melse\u001b[0m\u001b[0;34m:\u001b[0m\u001b[0;34m\u001b[0m\u001b[0;34m\u001b[0m\u001b[0m\n\u001b[1;32m    433\u001b[0m             \u001b[0;31m# Binary mode\u001b[0m\u001b[0;34m\u001b[0m\u001b[0;34m\u001b[0m\u001b[0;34m\u001b[0m\u001b[0m\n",
      "\u001b[0;31mFileNotFoundError\u001b[0m: [Errno 2] No such file or directory: '../data/processed/less_strict/tweets_2018_10.json'"
     ]
    }
   ],
   "source": [
    "SAVE_DF = True\n",
    "if SAVE_DF:\n",
    "    num_tweets_cleaned = best_tweets.shape[0]\n",
    "    best_tweets.to_json('../data/processed/less_strict/'+filename)\n",
    "    print('FINISHED SAVING {0} ({1:.0f}%) tweets!'.format(num_tweets_cleaned, 100*num_tweets_cleaned/num_tweets_loaded))"
   ]
  }
 ],
 "metadata": {
  "kernelspec": {
   "display_name": "Python 3",
   "language": "python",
   "name": "python3"
  },
  "language_info": {
   "codemirror_mode": {
    "name": "ipython",
    "version": 3
   },
   "file_extension": ".py",
   "mimetype": "text/x-python",
   "name": "python",
   "nbconvert_exporter": "python",
   "pygments_lexer": "ipython3",
   "version": "3.7.6-final"
  }
 },
 "nbformat": 4,
 "nbformat_minor": 4
}